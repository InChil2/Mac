{
 "cells": [
  {
   "cell_type": "code",
   "execution_count": null,
   "source": [
    "# 화면에 표시할 행과 열의 최대 갯 수\n",
    "import pandas as pd\n",
    "df_auto = pd.read_csv('dataset/auto-mpg.csv')\n",
    "\n",
    "pd.options.display.max_rows = 9\n",
    "pd.options.display.max_columns = 10\n",
    "\n",
    "# pd.set_option('max_rows', 5)\n",
    "# pd.set_option('max_columns', 10)\n",
    "\n",
    "df_auto\n"
   ],
   "outputs": [],
   "metadata": {}
  },
  {
   "cell_type": "code",
   "execution_count": null,
   "source": [
    "# df_auto 데이터 세트에 대한 파악 내용을 기술하세요.\n",
    "# df_auto.info() # 데이터 정보\n",
    "# df_auto.shape # 데이터 형태 파악\n",
    "df_auto.describe() # 데이터 요약"
   ],
   "outputs": [],
   "metadata": {}
  },
  {
   "cell_type": "code",
   "execution_count": null,
   "source": [
    "mcar.horsepower.value_counts() # 값이 몇개 있는지\n",
    "mcar.horsepower.unique()"
   ],
   "outputs": [],
   "metadata": {}
  },
  {
   "cell_type": "code",
   "execution_count": null,
   "source": [
    "df_auto.columns"
   ],
   "outputs": [],
   "metadata": {}
  },
  {
   "cell_type": "code",
   "execution_count": null,
   "source": [
    "pd.options.display.max_rows = 5\n",
    "columns = ['car name', 'mpg', 'cylinders', 'displacement', 'horsepower', 'weight',\n",
    "       'acceleration', 'model year', 'origin']\n",
    "\n",
    "mtcars = df_auto[columns] #af_auto의 컬럼명을[columns라는 변수]로 변경\n",
    "mtcars.to_csv('dataset/mtcars.csv',index=None) # index=None 해서 빈 공간 X index_col=car name / car name이 인덱스로 변경 됨\n",
    "\n",
    "mtcars = pd.read_csv('dataset/mtcars.csv')\n",
    "mtcars"
   ],
   "outputs": [],
   "metadata": {}
  },
  {
   "cell_type": "code",
   "execution_count": null,
   "source": [
    "# 원하는 행과 열 선택\n",
    "import warnings\n",
    "mtcar_3 = df_auto.head(3) # 앞에서 3개의 행만 표시\n",
    "mtcar_3.drop('car name',axis=1,inplace=True) # car name 을 삭제하고 나머지 열만 표시\n",
    "mtcar_3"
   ],
   "outputs": [],
   "metadata": {}
  },
  {
   "cell_type": "code",
   "execution_count": null,
   "source": [
    "mtcars_2 = mtcars[['car name','mpg', 'model year']] # 필요한 열만 가져오기\n",
    "mtcars_2"
   ],
   "outputs": [],
   "metadata": {}
  },
  {
   "cell_type": "code",
   "execution_count": null,
   "source": [
    "# 필요한 행과 열만 가져오기\n",
    "mtcars_2 = mtcars[['car name','mpg', 'model year']][5:8]\n",
    "mtcars_2"
   ],
   "outputs": [],
   "metadata": {}
  },
  {
   "cell_type": "code",
   "execution_count": null,
   "source": [
    "mtcars_4 = mtcars.iloc[5:8,0:6] # iloc로 행과 열 선택 추출\n",
    "mtcars_4"
   ],
   "outputs": [],
   "metadata": {}
  },
  {
   "cell_type": "code",
   "execution_count": null,
   "source": [
    "# 과제\n",
    "# iloc, loc를 사용하여 다른 방법으로 \n",
    "# mtcars[['car name','mpg', 'model year']][5:8] 와 동일하게 출력하세요."
   ],
   "outputs": [],
   "metadata": {}
  },
  {
   "cell_type": "code",
   "execution_count": null,
   "source": [
    "mcar = mtcars.copy()\n",
    "mcar1 = mcar.set_index('car name') # car name 을 인덱스로 사용\n",
    "mcar1"
   ],
   "outputs": [],
   "metadata": {}
  },
  {
   "cell_type": "code",
   "execution_count": null,
   "source": [
    "mcar = mcar1.reset_index() # 인덱스를 원래대로 복원\n",
    "mcar"
   ],
   "outputs": [],
   "metadata": {}
  },
  {
   "cell_type": "code",
   "execution_count": null,
   "source": [
    "mcar.to_csv('dataset/mcar.csv',index=None)\n",
    "mcar = pd.read_csv('dataset/mcar.csv')\n",
    "mcar"
   ],
   "outputs": [],
   "metadata": {}
  },
  {
   "cell_type": "code",
   "execution_count": null,
   "source": [
    "pd.set_option('max_rows', 10)\n",
    "pd.set_option('max_columns', 10)\n",
    "mcar.describe()\n",
    "# mcar.mpg.describe() #mpg의 값만 보고 싶을 때\n",
    "# 정규화 할 때 max값 min값을 0 ~ 1 단위로 바꾸기 (상대적으로 모든 값을 일정하게 맞춤)\n",
    "# 이상치(outlier) : 특정 평균보다 차이가 많이 나는 값\n",
    "# 정규화 : 데이터를 상대적 크기에 대한 영향을 줄이기 위해 데이터 범위를 0~1사이로 바꾸는것\n",
    "# 표준화 : 데이터가 평균으로 부터 얼마나 떨어져있는지 나타내는 값. (특정 범위를 벗어난 데이터는 제거)"
   ],
   "outputs": [],
   "metadata": {}
  },
  {
   "cell_type": "code",
   "execution_count": null,
   "source": [
    "mcar.info()\n",
    "# horsepower가 문자열인 이유 = 중간에 ?가 껴 있음\n",
    "# sickit-learn을 사용할 때 문자열을 숫자로 바꿔줘야 됨\n",
    "# 값의 스케일이 커지면 정규화를 진행해야됨(스케일이 큰 컬럼이 모델에 반영되는 영향력이 높아짐 그래서 일정하게 정규화를 진행해야됨)\n",
    "# 정규화란? : https://velog.io/@wldus9503/%EB%8D%B0%EC%9D%B4%ED%84%B0%EB%B2%A0%EC%9D%B4%EC%8A%A4-%EC%A0%95%EA%B7%9C%ED%99%94Normalization%EB%9E%80"
   ],
   "outputs": [],
   "metadata": {}
  },
  {
   "cell_type": "code",
   "execution_count": null,
   "source": [
    "# 자동차 연비에 영향을 주는 변수를 선택하여 연비 예측 모델을 생성\n",
    "mcar1 = mcar.drop(['car name','horsepower'],axis=1)\n",
    "mcar1.head()"
   ],
   "outputs": [],
   "metadata": {}
  },
  {
   "cell_type": "code",
   "execution_count": null,
   "source": [
    "import seaborn as sns\n",
    "sns.pairplot(mcar1) # 산점도 출력"
   ],
   "outputs": [],
   "metadata": {}
  },
  {
   "cell_type": "code",
   "execution_count": null,
   "source": [
    "# 상관 관계 / 0은 관계가 없음 / 일반적으로 0.7 이상이면 높은 상관관계 케바케 / 실제 데이터로 프로젝트시 0.2만 되어도 높다 평가함\n",
    "mcar1.corr()\n",
    "# 머신러닝\n",
    "# 딥러닝은 이미지, 텍스트, 자연어처리, 음성 / 많은 데이터를 줘야하는데 쉽지 않음 "
   ],
   "outputs": [],
   "metadata": {}
  },
  {
   "cell_type": "code",
   "execution_count": null,
   "source": [
    "# 최적의 컬럼 선택하여 분석용 데이터 셋 구축 - Feature engineering\n",
    "mcar2 = mcar1[['mpg','weight']]\n",
    "mcar2.head()"
   ],
   "outputs": [],
   "metadata": {}
  },
  {
   "cell_type": "code",
   "execution_count": null,
   "source": [
    "# y = ax + b  # x = weight ,a = 기울기 , b = 절편\n",
    "# y = 3x + 1\n",
    "# y = 5x + 1\n",
    "# 좀 더 정확한 기울기를 찾기 : 머신러닝"
   ],
   "outputs": [],
   "metadata": {}
  },
  {
   "cell_type": "code",
   "execution_count": null,
   "source": [
    "# Counter\n",
    "from collections import Counter\n",
    "my_list = ['a','b','c','a','b','c','a']\n",
    "count = Counter(my_list)\n",
    "print(count)\n",
    "words = dict(count.most_common(n=2))\n",
    "print(words) # b가 먼저 나와서 출력됨"
   ],
   "outputs": [],
   "metadata": {}
  },
  {
   "cell_type": "code",
   "execution_count": null,
   "source": [
    "# 반올림\n",
    "import pandas as pd\n",
    "import numpy as np\n",
    "\n",
    "col1 = np.random.uniform(10,20,size=10) # 10 ~ 20 사이의 실수 10개 / 실수 : uniform / 정수 : randint\n",
    "col2 = np.random.uniform(10,20,size=10)\n",
    "sr1 = pd.Series(col1,name = 'col1')\n",
    "sr2 = pd.Series(col2,name = 'col2')\n",
    "df = pd.concat([sr1,sr2],axis=1)\n",
    "df = df.round({'col1':2,'col2':1}) # 딕셔너리 키 값 별로 소수점 자리 수 주기(반올림)\n",
    "df.head(3)"
   ],
   "outputs": [],
   "metadata": {}
  },
  {
   "cell_type": "code",
   "execution_count": null,
   "source": [
    "# 널 값 주기\n",
    "# df.iloc[1:3,:] = None\n",
    "df.iloc[1:3,:] = np.nan\n",
    "df.head(3)"
   ],
   "outputs": [],
   "metadata": {}
  },
  {
   "cell_type": "code",
   "execution_count": null,
   "source": [
    "df.fillna(0,inplace=True) # Null 값 채우기 / fillna = na 를 채우는 함수\n",
    "# df = df.astype(int) # df의 Dtype을 정수로 전부 바꿈\n",
    "df = df.astype({'col1' : 'int','col2' : 'float'}) # df의 키 값 별로 Dtype을 바꿀 수 있음\n",
    "df.info()"
   ],
   "outputs": [],
   "metadata": {}
  },
  {
   "cell_type": "code",
   "execution_count": null,
   "source": [
    "df['col0'] = list('abcdefghij')\n",
    "df.set_index('col0',inplace=True) # col0를 인덱스 값으로 주기\n",
    "df.head(3)"
   ],
   "outputs": [],
   "metadata": {}
  },
  {
   "cell_type": "code",
   "execution_count": null,
   "source": [
    "df1 = df.copy()\n",
    "df1.loc['c','col2'] = np.nan # 선택한 행과 열 자리에 Nan값 주기\n",
    "df1.head()"
   ],
   "outputs": [],
   "metadata": {}
  },
  {
   "cell_type": "code",
   "execution_count": null,
   "source": [
    "# col2의 평균 값을 null값을 대체하세요\n",
    "# df3 = df1.loc['c','col2'] = df1['col2'].mean()\n",
    "# df3 = df1.replace(np.nan,df1['col2'].mean())\n",
    "# df3 = df1.replace(np.nan,df1.describe()['col2']['mean'])\n",
    "df3 = df1.fillna(df1['col2'].mean())\n",
    "df3 = df3.round({'col2':2})\n",
    "df3.head()"
   ],
   "outputs": [],
   "metadata": {}
  },
  {
   "cell_type": "code",
   "execution_count": null,
   "source": [
    "df3 = df3.astype({'col2':'int'}) # col2를 정수로 변환하여 출력\n",
    "# df3['col2'] = df3.col2.astype(int) # 시리즈로 출력됨\n",
    "df3.head()"
   ],
   "outputs": [],
   "metadata": {}
  },
  {
   "cell_type": "code",
   "execution_count": null,
   "source": [
    "df3.iloc[1:3,1:2] = np.nan\n",
    "df3.head()"
   ],
   "outputs": [],
   "metadata": {}
  },
  {
   "cell_type": "code",
   "execution_count": null,
   "source": [
    "# Null 값이 있는 행 삭제\n",
    "df3.dropna(subset=['col2'],inplace=True)\n",
    "# df3.dropna(axis=0)\n",
    "df3.head()"
   ],
   "outputs": [],
   "metadata": {}
  },
  {
   "cell_type": "code",
   "execution_count": null,
   "source": [
    "# df1 = df1.astype({'col2':'int'})\n",
    "df1 = df1.fillna(df1['col2'].mean())\n",
    "df1['col2'] = df1.col2.astype(int)\n",
    "df1"
   ],
   "outputs": [],
   "metadata": {}
  },
  {
   "cell_type": "code",
   "execution_count": null,
   "source": [
    "df2 = df1.reset_index()\n",
    "df2.head()"
   ],
   "outputs": [],
   "metadata": {}
  },
  {
   "cell_type": "code",
   "execution_count": null,
   "source": [
    "df3 = df2.reindex(index=[1,2],columns=['col1','col2'])\n",
    "df3"
   ],
   "outputs": [],
   "metadata": {}
  },
  {
   "cell_type": "code",
   "execution_count": null,
   "source": [
    "df4 = df2.reindex(index=[3,4],columns=['col1','col2'])\n",
    "df4"
   ],
   "outputs": [],
   "metadata": {}
  },
  {
   "cell_type": "code",
   "execution_count": null,
   "source": [
    "# df5 = df2.reindex(columns=['col1','col2'])\n",
    "df5 = df2.reindex(['col1','col2'],axis=1)\n",
    "df5.head()"
   ],
   "outputs": [],
   "metadata": {}
  },
  {
   "cell_type": "code",
   "execution_count": null,
   "source": [
    "df6 = df2.reindex([1,3],axis=0)\n",
    "# df6 = df2.reindex([1,3],axis='index')\n",
    "df6"
   ],
   "outputs": [],
   "metadata": {}
  },
  {
   "cell_type": "code",
   "execution_count": null,
   "source": [
    "import numpy as np\n",
    "import pandas as pd\n",
    "data1 = np.arange(1,21).reshape(4,5)\n",
    "data2 = np.arange(11,31).reshape(5,4)\n",
    "df1 = pd.DataFrame(data1,columns=list('abcde'))\n",
    "df2 = pd.DataFrame(data2,columns=list('dehi'))\n",
    "print(df1,'\\n')\n",
    "print(df2)\n"
   ],
   "outputs": [],
   "metadata": {}
  },
  {
   "cell_type": "code",
   "execution_count": null,
   "source": [
    "# con1 = pd.concat([df1,df2],axis=0)\n",
    "con1 = pd.concat([df1,df2],axis=0, ignore_index=True) #ignore_index = 새로운 인덱스 넘버 부여\n",
    "con1"
   ],
   "outputs": [],
   "metadata": {}
  },
  {
   "cell_type": "code",
   "execution_count": null,
   "source": [
    "con2 = pd.concat([df1,df2],axis=1)\n",
    "con2"
   ],
   "outputs": [],
   "metadata": {}
  },
  {
   "cell_type": "code",
   "execution_count": null,
   "source": [
    "df1['ind'] = [1,2,3,4]\n",
    "df2['ind'] = [1,2,3,4,5]\n",
    "print(df1,'\\n')\n",
    "print(df2)"
   ],
   "outputs": [],
   "metadata": {}
  },
  {
   "cell_type": "code",
   "execution_count": null,
   "source": [
    "# merge()를 이용한 결합\n",
    "# on : label or list\n",
    "#     Column or index level names to join on. These must be found in both\n",
    "#     DataFrames. If `on` is None and not merging on indexes then this defaults\n",
    "#     to the intersection of the columns in both DataFrames.\n",
    "# pd.merge(df1,df2,on='ind',how='outer') # 합집합 공통된 컬럼 기준\n",
    "pd.merge(df1,df2,on='ind',how='inner') # 교집합 inner = default"
   ],
   "outputs": [],
   "metadata": {}
  },
  {
   "cell_type": "code",
   "execution_count": null,
   "source": [
    "df1 = df1.drop('ind',axis=1)\n",
    "df2 = df2.drop('ind',axis=1)\n"
   ],
   "outputs": [],
   "metadata": {}
  },
  {
   "cell_type": "code",
   "execution_count": null,
   "source": [
    "# join은 인덱스 기준으로 결합(default는 교집합)\n",
    "# df1.join(df2,lsuffix='_1',rsuffix='_2') # 중복된 걸 분리해줌 suffix를 사용하려면 _를 붙여야함\n",
    "df1.join(df2,lsuffix='_1',rsuffix='_2',how='inner') #default = inner\n"
   ],
   "outputs": [],
   "metadata": {}
  },
  {
   "cell_type": "code",
   "execution_count": null,
   "source": [
    "df1.join(df2,lsuffix='_1',rsuffix='_2',how='outer') #합집합"
   ],
   "outputs": [],
   "metadata": {}
  },
  {
   "cell_type": "code",
   "execution_count": null,
   "source": [
    "df1['ind'] = [1,2,3,4]\n",
    "df2['ind'] = [1,2,3,4,5]\n",
    "print(df1,'\\n')\n",
    "print(df2)"
   ],
   "outputs": [],
   "metadata": {}
  },
  {
   "cell_type": "code",
   "execution_count": null,
   "source": [
    "# index='ind' 기준으로 교집합\n",
    "df1.set_index('ind').join(df2.set_index('ind'),lsuffix='_1',rsuffix='_2')"
   ],
   "outputs": [],
   "metadata": {}
  },
  {
   "cell_type": "code",
   "execution_count": null,
   "source": [
    "# index='ind' 기준으로 합집합\n",
    "df1.set_index('ind').join(df2.set_index('ind'),lsuffix='_1',rsuffix='_2',on='ind',how='outer') #on='ind'를 하면 하나의 컬럼으로 처리"
   ],
   "outputs": [],
   "metadata": {}
  },
  {
   "cell_type": "code",
   "execution_count": null,
   "source": [
    "# a, b  컬럼의 평균\n",
    "print(df1.describe()['a']['mean'])\n",
    "print(df1.describe()['b']['mean'])\n",
    "\n",
    "df1[['a','b']].mean()"
   ],
   "outputs": [],
   "metadata": {}
  },
  {
   "cell_type": "code",
   "execution_count": null,
   "source": [
    "df1.count()"
   ],
   "outputs": [],
   "metadata": {}
  },
  {
   "cell_type": "code",
   "execution_count": null,
   "source": [
    "\n",
    "data = np.arange(1,22).reshape(7,3)\n",
    "df = pd.DataFrame(data,columns=list('123'),index=list('1122333'))\n",
    "df"
   ],
   "outputs": [],
   "metadata": {}
  },
  {
   "cell_type": "code",
   "execution_count": null,
   "source": [
    "df.reset_index(inplace=True) # 인덱스를 컬럼으로 밀어내고 새로운 인덱스 넘버를 부여\n",
    "df"
   ],
   "outputs": [],
   "metadata": {}
  },
  {
   "cell_type": "code",
   "execution_count": null,
   "source": [
    "# 과제\n",
    "#1 index 를 기준으로 3개 그룹으로 구분하여 a:평균, b:최대값, c:합계\n",
    "def h_sum(s):\n",
    "    return s.sum()\n",
    "\n",
    "def h_max(s):\n",
    "    return s.max()\n",
    "\n",
    "def h_mean(s):\n",
    "    return s.mean()\n",
    "d_g = df.groupby('index')# index 컬럼에 1, 2, 3 별로 그룹을 나눔\n",
    "d_g.agg({'1':h_mean,'2':h_max,'3':h_sum}) # 1번 컬럼 = h_mean 사용자 함수 적용/ 2번 컬럼 = h_max 함수 적용 / 3번 컬럼 = h_sum 함수 적용"
   ],
   "outputs": [],
   "metadata": {}
  },
  {
   "cell_type": "code",
   "execution_count": null,
   "source": [
    "#2 dec\n",
    "#  열의 NaN 갯 수를 계산하세요.\n",
    "import seaborn as sns\n",
    "titanic_df = sns.load_dataset('titanic')\n",
    "titanic_df.head()\n",
    "rs = titanic_df['deck'].isnull().sum()\n",
    "print('NaN 수는',rs,'개 입니다')"
   ],
   "outputs": [],
   "metadata": {}
  },
  {
   "cell_type": "code",
   "execution_count": null,
   "source": [
    "#3 titanic_df의 처음 5개 행에서 null 값을 찾아 출력하세요 (True,False로)(boolean)\n",
    "titanic_df[1:6].isnull()"
   ],
   "outputs": [],
   "metadata": {}
  },
  {
   "cell_type": "code",
   "execution_count": null,
   "source": [
    "#4 titanic_df의 각 컬럼별 null의 갯 수를 for 반복문을 사용해서 구한 후 출력\n",
    "#(missing_count는 예외처리하고 처리 방식은 0을 출력함 / null 값이 없으면 0)\n",
    "############################################################################\n",
    "#                   For 문 안쓰고 일괄 처리 하는 방법\n",
    "# total = titanic_df.isnull().sum()\n",
    "# total\n",
    "############################################################################\n",
    "\n",
    "for i, v in titanic_df.iteritems():\n",
    "    print(i,v.isnull().sum())"
   ],
   "outputs": [],
   "metadata": {}
  },
  {
   "cell_type": "code",
   "execution_count": null,
   "source": [
    "missing_df = titanic_df.isnull()\n",
    "for col in missing_df.columns:\n",
    "    missing_count = missing_df[col].value_counts()\n",
    "    try:\n",
    "        print(col,':',missing_count[True])\n",
    "    except:\n",
    "        print(col,':',0)"
   ],
   "outputs": [],
   "metadata": {}
  },
  {
   "cell_type": "code",
   "execution_count": null,
   "source": [
    "#5 'mpg'를 'kpl'로 환산하여 새로운 열을 생성하고 처음 3개 행을 소수점 아래\n",
    "# 둘째 자리에서 반올림하여 출력하세요.\n",
    "def tran(a):\n",
    "    result = a * 0.425\n",
    "    return result \n",
    "import pandas as pd\n",
    "auto_df = pd.read_csv('dataset/auto-mpg.csv')\n",
    "rsd = auto_df.agg({'mpg':tran})\n",
    "rsd.rename(columns={'mpg':'kpl'},inplace=True)\n",
    "rsd[0:3].round(2)"
   ],
   "outputs": [],
   "metadata": {}
  },
  {
   "cell_type": "code",
   "execution_count": null,
   "source": [
    "#6 titanic_df 데이터 셋을 전처리하고 탐색하여 데이터 셋에 대한 설명 및\n",
    "# 분석 과제를 기술하세요 (전처리 최소 5개 이상)\n",
    "# 타이타닉 생존률에 영향을 끼친 요인들 파악\n",
    "import pandas as pd\n",
    "import missingno as miso # 데이터에서 Null값을 시각화 해주는 라이브러리\n",
    "pd.set_option('max_columns',15)\n",
    "#---------------------------------(데이터 탐색)----------------------------------------\n",
    "#titanic_df.corr() # 데이터 상관관계 파악\n",
    "miso.matrix(df = titanic_df.iloc[:,:], figsize=(8,8),color=(0.5,0.5,0.5)) # 결측 데이터 탐색  #deck는 선실 고유번호라 생존률이랑 상괸 X\n",
    "# #데이터 프레임의 행렬을 유무로 파악해 Null 값을 시각화 figsize = 크기 color = RGB\n",
    "\n"
   ],
   "outputs": [],
   "metadata": {}
  },
  {
   "cell_type": "code",
   "execution_count": null,
   "source": [
    "#-----------------------------------------------------------------------------------\n",
    "titanic_df.dropna(axis=1,inplace=True) # 결측치가 있는 컬럼을 지움 / 출발지,나이,선실 고유번호,출발지 이니셜\n",
    "tgen = titanic_df[['sex','survived']].groupby(['sex']).count() # 성별 사람 수 출력\n",
    "gen = titanic_df[['sex','survived']].groupby(['sex']).sum() # 성별 생존자 수 출력\n",
    "tcla = titanic_df[['pclass','survived']].groupby(['pclass']).count() # 클래스 별 사람 수 출력\n",
    "cla = titanic_df[['pclass','survived']].groupby(['pclass']).sum() # 클래스 별 생존자 수\n",
    "\n",
    "g_t = gen.join(tgen,lsuffix='_1',rsuffix='_total',how='outer') # 성별 생존자 / 탑승자 수\n",
    "c_t = cla.join(tcla,lsuffix='_1',rsuffix='_total',how='outer') # 객실 등급별 생존자 / 탑승자 수\n",
    "\n",
    "print('성별 생존자 탑승자 비교')\n",
    "print(g_t,'\\n')\n",
    "print('객실 등급 별 생존자 탑승자 비교')\n",
    "print(c_t,'\\n')"
   ],
   "outputs": [],
   "metadata": {}
  },
  {
   "cell_type": "code",
   "execution_count": null,
   "source": [
    "# groupby\n",
    "import seaborn as sns\n",
    "titanic_df = sns.load_dataset('titanic')\n",
    "titanic_df.head()"
   ],
   "outputs": [],
   "metadata": {}
  },
  {
   "cell_type": "code",
   "execution_count": null,
   "source": [
    "tdf = titanic_df.copy()\n",
    "tdf.sex.value_counts()"
   ],
   "outputs": [],
   "metadata": {}
  },
  {
   "cell_type": "code",
   "execution_count": null,
   "source": [],
   "outputs": [],
   "metadata": {}
  },
  {
   "cell_type": "code",
   "execution_count": null,
   "source": [
    "tdf.groupby('sex').count()"
   ],
   "outputs": [],
   "metadata": {}
  },
  {
   "cell_type": "code",
   "execution_count": null,
   "source": [],
   "outputs": [],
   "metadata": {}
  },
  {
   "cell_type": "code",
   "execution_count": null,
   "source": [
    "tdf.groupby('sex').apply(lambda x: x.count())[['survived']] # survived의 성별만 출력 lambda 함수 적용해서 카운트"
   ],
   "outputs": [],
   "metadata": {}
  },
  {
   "cell_type": "code",
   "execution_count": null,
   "source": [],
   "outputs": [],
   "metadata": {}
  },
  {
   "cell_type": "code",
   "execution_count": null,
   "source": [
    "# sibsp, parch 컬럼 원소에 1을 추가해 주세요\n",
    "\n",
    "tdf_e1 = tdf[['parch','sibsp']].apply(lambda x: x + 1)\n",
    "tdf_e1"
   ],
   "outputs": [],
   "metadata": {}
  },
  {
   "cell_type": "code",
   "execution_count": null,
   "source": [],
   "outputs": [],
   "metadata": {}
  },
  {
   "cell_type": "code",
   "execution_count": null,
   "source": [
    "# 사용자 함수를 사용해 대문자로 바꿔주기\n",
    "def uppercase(x):\n",
    "    return x.upper()\n",
    "\n",
    "tdf.sex.apply(uppercase)[:3] # tdf.sex라는 시리즈에 uppercase를 적용  결과 : 시리즈 출력"
   ],
   "outputs": [],
   "metadata": {}
  },
  {
   "cell_type": "code",
   "execution_count": null,
   "source": [
    "len(tdf.age.unique())"
   ],
   "outputs": [],
   "metadata": {}
  },
  {
   "cell_type": "code",
   "execution_count": null,
   "source": [
    "# age 컬럼을 범주화하여 새로운 age_class 컬럼을 생성하세요\n",
    "def age_tran(a):\n",
    "    if a < 16:\n",
    "        a = '어린이'\n",
    "    elif a < 31:\n",
    "        a = '청년'\n",
    "    elif a < 51:\n",
    "        a = '장년'\n",
    "    elif a < 66:\n",
    "        a = '중년'\n",
    "    else:\n",
    "        a = '노년'\n",
    "    return a\n",
    "tdf_1 = tdf.copy()\n",
    "\n",
    "tdf_1['age'] = tdf['age'].fillna(int(tdf.age.mean()))\n",
    "age_class = tdf['age'].apply(age_tran)\n",
    "tdf_1['age_class'] = age_class\n",
    "tdf_1"
   ],
   "outputs": [],
   "metadata": {}
  },
  {
   "cell_type": "code",
   "execution_count": null,
   "source": [
    "tdf_1.age_class.value_counts()"
   ],
   "outputs": [],
   "metadata": {}
  },
  {
   "cell_type": "code",
   "execution_count": null,
   "source": [
    "df1 = tdf[['survived','pclass','sex']]\n",
    "df1"
   ],
   "outputs": [],
   "metadata": {}
  },
  {
   "cell_type": "code",
   "execution_count": null,
   "source": [
    "# df1에서 pclass가 3인 승객의 수를 구하세요\n",
    "res_1 = df1['pclass'].value_counts()[3] # pclass 컬럼의 3의 값의 수를 카운트 하라\n",
    "res_1"
   ],
   "outputs": [],
   "metadata": {}
  },
  {
   "cell_type": "code",
   "execution_count": null,
   "source": [
    "len(list(filter(lambda a : a == 3,df1.pclass)))"
   ],
   "outputs": [],
   "metadata": {}
  },
  {
   "cell_type": "code",
   "execution_count": null,
   "source": [
    "tdf.embark_town.isnull().sum()"
   ],
   "outputs": [],
   "metadata": {}
  },
  {
   "cell_type": "code",
   "execution_count": null,
   "source": [
    "# embark_town 열의 NaN 값을 바로 앞에 있는 값으로 변경\n",
    "tdf.embark_town.fillna(method='ffill',inplace=True)\n",
    "# embark_town 열의 NaN 값을 바로 뒤에 있는 값으로 변경\n",
    "# tdf.embark_town.fillna(method='bfill',inplace=True)\n",
    "tdf.embark_town[827:831]"
   ],
   "outputs": [],
   "metadata": {}
  },
  {
   "cell_type": "code",
   "execution_count": null,
   "source": [
    "import pandas as pd\n",
    "fifa = pd.read_csv('dataset/FIFA.csv',encoding='cp949')\n",
    "fifa.head()"
   ],
   "outputs": [],
   "metadata": {}
  },
  {
   "cell_type": "code",
   "execution_count": null,
   "source": [
    "fifa.shape"
   ],
   "outputs": [],
   "metadata": {}
  },
  {
   "cell_type": "code",
   "execution_count": null,
   "source": [
    "# 선수들 height 값을 cm로 변환하여 새로운 컬럼 생성\n",
    "def tran(a):\n",
    "    i, v = map(int,a.split(\"\\'\"))\n",
    "    result = i * 30.48 + v * 2.54\n",
    "    return result\n",
    "fifa['cm'] = fifa.Height.apply(tran)\n",
    "fifa.head(10)"
   ],
   "outputs": [],
   "metadata": {}
  },
  {
   "cell_type": "code",
   "execution_count": null,
   "source": [
    "y = ax + b\n",
    "y = a(x1,x2,x3) + b\n",
    "y = aX + b"
   ],
   "outputs": [],
   "metadata": {}
  },
  {
   "cell_type": "code",
   "execution_count": null,
   "source": [
    "fifa.info()"
   ],
   "outputs": [],
   "metadata": {}
  },
  {
   "cell_type": "code",
   "execution_count": 250,
   "source": [
    "# 과제\n",
    "# 선수들의 연봉/wage를 예측하는 모델 구축\n",
    "# 주어진 데이터를 전처리 및 탐색하여 모델에 적합한 분석용 데이터셋을 작성하고 그 근거를 설명하세요.\n",
    "# 10개 이상 전처리\n",
    "fifa.corr() # 데이터 상관관계 파악 (Value, Release_Clause, Overall)\n",
    "sns.heatmap(fifa.corr(), annot = True, cmap = 'viridis')\n"
   ],
   "outputs": [
    {
     "output_type": "execute_result",
     "data": {
      "text/plain": [
       "<AxesSubplot:>"
      ]
     },
     "metadata": {},
     "execution_count": 250
    },
    {
     "output_type": "display_data",
     "data": {
      "text/plain": [
       "<Figure size 432x288 with 2 Axes>"
      ],
      "image/png": "[encoded data removed]"
     },
     "metadata": {
      "needs_background": "light"
     }
    }
   ],
   "metadata": {}
  },
  {
   "cell_type": "code",
   "execution_count": null,
   "source": [
    "t = fifa.drop(['ID','Name','Preferred_Foot','Work_Rate','Height','Weight_lb','cm'],axis=1) # 연봉과 상관관계가 낮은 불필요한 컬럼들 삭제\n",
    "t"
   ],
   "outputs": [],
   "metadata": {}
  },
  {
   "cell_type": "code",
   "execution_count": null,
   "source": [
    "# 연봉을 단위별로 구분해 1 ~ 12 등급으로 구분\n",
    "t.describe()['Wage'] # 연봉 등급 세분화 원소 평균을 기준으로 1단계씩 상승 ex)11등급 = (min + std) 10등급 = 11등급 + std..."
   ],
   "outputs": [],
   "metadata": {}
  },
  {
   "cell_type": "code",
   "execution_count": 196,
   "source": [
    "def wage_c(a): # 등급 = Wage_d\n",
    "    g = 9.618375\n",
    "    if a < g:\n",
    "        a = 12\n",
    "    elif a < (g*2):\n",
    "        a = 11 \n",
    "    elif a < (g*3):\n",
    "        a = 10\n",
    "    elif a < (g*4):\n",
    "        a = 9\n",
    "    elif a < (g*5):\n",
    "        a = 8\n",
    "    elif a < (g*6):\n",
    "        a = 7\n",
    "    elif a < (g*7):\n",
    "        a = 6\n",
    "    elif a < (g*8):\n",
    "        a = 5 \n",
    "    elif a < (g*8):\n",
    "        a = 4 \n",
    "    elif a < (g*10):\n",
    "        a = 3\n",
    "    elif a < (g*11):\n",
    "        a = 2 \n",
    "    else:\n",
    "        a = 1\n",
    "    return a\n",
    "\n",
    "wa_cla = t['Wage'].apply(wage_c)\n",
    "t['Wage_d'] = wa_cla\n",
    "t"
   ],
   "outputs": [
    {
     "output_type": "execute_result",
     "data": {
      "text/plain": [
       "       Age Nationality  Overall                 Club Position  Jersey_Number  \\\n",
       "0       31   Argentina       94         FC Barcelona       RF             10   \n",
       "1       33    Portugal       94             Juventus       ST              7   \n",
       "2       26      Brazil       92  Paris Saint-Germain       LW             10   \n",
       "3       27       Spain       91    Manchester United       GK              1   \n",
       "4       27     Belgium       91      Manchester City      RCM              7   \n",
       "...    ...         ...      ...                  ...      ...            ...   \n",
       "16637   19     England       47      Crewe Alexandra       CM             22   \n",
       "16638   19      Sweden       47       Trelleborgs FF       ST             21   \n",
       "16639   16     England       47     Cambridge United       ST             33   \n",
       "16640   17     England       47      Tranmere Rovers       RW             34   \n",
       "16641   16     England       46      Tranmere Rovers       CM             33   \n",
       "\n",
       "       Contract_Valid_Until  Release_Clause   Value  Wage  Wage_d  \n",
       "0                      2021          226500  110500   565       1  \n",
       "1                      2022          127100   77000   405       1  \n",
       "2                      2022          228100  118500   290       1  \n",
       "3                      2020          138600   72000   260       1  \n",
       "4                      2023          196400  102000   355       1  \n",
       "...                     ...             ...     ...   ...     ...  \n",
       "16637                  2019             143      60     1      12  \n",
       "16638                  2020             113      60     1      12  \n",
       "16639                  2021             165      60     1      12  \n",
       "16640                  2019             143      60     1      12  \n",
       "16641                  2019             165      60     1      12  \n",
       "\n",
       "[16642 rows x 11 columns]"
      ],
      "text/html": [
       "<div>\n",
       "<style scoped>\n",
       "    .dataframe tbody tr th:only-of-type {\n",
       "        vertical-align: middle;\n",
       "    }\n",
       "\n",
       "    .dataframe tbody tr th {\n",
       "        vertical-align: top;\n",
       "    }\n",
       "\n",
       "    .dataframe thead th {\n",
       "        text-align: right;\n",
       "    }\n",
       "</style>\n",
       "<table border=\"1\" class=\"dataframe\">\n",
       "  <thead>\n",
       "    <tr style=\"text-align: right;\">\n",
       "      <th></th>\n",
       "      <th>Age</th>\n",
       "      <th>Nationality</th>\n",
       "      <th>Overall</th>\n",
       "      <th>Club</th>\n",
       "      <th>Position</th>\n",
       "      <th>Jersey_Number</th>\n",
       "      <th>Contract_Valid_Until</th>\n",
       "      <th>Release_Clause</th>\n",
       "      <th>Value</th>\n",
       "      <th>Wage</th>\n",
       "      <th>Wage_d</th>\n",
       "    </tr>\n",
       "  </thead>\n",
       "  <tbody>\n",
       "    <tr>\n",
       "      <th>0</th>\n",
       "      <td>31</td>\n",
       "      <td>Argentina</td>\n",
       "      <td>94</td>\n",
       "      <td>FC Barcelona</td>\n",
       "      <td>RF</td>\n",
       "      <td>10</td>\n",
       "      <td>2021</td>\n",
       "      <td>226500</td>\n",
       "      <td>110500</td>\n",
       "      <td>565</td>\n",
       "      <td>1</td>\n",
       "    </tr>\n",
       "    <tr>\n",
       "      <th>1</th>\n",
       "      <td>33</td>\n",
       "      <td>Portugal</td>\n",
       "      <td>94</td>\n",
       "      <td>Juventus</td>\n",
       "      <td>ST</td>\n",
       "      <td>7</td>\n",
       "      <td>2022</td>\n",
       "      <td>127100</td>\n",
       "      <td>77000</td>\n",
       "      <td>405</td>\n",
       "      <td>1</td>\n",
       "    </tr>\n",
       "    <tr>\n",
       "      <th>2</th>\n",
       "      <td>26</td>\n",
       "      <td>Brazil</td>\n",
       "      <td>92</td>\n",
       "      <td>Paris Saint-Germain</td>\n",
       "      <td>LW</td>\n",
       "      <td>10</td>\n",
       "      <td>2022</td>\n",
       "      <td>228100</td>\n",
       "      <td>118500</td>\n",
       "      <td>290</td>\n",
       "      <td>1</td>\n",
       "    </tr>\n",
       "    <tr>\n",
       "      <th>3</th>\n",
       "      <td>27</td>\n",
       "      <td>Spain</td>\n",
       "      <td>91</td>\n",
       "      <td>Manchester United</td>\n",
       "      <td>GK</td>\n",
       "      <td>1</td>\n",
       "      <td>2020</td>\n",
       "      <td>138600</td>\n",
       "      <td>72000</td>\n",
       "      <td>260</td>\n",
       "      <td>1</td>\n",
       "    </tr>\n",
       "    <tr>\n",
       "      <th>4</th>\n",
       "      <td>27</td>\n",
       "      <td>Belgium</td>\n",
       "      <td>91</td>\n",
       "      <td>Manchester City</td>\n",
       "      <td>RCM</td>\n",
       "      <td>7</td>\n",
       "      <td>2023</td>\n",
       "      <td>196400</td>\n",
       "      <td>102000</td>\n",
       "      <td>355</td>\n",
       "      <td>1</td>\n",
       "    </tr>\n",
       "    <tr>\n",
       "      <th>...</th>\n",
       "      <td>...</td>\n",
       "      <td>...</td>\n",
       "      <td>...</td>\n",
       "      <td>...</td>\n",
       "      <td>...</td>\n",
       "      <td>...</td>\n",
       "      <td>...</td>\n",
       "      <td>...</td>\n",
       "      <td>...</td>\n",
       "      <td>...</td>\n",
       "      <td>...</td>\n",
       "    </tr>\n",
       "    <tr>\n",
       "      <th>16637</th>\n",
       "      <td>19</td>\n",
       "      <td>England</td>\n",
       "      <td>47</td>\n",
       "      <td>Crewe Alexandra</td>\n",
       "      <td>CM</td>\n",
       "      <td>22</td>\n",
       "      <td>2019</td>\n",
       "      <td>143</td>\n",
       "      <td>60</td>\n",
       "      <td>1</td>\n",
       "      <td>12</td>\n",
       "    </tr>\n",
       "    <tr>\n",
       "      <th>16638</th>\n",
       "      <td>19</td>\n",
       "      <td>Sweden</td>\n",
       "      <td>47</td>\n",
       "      <td>Trelleborgs FF</td>\n",
       "      <td>ST</td>\n",
       "      <td>21</td>\n",
       "      <td>2020</td>\n",
       "      <td>113</td>\n",
       "      <td>60</td>\n",
       "      <td>1</td>\n",
       "      <td>12</td>\n",
       "    </tr>\n",
       "    <tr>\n",
       "      <th>16639</th>\n",
       "      <td>16</td>\n",
       "      <td>England</td>\n",
       "      <td>47</td>\n",
       "      <td>Cambridge United</td>\n",
       "      <td>ST</td>\n",
       "      <td>33</td>\n",
       "      <td>2021</td>\n",
       "      <td>165</td>\n",
       "      <td>60</td>\n",
       "      <td>1</td>\n",
       "      <td>12</td>\n",
       "    </tr>\n",
       "    <tr>\n",
       "      <th>16640</th>\n",
       "      <td>17</td>\n",
       "      <td>England</td>\n",
       "      <td>47</td>\n",
       "      <td>Tranmere Rovers</td>\n",
       "      <td>RW</td>\n",
       "      <td>34</td>\n",
       "      <td>2019</td>\n",
       "      <td>143</td>\n",
       "      <td>60</td>\n",
       "      <td>1</td>\n",
       "      <td>12</td>\n",
       "    </tr>\n",
       "    <tr>\n",
       "      <th>16641</th>\n",
       "      <td>16</td>\n",
       "      <td>England</td>\n",
       "      <td>46</td>\n",
       "      <td>Tranmere Rovers</td>\n",
       "      <td>CM</td>\n",
       "      <td>33</td>\n",
       "      <td>2019</td>\n",
       "      <td>165</td>\n",
       "      <td>60</td>\n",
       "      <td>1</td>\n",
       "      <td>12</td>\n",
       "    </tr>\n",
       "  </tbody>\n",
       "</table>\n",
       "<p>16642 rows × 11 columns</p>\n",
       "</div>"
      ]
     },
     "metadata": {},
     "execution_count": 196
    }
   ],
   "metadata": {}
  },
  {
   "cell_type": "code",
   "execution_count": 230,
   "source": [
    "dt2 = t[['Nationality','Wage_d','Overall']].groupby(['Nationality']).mean() # 나라별 평균 등급, 오버롤\n",
    "pd.set_option('max_rows',10)\n",
    "dt2.sort_values(['Wage_d']) # 오버롤이 높은 나라순"
   ],
   "outputs": [
    {
     "output_type": "execute_result",
     "data": {
      "text/plain": [
       "                         Wage_d    Overall\n",
       "Nationality                               \n",
       "Dominican Republic     6.500000  72.000000\n",
       "United Arab Emirates   8.000000  77.000000\n",
       "Egypt                 10.450000  71.000000\n",
       "Gabon                 10.571429  70.000000\n",
       "Equatorial Guinea     10.600000  70.000000\n",
       "...                         ...        ...\n",
       "Indonesia             12.000000  56.000000\n",
       "Hong Kong             12.000000  60.500000\n",
       "Guyana                12.000000  61.666667\n",
       "Latvia                12.000000  63.166667\n",
       "Afghanistan           12.000000  61.000000\n",
       "\n",
       "[161 rows x 2 columns]"
      ],
      "text/html": [
       "<div>\n",
       "<style scoped>\n",
       "    .dataframe tbody tr th:only-of-type {\n",
       "        vertical-align: middle;\n",
       "    }\n",
       "\n",
       "    .dataframe tbody tr th {\n",
       "        vertical-align: top;\n",
       "    }\n",
       "\n",
       "    .dataframe thead th {\n",
       "        text-align: right;\n",
       "    }\n",
       "</style>\n",
       "<table border=\"1\" class=\"dataframe\">\n",
       "  <thead>\n",
       "    <tr style=\"text-align: right;\">\n",
       "      <th></th>\n",
       "      <th>Wage_d</th>\n",
       "      <th>Overall</th>\n",
       "    </tr>\n",
       "    <tr>\n",
       "      <th>Nationality</th>\n",
       "      <th></th>\n",
       "      <th></th>\n",
       "    </tr>\n",
       "  </thead>\n",
       "  <tbody>\n",
       "    <tr>\n",
       "      <th>Dominican Republic</th>\n",
       "      <td>6.500000</td>\n",
       "      <td>72.000000</td>\n",
       "    </tr>\n",
       "    <tr>\n",
       "      <th>United Arab Emirates</th>\n",
       "      <td>8.000000</td>\n",
       "      <td>77.000000</td>\n",
       "    </tr>\n",
       "    <tr>\n",
       "      <th>Egypt</th>\n",
       "      <td>10.450000</td>\n",
       "      <td>71.000000</td>\n",
       "    </tr>\n",
       "    <tr>\n",
       "      <th>Gabon</th>\n",
       "      <td>10.571429</td>\n",
       "      <td>70.000000</td>\n",
       "    </tr>\n",
       "    <tr>\n",
       "      <th>Equatorial Guinea</th>\n",
       "      <td>10.600000</td>\n",
       "      <td>70.000000</td>\n",
       "    </tr>\n",
       "    <tr>\n",
       "      <th>...</th>\n",
       "      <td>...</td>\n",
       "      <td>...</td>\n",
       "    </tr>\n",
       "    <tr>\n",
       "      <th>Indonesia</th>\n",
       "      <td>12.000000</td>\n",
       "      <td>56.000000</td>\n",
       "    </tr>\n",
       "    <tr>\n",
       "      <th>Hong Kong</th>\n",
       "      <td>12.000000</td>\n",
       "      <td>60.500000</td>\n",
       "    </tr>\n",
       "    <tr>\n",
       "      <th>Guyana</th>\n",
       "      <td>12.000000</td>\n",
       "      <td>61.666667</td>\n",
       "    </tr>\n",
       "    <tr>\n",
       "      <th>Latvia</th>\n",
       "      <td>12.000000</td>\n",
       "      <td>63.166667</td>\n",
       "    </tr>\n",
       "    <tr>\n",
       "      <th>Afghanistan</th>\n",
       "      <td>12.000000</td>\n",
       "      <td>61.000000</td>\n",
       "    </tr>\n",
       "  </tbody>\n",
       "</table>\n",
       "<p>161 rows × 2 columns</p>\n",
       "</div>"
      ]
     },
     "metadata": {},
     "execution_count": 230
    }
   ],
   "metadata": {}
  },
  {
   "cell_type": "code",
   "execution_count": 248,
   "source": [
    "dt = t[['Release_Clause','Value','Overall','Wage_d']].groupby(['Wage_d']).mean() # 등급 별 평균 값(상관관계 올라감)\n",
    "dt.corr()"
   ],
   "outputs": [
    {
     "output_type": "execute_result",
     "data": {
      "text/plain": [
       "                Release_Clause     Value   Overall\n",
       "Release_Clause        1.000000  0.999762  0.856644\n",
       "Value                 0.999762  1.000000  0.859635\n",
       "Overall               0.856644  0.859635  1.000000"
      ],
      "text/html": [
       "<div>\n",
       "<style scoped>\n",
       "    .dataframe tbody tr th:only-of-type {\n",
       "        vertical-align: middle;\n",
       "    }\n",
       "\n",
       "    .dataframe tbody tr th {\n",
       "        vertical-align: top;\n",
       "    }\n",
       "\n",
       "    .dataframe thead th {\n",
       "        text-align: right;\n",
       "    }\n",
       "</style>\n",
       "<table border=\"1\" class=\"dataframe\">\n",
       "  <thead>\n",
       "    <tr style=\"text-align: right;\">\n",
       "      <th></th>\n",
       "      <th>Release_Clause</th>\n",
       "      <th>Value</th>\n",
       "      <th>Overall</th>\n",
       "    </tr>\n",
       "  </thead>\n",
       "  <tbody>\n",
       "    <tr>\n",
       "      <th>Release_Clause</th>\n",
       "      <td>1.000000</td>\n",
       "      <td>0.999762</td>\n",
       "      <td>0.856644</td>\n",
       "    </tr>\n",
       "    <tr>\n",
       "      <th>Value</th>\n",
       "      <td>0.999762</td>\n",
       "      <td>1.000000</td>\n",
       "      <td>0.859635</td>\n",
       "    </tr>\n",
       "    <tr>\n",
       "      <th>Overall</th>\n",
       "      <td>0.856644</td>\n",
       "      <td>0.859635</td>\n",
       "      <td>1.000000</td>\n",
       "    </tr>\n",
       "  </tbody>\n",
       "</table>\n",
       "</div>"
      ]
     },
     "metadata": {},
     "execution_count": 248
    }
   ],
   "metadata": {}
  },
  {
   "cell_type": "code",
   "execution_count": 253,
   "source": [
    "cw = t[['Club','Wage']].groupby(['Club']).mean()\n",
    "c_top = cw.sort_values(by=['Wage'],axis=0,ascending=False) # 평균 연봉이 높은 팀 상위 10개\n",
    "sns.heatmap(c_top.head(10), cmap = 'viridis')"
   ],
   "outputs": [
    {
     "output_type": "execute_result",
     "data": {
      "text/plain": [
       "<AxesSubplot:ylabel='Club'>"
      ]
     },
     "metadata": {},
     "execution_count": 253
    },
    {
     "output_type": "display_data",
     "data": {
      "text/plain": [
       "<Figure size 432x288 with 2 Axes>"
      ],
      "image/png": "[encoded data removed]"
     },
     "metadata": {
      "needs_background": "light"
     }
    }
   ],
   "metadata": {}
  },
  {
   "cell_type": "code",
   "execution_count": null,
   "source": [
    "# 불필요한 변수 필터링(결측값 처리)\n",
    "# 파생변수 생성 ex) ft -> cm 변환하는 사용자 함수\n",
    "# 그룹화\n",
    "# 데이터 타입 변경\n",
    "# 상관관계 파악\n",
    "# 중복변수 제거 ft->cm 했으면 중복변수 ft = cm\n",
    "# 이상치 : 평균에서 크게 벗어나는 값\n",
    "# 사용가능 데이터로 변환\n"
   ],
   "outputs": [],
   "metadata": {}
  }
 ],
 "metadata": {
  "kernelspec": {
   "display_name": "Python 3",
   "language": "python",
   "name": "python3"
  },
  "language_info": {
   "codemirror_mode": {
    "name": "ipython",
    "version": 3
   },
   "file_extension": ".py",
   "mimetype": "text/x-python",
   "name": "python",
   "nbconvert_exporter": "python",
   "pygments_lexer": "ipython3",
   "version": "3.8.10"
  }
 },
 "nbformat": 4,
 "nbformat_minor": 5
}