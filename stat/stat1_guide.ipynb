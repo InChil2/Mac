{
 "cells": [
  {
   "cell_type": "markdown",
   "id": "29ee8289",
   "metadata": {},
   "source": [
    "[모집단 분포와 표본분포]  \n",
    "\n",
    "- 모집단: 어떤 통계적 실험의 대상이 되는 모든 대상물. ex. 대한민국 모든 남성의 키 데이터, 2018 수능점수 데이터\n",
    "- 모집단 분포: 모집단은 데이터 집단이므로 어떠한 분포를 이루며 이 데이터가 이루는 확률 분포가 모집단 분포\n",
    "- 모수: 모집단의 특성을 나타내는 수치로 모평균,모분산,모표준편차,모비율,모상관관계 등  \n",
    "  수능점수 전체데이터를 알고 싶은 것이 아니라 전체 수능점수 평균, 표준편차를 알고 싶어한다.\n",
    "  수능점수와 달리 일반적으로 대부분의 모집단 분포는 완전하게 알려진 것이 없으며 전수조사는 경제적, 공간적, 시간적 제약으로 인해 거의 불가능\n",
    "- 표본: 모집단의 모수(특성)을 알기 위하여 표본을 추출해서 모집단의 모수를 추정\n",
    "- 확률표본:  모집단을 구성하는 모든 구성원이 표본으로 뽑힐 확률을 동일하게 하여 추출한 표본. Random이란 무작위라는 의미로, 어떠한 의도를 가지지 않는다는 것을 의미하며, 모든 구성원이 뽑힐 확률이 동일하다는 개념. \n",
    "- 통계량: 확률표본의 특성을 설명하는 값으로 표본평균, 표본분산, 표본표준편차, 표본비율, 표본상관관계 등  \n",
    "  모수는 모집단이 변하지 않기 때문에 그 값이 변하지 않으나 통계량은 표본을 어떻게 추출하느냐에 따라서 그 값이 다르게 나타난다.\n",
    "- 확률변수: 무작위 실험을 했을 때 특정 확률로 발생하는 각각의 결과를 수치값으로 표현한 변수. 동전의 앞과 뒤\n",
    "- 확률분포: 확률변수 X의 모든 값과 그 에 대응하는 확률값들의 분포. 동전의 앞 0.5, 뒤 0.5 \n",
    "- 무작위로 표본 30개씩 반복해서 100번 추출하면 100번 추출한 표본 30개의 평균값들을 100개 구할 수 있다. 추출된 표본들의 각 평균값들에 대한 발생 분포를 그려보면 특정 확률변수에 대응하는 확률을 가진 확률 분포를 그릴 수 있다. 이것을 통계량의 확률분포라고 할 수 있고 이를 표본분포라고 부른다. \n",
    "- 통계량이 확률 변수라는 의미: 확률변수의 확률분포가 수학적으로 설명가능한 분포(예, 정규분포)를 따른다고 하면 특정 확률변수와 확률함수를 알고 있다면 특정 사건이 일어날 확률을 계산할 수 있으며 더 나아가 모수와 통계량의 관계를 알고 있다면 그것을 통해 모수에 대한 통계적인 추정을 할 수 있다. 즉 통계량의 확률 함수 또는 표본 분포를 안다고 가정하면 이를 이용해 모수를 추정할 수 있다. \n",
    "\n",
    "[표본통계량 성질]\n",
    "\n",
    "- 샘플사이즈가 크면 표본평균은 모평균에 가까워진다.\n",
    "- 샘플사이즈가 커질수록 표본평균의 표준편차가 작아짐. 샘플사이즈를 크게 하면 흩어짐이 적은 신뢰할 수 있는 표본평균을 얻을 수 있다.\n",
    "- 표준오차는이론상 표본평균의 표준편차 크기인데 샘플사이즈가 커지면 표준오차는 작아짐\n",
    "- 모분산은 0.64, 표본분산의 평균값은 0.575로 분산이 과소평가되어짐 -> 불편분산을 사용, 편향을 제거(ddof =1)\n",
    "- 샘플사이즈가 커질수록 불편분산은 모분산(0.64)에 가까워짐\n",
    "- 불편성 : 추정량의 기댓값이 진짜 모수(모집단의 파라미터)가 되는 특성. 편향이 없는 추정량\n",
    "- 일치성 : 샘플사이즈가 커지면 추정량이 진짜 모수에 가까워지는 특성\n",
    "- 표본평균과 불편분산은 둘다 불편성을 가지고 있다고 할 수 있다.\n",
    "- 샘플사이즈를 크게 하면 표본평균은 모평균에 가까워지고 불편분산은 모분산에 가까워지므로 일치성을 가짐\n",
    "- 큰수의 법칙 : 표본의 크기가 커지면 표본평균이 모평균에 가까워지는 방법을 표현한 법칙\n",
    "- 중심극한정리 : 모집단분포가 무엇이든지간에 샘플사이즈가 커지면 표본 평균들이 이루는 분포가 모집단의 평균μ, 표준편차σ/sqrt(n)인 정규분포에 가까워진다는 정리  \n",
    "  https://drhongdatanote.tistory.com/57 \n",
    "\n",
    "[표본분산이 분산을 과소평가하는 이유]\n",
    "\n",
    "- 분산은 '데이터와 평균값의 간의 거리' 이므로 모평균 간의 거리를 계산 : np.sum((fish_data - mu)**2)/N  \n",
    "호수안에 물고기가 7마리 있다. 몸길이 {1,2,3,4,5,6,7}, 모평균 4,  \n",
    "샘플링 3마리 {1,2,3} 표본평균 2  \n",
    "이때 분산은 모평균을 모르기 때문에 표본평균과의 거리를 계산하며 분산을 과소평가 하게된다.\n",
    "- 표본 분산 보다 조금 더 큰 값이 되도록 보정하기 위하여 N 대신 N-1로 나누어 불편분산을 구할 수 있다.\n",
    "    \n",
    "[통계량 선정시 평가기준]\n",
    "\n",
    "- 불편성: 표본으로부터 구한 통계량의 기대치가 추정하려 하는 모수의 실제 값에 같거나 가까워지는 성질을 의미\n",
    "- 효율성: 모수 추정시 분산이 작을수록 모수를 정확하게 추정할 가능성이 높다.\n",
    "- 일치성: 표본의 크기가 커감에 따라서 표본의 통계량이 모집단의 모수와 일치하는 것을 의미\n",
    "- 충분성: 동일한 표본으로부터 얻은 추정량이 모집단의 모수에 대한 정보를 더 많이 제공하는 것을 의미\n",
    "    \n",
    "[정규분포]  \n",
    "https://quickdata.tistory.com/26  \n",
    "https://math100.tistory.com/40  \n",
    "정규분포는 연속확률분포로서 가장 자주 쓰이는 확률분포입니다. 모양은 평균을 중심으로 하나의 봉우리형태를 띄며 한 집단의 많은 사람들의 키, 몸무게, 시험성적 등의 데이터에 잘 나타나는 분포\n",
    "\n",
    "- 누적분포함수 : 확률분포에서 얻은 확률변수 3 이하가 되는 확률. Cumulative density function\n",
    " - stats.norm.cdf(loc = 4, scale = 0.8, x = 3)\n",
    "- 정규분포의 확률밀도 계산\n",
    " - 확률변수 3일때의 확률밀도 N(3|4,0.8**2)\n",
    " - stats.norm.pdf(loc = 4, scale = 0.8, x = 3)  Probability density function\n",
    "- 하측확률 : \"확률변수 x가 N보다 낮을 확률은 M퍼센트다\" 에서 N을 고정하고 M을 구하는 경우\n",
    " - 이때의 M이 하측확률이며 M(확률)을 고정하고 N(변수)을 구하는 경우 이때의 N이 퍼센트포인트 하측확률이 2.5%가 되는 퍼센트포인트\n",
    " - stats.norm.ppf(loc = 4, scale = 0.8, q = 0.025) Percent point function\n",
    "- stats.norm.pdf(x=x)로 하여 loc와 scale을 지정하지 않을 경우 표준정규분포가 됨. probability density function\n",
    "- stats.norm.rvs() 함수는 정규확률분포로부터 난수 생성. Random variates\n",
    "- t분포의 의미 : 모분산을 모르는 상황에서도 표본평균의 분포에 대해 애기할 수 있으며\n",
    " - t분포를 만들 때 표본에서 계산한 포준오차로 표본평균을 표준화함\n",
    " - 표본에서 계산한 표준오차로 표본평균을 표준화했을 경우의 결과가 t분포를 따른다는 사실을 이용하면 얻어낸 표본평균에 관한 불확실성을 짐작할 수 있음.\n",
    "    \n",
    "[t분포의 특성]\n",
    "\n",
    "t분포는 모집단이 정규분포 이더라도 분산 σ²이 알려져 있지 않고 표분의 수가 적은 경우에, 평균 μ에 대한 신뢰구간 추정 및 가설검정에 아주 유용하게 쓰이는 분포\n",
    "1. t분포는 표준정규분포처럼 0을 중심으로 종형의 모습을 가진 대칭 분포이다.\n",
    "2. t분포의 꼬리는 표준정규분포보다 두껍다(fat tail).\n",
    "3. t분포는 자유도 n에 따라 모습이 변하는데, 자유도 n이 커짐에 따라 표준정규분포 N(0,1)에 수렴한다.  \n",
    "통상 모집단의 분산이 알려져 있지 않은 경우, 표분분포를 결정할 때 표본의 크기가 30 이하이면 t분포를, 그 크기가 30 이상이면 표준정규분포를 이용\n",
    "\n",
    "[일반선형모형 vs. 일반화선형모형]\n",
    "\n",
    "일반선형모형과 일반화선형모형의 주요 차이점은 바로 접근의 차이이다. 일반선형모형(General linear model, 이하 GLM)은 엄격하게(strictly) 잔차들이 조건부 정규분포를 따른다고 가정하는 반면 일반화선형모형(Generalized linear model, 이하 GLiM)은 이 가정을 엄격하게 따르지 않는다. 즉, 잔차들이 exponential family 등 다양한 다른 분포를 가질 수 있다고 가정한다.\n",
    "\n",
    "일반화선형모형은 종속변수에 적절한 link function을 적용하는 방법이다. 이는 오차항의 확률 분포를 무엇으로 보느냐에 따라 어느정도 정해져 있는데, 오차항의 확률분포가 binomial이면 link function은 logit이고, exponential이면 inverse, poisson이면 log를 link function으로 취한다.\n",
    "\n",
    "[일반화선형모델과 관계가 깊은 확률분포]\n",
    "\n",
    "- 정규분포 이외의 확률분포를 사용할 수 있다는 것이 일반화선형모델의 큰 특징이며 \n",
    "- 정규분포 이외에 이항분포, 푸아송분포 등 일반화선형모델과 관계가 깊은 확률분포가 있음\n",
    "- 이항분포 : 정규분포와 달리 좌우 비대칭인 히스토그램 확인\n",
    "- 푸아송 분포 : 카운트 데이터가 따르는 이산형 확률분포\n",
    " - 카운트 데이터가 0 이상의 정수라는 특징\n",
    " - 모수는 강도(일이 일어날 횟수에 대한 기댓값, 발생 강도) 람다밖에 없음\n",
    " - 푸아송 분포는 이항분포에서 도출할 수 있으며 푸아송 분포는 성공확률이 한없이 0에 가깝지만 시행횟수가 무한히 많은 이항분포임\n",
    "\n",
    "[이항분포와 푸아송 분포의 관계]\n",
    "\n",
    "- 푸아송 분포는 1개, 또는 2개 등의 카운트 데이터가 따르는 이산형 확률분포\n",
    "- 푸아송 분포의 모수는 강도(일이 일어날 횟수에 대한 기대값, 발생 강도) 람다밖에 없으며 기댓값과 분산도 람다값과 같다.\n",
    "- 예를들어 하루의 교통사고 사상자수라는 카운트 데이터가 있다고 할 때 사고에 휘말릴 가능성이 있는 사람 수는 길을 걷고 있는 모든 사람 수이므로 N은 매우 큰 값이 되며 사고에 휘말릴 확률 p는 매우 작다. 일어나기 어려운 사건이지만 대상이 되는 사람 수가 굉장히 많을 때의 발생건수가 푸아송 분포를 따른다고 할 수 있다.\n",
    "- 성공확률이 한없이 0에 가깝지만 시행횟수가 무한히 많은 이항분포라고 할 수 있다."
   ]
  },
  {
   "cell_type": "code",
   "execution_count": 1,
   "id": "bedbec18",
   "metadata": {},
   "outputs": [
    {
     "data": {
      "text/plain": [
       "array([2, 3, 3, 4, 4, 4, 4, 5, 5, 6])"
      ]
     },
     "execution_count": 1,
     "metadata": {},
     "output_type": "execute_result"
    }
   ],
   "source": [
    "import numpy as np\n",
    "import pandas as pd\n",
    "fish_data = np.array([2,3,3,4,4,4,4,5,5,6])\n",
    "fish_data"
   ]
  },
  {
   "cell_type": "code",
   "execution_count": 2,
   "id": "4b3c6002",
   "metadata": {},
   "outputs": [
    {
     "data": {
      "text/plain": [
       "40"
      ]
     },
     "execution_count": 2,
     "metadata": {},
     "output_type": "execute_result"
    }
   ],
   "source": [
    "np.sum(fish_data)"
   ]
  },
  {
   "cell_type": "code",
   "execution_count": 3,
   "id": "29bf7676",
   "metadata": {},
   "outputs": [
    {
     "data": {
      "text/plain": [
       "10"
      ]
     },
     "execution_count": 3,
     "metadata": {},
     "output_type": "execute_result"
    }
   ],
   "source": [
    "len(fish_data)"
   ]
  },
  {
   "cell_type": "code",
   "execution_count": 4,
   "id": "3ac76b90",
   "metadata": {},
   "outputs": [
    {
     "data": {
      "text/plain": [
       "4.0"
      ]
     },
     "execution_count": 4,
     "metadata": {},
     "output_type": "execute_result"
    }
   ],
   "source": [
    "# 평균\n",
    "N = len(fish_data)\n",
    "sum_value = np.sum(fish_data)\n",
    "mu = sum_value/N\n",
    "mu"
   ]
  },
  {
   "cell_type": "code",
   "execution_count": 5,
   "id": "575062d7",
   "metadata": {},
   "outputs": [
    {
     "data": {
      "text/plain": [
       "4.0"
      ]
     },
     "execution_count": 5,
     "metadata": {},
     "output_type": "execute_result"
    }
   ],
   "source": [
    "np.mean(fish_data)"
   ]
  },
  {
   "cell_type": "code",
   "execution_count": 6,
   "id": "f00cea47",
   "metadata": {},
   "outputs": [
    {
     "data": {
      "text/plain": [
       "1.2"
      ]
     },
     "execution_count": 6,
     "metadata": {},
     "output_type": "execute_result"
    }
   ],
   "source": [
    "# 표본분산\n",
    "sigma_2_sample = np.sum((fish_data-mu)**2)/N\n",
    "sigma_2_sample"
   ]
  },
  {
   "cell_type": "code",
   "execution_count": 10,
   "id": "6bb6de1d",
   "metadata": {},
   "outputs": [
    {
     "data": {
      "text/plain": [
       "1.2"
      ]
     },
     "execution_count": 10,
     "metadata": {},
     "output_type": "execute_result"
    }
   ],
   "source": [
    "np.var(fish_data)"
   ]
  },
  {
   "cell_type": "code",
   "execution_count": 11,
   "id": "d2e76c5e",
   "metadata": {},
   "outputs": [
    {
     "data": {
      "text/plain": [
       "1.0954451150103321"
      ]
     },
     "execution_count": 11,
     "metadata": {},
     "output_type": "execute_result"
    }
   ],
   "source": [
    "np.std(fish_data)"
   ]
  },
  {
   "cell_type": "code",
   "execution_count": 12,
   "id": "e609dd43",
   "metadata": {},
   "outputs": [
    {
     "data": {
      "text/plain": [
       "1.2"
      ]
     },
     "execution_count": 12,
     "metadata": {},
     "output_type": "execute_result"
    }
   ],
   "source": [
    "np.var(fish_data,ddof=0)"
   ]
  },
  {
   "cell_type": "code",
   "execution_count": 14,
   "id": "93be6653",
   "metadata": {},
   "outputs": [
    {
     "data": {
      "text/plain": [
       "1.0954451150103321"
      ]
     },
     "execution_count": 14,
     "metadata": {},
     "output_type": "execute_result"
    }
   ],
   "source": [
    "np.std(fish_data,ddof=0)"
   ]
  },
  {
   "cell_type": "code",
   "execution_count": 15,
   "id": "90d58abe",
   "metadata": {},
   "outputs": [
    {
     "data": {
      "text/plain": [
       "1.3333333333333333"
      ]
     },
     "execution_count": 15,
     "metadata": {},
     "output_type": "execute_result"
    }
   ],
   "source": [
    "# 불편분산\n",
    "np.var(fish_data,ddof=1)"
   ]
  },
  {
   "cell_type": "code",
   "execution_count": 20,
   "id": "3486c362",
   "metadata": {},
   "outputs": [
    {
     "data": {
      "text/plain": [
       "1.15"
      ]
     },
     "execution_count": 20,
     "metadata": {},
     "output_type": "execute_result"
    }
   ],
   "source": [
    "np.std(fish_data,ddof=1).round(2)\n",
    "std2 = np.std(fish_data,ddof=1)\n",
    "np.round(std2,2)"
   ]
  },
  {
   "cell_type": "code",
   "execution_count": 22,
   "id": "3f3c3e23",
   "metadata": {},
   "outputs": [
    {
     "name": "stdout",
     "output_type": "stream",
     "text": [
      "[ 0  1  2  3  4  5  6  7  8  9 10 11 12 13 14]\n",
      "7.0\n",
      "20.0\n",
      "4.47213595499958\n"
     ]
    },
    {
     "data": {
      "text/plain": [
       "0.0"
      ]
     },
     "execution_count": 22,
     "metadata": {},
     "output_type": "execute_result"
    }
   ],
   "source": [
    "# Q. a의 평균, 분산, 표준편차, 편차의 평균을 구하세요.\n",
    "# a = np.arange(15)\n",
    "# A.\n",
    "a = np.arange(15)\n",
    "print(a)\n",
    "m=np.mean(a)\n",
    "v=np.var(a,ddof=1)\n",
    "s=np.std(a,ddof=1)\n",
    "print(m)\n",
    "print(v)\n",
    "print(s)\n",
    "np.mean(a-m)"
   ]
  },
  {
   "cell_type": "code",
   "execution_count": 26,
   "id": "02ed4f0d",
   "metadata": {},
   "outputs": [
    {
     "data": {
      "text/plain": [
       "4.75"
      ]
     },
     "execution_count": 26,
     "metadata": {},
     "output_type": "execute_result"
    }
   ],
   "source": [
    "from scipy import stats\n",
    "stats.scoreatpercentile(fish_data,75)"
   ]
  },
  {
   "cell_type": "code",
   "execution_count": 29,
   "id": "961dc168",
   "metadata": {},
   "outputs": [],
   "source": [
    "fish_data2 = np.array([2,3,3,4,4,4,4,5,5,6,100])"
   ]
  },
  {
   "cell_type": "code",
   "execution_count": null,
   "id": "f5efa7dd",
   "metadata": {},
   "outputs": [],
   "source": [
    "print(fish_data2)\n",
    "print('평균:',fish_data2.mean().round(2))\n",
    "print('중앙값:',np.median(fish_data2))"
   ]
  },
  {
   "cell_type": "markdown",
   "id": "65d4eeaa",
   "metadata": {},
   "source": [
    "- 그룹별 통계량 : mean(), std(), describe()\n",
    "- 교차분석표 : pivot_table()\n",
    "- 깔끔한 데이터 : 행 하나에 1개의 결과가 있도록 정리. 교차분석표는 행이 변수의 의미를 갖는 경향이 있음\n",
    "- 공분산 :\n",
    " - 공분산 : 2개의 연속형 변수의 관계성을 확인하는 통계량\n",
    " - 공분산이 0보다 클 때 : 변수 한쪽이 큰 값을 갖게되면 다른 한 쪽도 커짐\n",
    " - 공분산이 0보다 작을 때 : 변수 한쪽이 큰 값을 갖게되면 다른 한 쪽도 작아짐\n",
    " - 공분산이 0일 때 : 변수 사이에 관계성이 없음\n",
    " - 공분산은 편리한 지표지만 최대값이나 최소값이 얼마가 될 지 알 수가 없으며\n",
    " - 단위가 cm에서 m로 변하면 공분산의 값도 변함. 사용이 편하도록 -1 ~ +1의 범위로 보정\n",
    "- 피어슨 상관계수 : 공분산을 최대값 1, 최소값 -1 사이가 되도록 표준화\n",
    " - cov / sp.sqrt(sigma_2_x * sigma_2_y)\n",
    " - 상관행렬 : 여러 변수의 상관계수들을 행렬 형태로 정리\n",
    " - 상관계수가 무의미할 때 : 상관계수가 0에 가까운 값을 가질 때는 실제 그래프로 관계를 확인"
   ]
  },
  {
   "cell_type": "code",
   "execution_count": 1,
   "id": "964c5669",
   "metadata": {},
   "outputs": [
    {
     "data": {
      "text/html": [
       "<div>\n",
       "<style scoped>\n",
       "    .dataframe tbody tr th:only-of-type {\n",
       "        vertical-align: middle;\n",
       "    }\n",
       "\n",
       "    .dataframe tbody tr th {\n",
       "        vertical-align: top;\n",
       "    }\n",
       "\n",
       "    .dataframe thead th {\n",
       "        text-align: right;\n",
       "    }\n",
       "</style>\n",
       "<table border=\"1\" class=\"dataframe\">\n",
       "  <thead>\n",
       "    <tr style=\"text-align: right;\">\n",
       "      <th></th>\n",
       "      <th>species</th>\n",
       "      <th>length</th>\n",
       "    </tr>\n",
       "  </thead>\n",
       "  <tbody>\n",
       "    <tr>\n",
       "      <th>0</th>\n",
       "      <td>A</td>\n",
       "      <td>2</td>\n",
       "    </tr>\n",
       "    <tr>\n",
       "      <th>1</th>\n",
       "      <td>A</td>\n",
       "      <td>3</td>\n",
       "    </tr>\n",
       "    <tr>\n",
       "      <th>2</th>\n",
       "      <td>A</td>\n",
       "      <td>4</td>\n",
       "    </tr>\n",
       "    <tr>\n",
       "      <th>3</th>\n",
       "      <td>B</td>\n",
       "      <td>6</td>\n",
       "    </tr>\n",
       "    <tr>\n",
       "      <th>4</th>\n",
       "      <td>B</td>\n",
       "      <td>8</td>\n",
       "    </tr>\n",
       "    <tr>\n",
       "      <th>5</th>\n",
       "      <td>B</td>\n",
       "      <td>10</td>\n",
       "    </tr>\n",
       "  </tbody>\n",
       "</table>\n",
       "</div>"
      ],
      "text/plain": [
       "  species  length\n",
       "0       A       2\n",
       "1       A       3\n",
       "2       A       4\n",
       "3       B       6\n",
       "4       B       8\n",
       "5       B      10"
      ]
     },
     "execution_count": 1,
     "metadata": {},
     "output_type": "execute_result"
    }
   ],
   "source": [
    "import pandas as pd\n",
    "fish_multi = pd.read_csv('dataset/5_2_fm.csv')\n",
    "fish_multi"
   ]
  },
  {
   "cell_type": "code",
   "execution_count": 2,
   "id": "ae2f2299",
   "metadata": {},
   "outputs": [
    {
     "name": "stdout",
     "output_type": "stream",
     "text": [
      "         length\n",
      "species        \n",
      "A             3\n",
      "B             8\n",
      "         length\n",
      "species        \n",
      "A           1.0\n",
      "B           2.0\n"
     ]
    },
    {
     "data": {
      "text/html": [
       "<div>\n",
       "<style scoped>\n",
       "    .dataframe tbody tr th:only-of-type {\n",
       "        vertical-align: middle;\n",
       "    }\n",
       "\n",
       "    .dataframe tbody tr th {\n",
       "        vertical-align: top;\n",
       "    }\n",
       "\n",
       "    .dataframe thead tr th {\n",
       "        text-align: left;\n",
       "    }\n",
       "\n",
       "    .dataframe thead tr:last-of-type th {\n",
       "        text-align: right;\n",
       "    }\n",
       "</style>\n",
       "<table border=\"1\" class=\"dataframe\">\n",
       "  <thead>\n",
       "    <tr>\n",
       "      <th></th>\n",
       "      <th colspan=\"8\" halign=\"left\">length</th>\n",
       "    </tr>\n",
       "    <tr>\n",
       "      <th></th>\n",
       "      <th>count</th>\n",
       "      <th>mean</th>\n",
       "      <th>std</th>\n",
       "      <th>min</th>\n",
       "      <th>25%</th>\n",
       "      <th>50%</th>\n",
       "      <th>75%</th>\n",
       "      <th>max</th>\n",
       "    </tr>\n",
       "    <tr>\n",
       "      <th>species</th>\n",
       "      <th></th>\n",
       "      <th></th>\n",
       "      <th></th>\n",
       "      <th></th>\n",
       "      <th></th>\n",
       "      <th></th>\n",
       "      <th></th>\n",
       "      <th></th>\n",
       "    </tr>\n",
       "  </thead>\n",
       "  <tbody>\n",
       "    <tr>\n",
       "      <th>A</th>\n",
       "      <td>3.0</td>\n",
       "      <td>3.0</td>\n",
       "      <td>1.0</td>\n",
       "      <td>2.0</td>\n",
       "      <td>2.5</td>\n",
       "      <td>3.0</td>\n",
       "      <td>3.5</td>\n",
       "      <td>4.0</td>\n",
       "    </tr>\n",
       "    <tr>\n",
       "      <th>B</th>\n",
       "      <td>3.0</td>\n",
       "      <td>8.0</td>\n",
       "      <td>2.0</td>\n",
       "      <td>6.0</td>\n",
       "      <td>7.0</td>\n",
       "      <td>8.0</td>\n",
       "      <td>9.0</td>\n",
       "      <td>10.0</td>\n",
       "    </tr>\n",
       "  </tbody>\n",
       "</table>\n",
       "</div>"
      ],
      "text/plain": [
       "        length                                    \n",
       "         count mean  std  min  25%  50%  75%   max\n",
       "species                                           \n",
       "A          3.0  3.0  1.0  2.0  2.5  3.0  3.5   4.0\n",
       "B          3.0  8.0  2.0  6.0  7.0  8.0  9.0  10.0"
      ]
     },
     "execution_count": 2,
     "metadata": {},
     "output_type": "execute_result"
    }
   ],
   "source": [
    "# 그룹별 통계량 계산\n",
    "group = fish_multi.groupby('species')\n",
    "print(group.mean())\n",
    "print(group.std(ddof=1))\n",
    "group.describe()"
   ]
  },
  {
   "cell_type": "code",
   "execution_count": 3,
   "id": "79ff2033",
   "metadata": {},
   "outputs": [
    {
     "data": {
      "text/html": [
       "<div>\n",
       "<style scoped>\n",
       "    .dataframe tbody tr th:only-of-type {\n",
       "        vertical-align: middle;\n",
       "    }\n",
       "\n",
       "    .dataframe tbody tr th {\n",
       "        vertical-align: top;\n",
       "    }\n",
       "\n",
       "    .dataframe thead th {\n",
       "        text-align: right;\n",
       "    }\n",
       "</style>\n",
       "<table border=\"1\" class=\"dataframe\">\n",
       "  <thead>\n",
       "    <tr style=\"text-align: right;\">\n",
       "      <th></th>\n",
       "      <th>x</th>\n",
       "      <th>y</th>\n",
       "    </tr>\n",
       "  </thead>\n",
       "  <tbody>\n",
       "    <tr>\n",
       "      <th>0</th>\n",
       "      <td>18.5</td>\n",
       "      <td>34</td>\n",
       "    </tr>\n",
       "    <tr>\n",
       "      <th>1</th>\n",
       "      <td>18.7</td>\n",
       "      <td>39</td>\n",
       "    </tr>\n",
       "    <tr>\n",
       "      <th>2</th>\n",
       "      <td>19.1</td>\n",
       "      <td>41</td>\n",
       "    </tr>\n",
       "    <tr>\n",
       "      <th>3</th>\n",
       "      <td>19.7</td>\n",
       "      <td>38</td>\n",
       "    </tr>\n",
       "    <tr>\n",
       "      <th>4</th>\n",
       "      <td>21.5</td>\n",
       "      <td>45</td>\n",
       "    </tr>\n",
       "    <tr>\n",
       "      <th>5</th>\n",
       "      <td>21.7</td>\n",
       "      <td>41</td>\n",
       "    </tr>\n",
       "    <tr>\n",
       "      <th>6</th>\n",
       "      <td>21.8</td>\n",
       "      <td>52</td>\n",
       "    </tr>\n",
       "    <tr>\n",
       "      <th>7</th>\n",
       "      <td>22.0</td>\n",
       "      <td>44</td>\n",
       "    </tr>\n",
       "    <tr>\n",
       "      <th>8</th>\n",
       "      <td>23.4</td>\n",
       "      <td>44</td>\n",
       "    </tr>\n",
       "    <tr>\n",
       "      <th>9</th>\n",
       "      <td>23.8</td>\n",
       "      <td>49</td>\n",
       "    </tr>\n",
       "  </tbody>\n",
       "</table>\n",
       "</div>"
      ],
      "text/plain": [
       "      x   y\n",
       "0  18.5  34\n",
       "1  18.7  39\n",
       "2  19.1  41\n",
       "3  19.7  38\n",
       "4  21.5  45\n",
       "5  21.7  41\n",
       "6  21.8  52\n",
       "7  22.0  44\n",
       "8  23.4  44\n",
       "9  23.8  49"
      ]
     },
     "execution_count": 3,
     "metadata": {},
     "output_type": "execute_result"
    }
   ],
   "source": [
    "cov_data = pd.read_csv('dataset/4_cov.csv')\n",
    "cov_data"
   ]
  },
  {
   "cell_type": "code",
   "execution_count": null,
   "id": "47082698",
   "metadata": {},
   "outputs": [],
   "source": [
    "# 과제\n",
    "# Q1. 공분산을 풀어서 구하세요."
   ]
  },
  {
   "cell_type": "code",
   "execution_count": null,
   "id": "9d8e91c7",
   "metadata": {},
   "outputs": [],
   "source": [
    "# 과제\n",
    "# Q2. 상관계수를 풀어서 구하세요."
   ]
  },
  {
   "cell_type": "code",
   "execution_count": 8,
   "id": "b7e5e6cb",
   "metadata": {},
   "outputs": [
    {
     "data": {
      "text/plain": [
       "array([[ 3.64622222,  7.67333333],\n",
       "       [ 7.67333333, 28.01111111]])"
      ]
     },
     "execution_count": 8,
     "metadata": {},
     "output_type": "execute_result"
    }
   ],
   "source": [
    "# 공분산 행렬\n",
    "import scipy as sp \n",
    "import numpy as np\n",
    "np.cov(cov_data.x,cov_data.y,ddof=1)"
   ]
  },
  {
   "cell_type": "code",
   "execution_count": 9,
   "id": "987d722c",
   "metadata": {},
   "outputs": [
    {
     "data": {
      "text/plain": [
       "array([[1.       , 0.7592719],\n",
       "       [0.7592719, 1.       ]])"
      ]
     },
     "execution_count": 9,
     "metadata": {},
     "output_type": "execute_result"
    }
   ],
   "source": [
    "# 상관 행렬\n",
    "np.corrcoef(cov_data.x,cov_data.y)"
   ]
  }
 ],
 "metadata": {
  "kernelspec": {
   "display_name": "Python 3",
   "language": "python",
   "name": "python3"
  },
  "language_info": {
   "codemirror_mode": {
    "name": "ipython",
    "version": 3
   },
   "file_extension": ".py",
   "mimetype": "text/x-python",
   "name": "python",
   "nbconvert_exporter": "python",
   "pygments_lexer": "ipython3",
   "version": "3.8.10"
  }
 },
 "nbformat": 4,
 "nbformat_minor": 5
}
