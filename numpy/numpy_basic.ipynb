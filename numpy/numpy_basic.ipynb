{
 "cells": [
  {
   "cell_type": "markdown",
   "source": [
    "## Numpy는 \"numerical python\"의 약자로 대규모 다차원 배열과 행렬연산에 필요한 다양한 함수를 제공\n",
    "- Numerical python을 의미하는 넘파이는 파이썬에서 선형대수 기반의 프로그램을 쉽게 만들 수 있도록 지원하는 대표적인 패키지\n",
    "- 많은 머신러닝 알고리즘이 넘파이 기반으로 작성돼 있으며 알고리즘의 입출력 데이터를 넘파이 배열 타입으로 사용함\n",
    "- 넘파이의 기본 데이터 타입은 ndarray.ndarray를 이용해 넘파이에서 다차원 배열을 쉽게 생성하고 다양한 연산 수행\n",
    "\n",
    "## Numpy 특징\n",
    "- 강력한 N차원 배열 객체\n",
    "- 정교한 브로드케스팅(Broadcast)기능 / 따로 나눠주지 않아도 각각 셀에 계산을 해줌\n",
    "- C/C++ 및 포트란 코드 통합 도구\n",
    "- 유용한 선형 대수학, 푸리에 변환 및 난수 기능\n",
    "- 범용적 데이터 처리에 사용 가능한 다차원 컨테이너"
   ],
   "metadata": {}
  },
  {
   "cell_type": "code",
   "execution_count": null,
   "source": [
    "import numpy as np\n",
    "data = np.random.randn(2,3) # 정규분포에서 숫자를 뽑아줌(randn)\n",
    "print(data,'\\n')\n",
    "print(data * 10, '\\n')\n",
    "print(data + data, '\\n')"
   ],
   "outputs": [],
   "metadata": {}
  },
  {
   "cell_type": "markdown",
   "source": [
    "다차원 배열\n",
    "\n",
    "<img src='numpy차원.jpg' STYLE = 'width:500px;'>"
   ],
   "metadata": {}
  },
  {
   "cell_type": "code",
   "execution_count": null,
   "source": [
    "data2 = [[1,2,3,4],[5,6,7,8]]\n",
    "arr2 = np.array(data2)\n",
    "arr2"
   ],
   "outputs": [],
   "metadata": {}
  },
  {
   "cell_type": "code",
   "execution_count": null,
   "source": [
    "arr2 = np.arange(1,9).reshape(2,4)\n",
    "arr2"
   ],
   "outputs": [],
   "metadata": {}
  },
  {
   "cell_type": "code",
   "execution_count": null,
   "source": [
    "print(arr2.ndim) # ndim = 차원 표시\n",
    "print(arr2.shape)"
   ],
   "outputs": [],
   "metadata": {}
  },
  {
   "cell_type": "code",
   "execution_count": null,
   "source": [
    "#각 배열 변환#\n",
    "array3 = np.array([[[1,2,3,4,5],[6,7,8,9,10]],[[1,2,3,4,5],[6,7,8,9,10]],[[1,2,3,4,5],[6,7,8,9,10]]])\n",
    "print(array3.ndim)\n",
    "print(array3.shape)"
   ],
   "outputs": [],
   "metadata": {}
  },
  {
   "cell_type": "code",
   "execution_count": null,
   "source": [
    "print(np.zeros(10),'\\n') # 0으로 구성된 10개의 원소들\n",
    "print(np.zeros((3,6)),'\\n')\n",
    "print(np.zeros((2,3,2)),'\\n')"
   ],
   "outputs": [],
   "metadata": {}
  },
  {
   "cell_type": "code",
   "execution_count": null,
   "source": [
    "print(np.ones(10),'\\n') # 1으로 구성된 10개의 원소들\n",
    "print(np.ones((3,6)),'\\n')\n",
    "print(np.ones((2,3,2)),'\\n')"
   ],
   "outputs": [],
   "metadata": {}
  },
  {
   "cell_type": "code",
   "execution_count": null,
   "source": [
    "arr3 = np.arange(15)\n",
    "# arr3 = np.arange(1,15)\n",
    "arr3"
   ],
   "outputs": [],
   "metadata": {}
  },
  {
   "cell_type": "code",
   "execution_count": null,
   "source": [
    "# reshape 함수 #행과 열 수를 맞춰야 됨\n",
    "arr3.reshape(3,5)\n",
    "arr3.reshape(5,-1) # -1을 입력하면 나머지 열 수를 알아서 정리해줌\n",
    "arr3.reshape(-1,15) # -1을 입력하면 나머지 행 수를 알아서 정리해줌\n"
   ],
   "outputs": [],
   "metadata": {}
  },
  {
   "cell_type": "code",
   "execution_count": null,
   "source": [
    "# 5행 3열, 7행 25열 다차원 배열을 생성하세요\n",
    "nar = np.arange(175).reshape(7,25)\n",
    "nar1 = np.arange(15).reshape(5,3)\n",
    "\n",
    "print(nar)\n",
    "print(nar1)"
   ],
   "outputs": [],
   "metadata": {}
  },
  {
   "cell_type": "code",
   "execution_count": null,
   "source": [
    "# 1~30연속된 정수로 1차원,2차원,3차원 배열을 생성하세요.\n",
    "wow = np.arange(1,31)\n",
    "wow1 = np.zeros((1,31))\n",
    "wow2 = np.ones((3,2,10))\n",
    "print(wow,'\\n') # 1d\n",
    "print(wow1,'\\n') # 2d\n",
    "print(wow2,'\\n') # 3d"
   ],
   "outputs": [],
   "metadata": {}
  },
  {
   "cell_type": "code",
   "execution_count": null,
   "source": [
    "# 연속된 정수 1~20으로 1차원 배열을 생성 후 2차원, 3차원으로 변환하세요\n",
    "wow = np.arange(1,21)\n",
    "print(wow,'\\n') # 1d\n",
    "print(wow.reshape(2,-1),'\\n') # 2d\n",
    "print(wow.reshape(2,2,-1),'\\n') # 3d"
   ],
   "outputs": [],
   "metadata": {}
  },
  {
   "cell_type": "code",
   "execution_count": null,
   "source": [
    "# 연속된 정수 1 ~ 30으로 2차원 배열을 생성한 후 1차원, 3차원 배열로 변환하세요.\n",
    "h = np.arange(1,31).reshape(3,-1)\n",
    "print(h)\n",
    "print(h.reshape(-1))\n",
    "print(h.reshape(3,2,-1))\n"
   ],
   "outputs": [],
   "metadata": {}
  },
  {
   "cell_type": "code",
   "execution_count": null,
   "source": [
    "# 연속된 정수 1 ~ 24로 3차원 배열을 생성한 후 1차원, 2차원 배열로 변환하세요.\n",
    "la = np.arange(1,25).reshape(3,2,4)\n",
    "print(la)\n",
    "print(la.reshape(-1))\n",
    "print(la.reshape(3,8))\n"
   ],
   "outputs": [],
   "metadata": {}
  },
  {
   "cell_type": "code",
   "execution_count": null,
   "source": [
    "# 배열을 리스트로 변환.\n",
    "arr9 = np.arange(30).reshape(5,3,2)\n",
    "arr9.tolist()"
   ],
   "outputs": [],
   "metadata": {}
  },
  {
   "cell_type": "code",
   "execution_count": null,
   "source": [
    "a = np.full((2,2),7) #np.full ((행렬),값으로 채움) \n",
    "a"
   ],
   "outputs": [],
   "metadata": {}
  },
  {
   "cell_type": "code",
   "execution_count": null,
   "source": [
    "# 항등행렬, 단위행렬\n",
    "ar = np.eye(3)\n",
    "ar"
   ],
   "outputs": [],
   "metadata": {}
  },
  {
   "cell_type": "code",
   "execution_count": null,
   "source": [
    "a = np.array([[1,2,3],[4,5,6]])\n",
    "print(a)\n",
    "b = np.zeros_like(a) # zeros_like(a) : a의 값들을 0로 만들어라\n",
    "b"
   ],
   "outputs": [],
   "metadata": {}
  },
  {
   "cell_type": "code",
   "execution_count": null,
   "source": [
    "# 0 ~ 10 사이를 균등하게 50개로 나눠준다\n",
    "np.linspace(0,10)\n",
    "\n",
    "# numpy.linspace(start, stop, num=50, endpoint=True,\n",
    "#                retstep=False, dtype=None, axis=0)[source]\n",
    "\n",
    "# numint, optional\n",
    "# Number of samples to generate. Default is 50. Must be non-negative."
   ],
   "outputs": [],
   "metadata": {}
  },
  {
   "cell_type": "code",
   "execution_count": null,
   "source": [
    "np.linspace(0,1,5,retstep=True)"
   ],
   "outputs": [],
   "metadata": {}
  },
  {
   "cell_type": "code",
   "execution_count": null,
   "source": [
    "import matplotlib.pyplot as plt\n",
    "x = np.linspace(0,1)\n",
    "y = np.linspace(0,50)\n",
    "plt.plot(x,y,'o')"
   ],
   "outputs": [],
   "metadata": {}
  },
  {
   "cell_type": "code",
   "execution_count": null,
   "source": [
    "x = np.linspace(0,20,20)\n",
    "y = np.linspace(0.1,1,20)\n",
    "plt.plot(x,y,'r') # r,^,*"
   ],
   "outputs": [],
   "metadata": {}
  },
  {
   "cell_type": "code",
   "execution_count": null,
   "source": [
    "print(np.log10(1.25892541))\n",
    "print(np.log10(10))\n",
    "np.logspace(0.1,1,20)"
   ],
   "outputs": [],
   "metadata": {}
  },
  {
   "cell_type": "code",
   "execution_count": null,
   "source": [
    "x = np.linspace(0,20,20)\n",
    "y = np.logspace(0.1,1,20)\n",
    "plt.plot(x,y,'o')"
   ],
   "outputs": [],
   "metadata": {}
  },
  {
   "cell_type": "code",
   "execution_count": null,
   "source": [
    "ar1 = np.array([1,2,3,4,5])\n",
    "print(ar1.dtype)\n",
    "float_ar1 = ar1.astype(np.float64)\n",
    "print(float_ar1.dtype)"
   ],
   "outputs": [],
   "metadata": {}
  },
  {
   "cell_type": "code",
   "execution_count": null,
   "source": [
    "numeric_string = np.array(['1.25','-9.5','42'],dtype=np.string_)\n",
    "numeric_string.astype(float)"
   ],
   "outputs": [],
   "metadata": {}
  },
  {
   "cell_type": "code",
   "execution_count": null,
   "source": [
    "# 정수와 실수로 구성된 list_e = [1.2,2.3,3]을 numpy를 이용해서\n",
    "#실수형과 정수형으로 각각 출력하세요.\n",
    "list_e = [1.2,2.3,3]\n",
    "nu_1 = np.array(list_e) # 실수와 정수가 섞여 있으면 실수로 인식(실수에 정수가 다 포함 되어 있기 때문)\n",
    "nu_2 = np.array(list_e,dtype=np.int64)\n",
    "print(nu_1.dtype)\n",
    "print(nu_2.dtype)"
   ],
   "outputs": [],
   "metadata": {}
  },
  {
   "cell_type": "code",
   "execution_count": null,
   "source": [
    "arr = np.array([[1,2,3],[4,5,6]])\n",
    "arr"
   ],
   "outputs": [],
   "metadata": {}
  },
  {
   "cell_type": "code",
   "execution_count": null,
   "source": [
    "arr1 = arr * arr # 같은 위치에 있는 셀 끼리 계산"
   ],
   "outputs": [],
   "metadata": {}
  },
  {
   "cell_type": "code",
   "execution_count": null,
   "source": [
    "arr2 = arr - arr"
   ],
   "outputs": [],
   "metadata": {}
  },
  {
   "cell_type": "code",
   "execution_count": null,
   "source": [
    "arr2 > arr1 # 같은 위치에 있는 셀 boolean 값으로 반환"
   ],
   "outputs": [],
   "metadata": {}
  },
  {
   "cell_type": "code",
   "execution_count": null,
   "source": [
    "ar2 = np.arange(1,10).reshape(3,3)\n",
    "ar2"
   ],
   "outputs": [],
   "metadata": {}
  },
  {
   "cell_type": "code",
   "execution_count": null,
   "source": [
    "ar2[2]"
   ],
   "outputs": [],
   "metadata": {}
  },
  {
   "cell_type": "code",
   "execution_count": null,
   "source": [
    "#ar2[0][2]\n",
    "ar2[0,2]"
   ],
   "outputs": [],
   "metadata": {}
  },
  {
   "cell_type": "code",
   "execution_count": null,
   "source": [
    "ar2 = np.arange(20).reshape(5,4)\n",
    "ar2"
   ],
   "outputs": [],
   "metadata": {}
  },
  {
   "cell_type": "code",
   "execution_count": null,
   "source": [
    "ar2[:2,1:]"
   ],
   "outputs": [],
   "metadata": {}
  },
  {
   "cell_type": "code",
   "execution_count": null,
   "source": [
    "# 과제\n",
    "ar2 = np.arange(1,10).reshape(3,3)\n",
    "ar2"
   ],
   "outputs": [],
   "metadata": {}
  },
  {
   "cell_type": "code",
   "execution_count": null,
   "source": [
    "# 과제\n",
    "# ar2 에서 슬라이싱을 사용해서 아래와 같이 출력하세요.\n",
    "# #1\n",
    "# [[1,2],\n",
    "# [4,5]]\n",
    "# #2\n",
    "# (2가지 방법)\n",
    "# [[4,5,6],\n",
    "# [7,8,9]]\n",
    "# #3\n",
    "# [[1,2,3],\n",
    "# [4,5,6],\n",
    "# [7,8,9]]\n",
    "# #4\n",
    "# [[2,3],\n",
    "# [5,6]]\n",
    "# #5\n",
    "# [1,4]"
   ],
   "outputs": [],
   "metadata": {}
  },
  {
   "cell_type": "code",
   "execution_count": null,
   "source": [
    "# 1\n",
    "ar2[:2,:2]"
   ],
   "outputs": [],
   "metadata": {}
  },
  {
   "cell_type": "code",
   "execution_count": null,
   "source": [
    "# 2\n",
    "print(ar2[1:3])\n",
    "print(ar2[1:][:])"
   ],
   "outputs": [],
   "metadata": {}
  },
  {
   "cell_type": "code",
   "execution_count": null,
   "source": [
    "# 3\n",
    "ar2[::]"
   ],
   "outputs": [],
   "metadata": {}
  },
  {
   "cell_type": "code",
   "execution_count": null,
   "source": [
    "# 4\n",
    "ar2[:2,1:]"
   ],
   "outputs": [],
   "metadata": {}
  },
  {
   "cell_type": "code",
   "execution_count": null,
   "source": [
    "# 5\n",
    "ar2[:2,0]"
   ],
   "outputs": [],
   "metadata": {}
  },
  {
   "cell_type": "code",
   "execution_count": null,
   "source": [
    "# Boolean Indexing\n",
    "ar1 = np.arange(1,10)\n",
    "print(ar1)\n",
    "ar2 = ar1[ar1 > 5]\n",
    "print(ar2)\n",
    "print(ar1 > 5)"
   ],
   "outputs": [],
   "metadata": {}
  },
  {
   "cell_type": "code",
   "execution_count": null,
   "source": [
    "indexes = np.array([5,6,7,8])\n",
    "ar3 = ar1[indexes]\n",
    "ar3"
   ],
   "outputs": [],
   "metadata": {}
  },
  {
   "cell_type": "code",
   "execution_count": null,
   "source": [
    "# 1 ~ 14까지 ndarray를 만들어 array_e로 저장하고 (array_e / 2) > 5를 만족하는\n",
    "# 불린 인덱스로 출력하세요\n",
    "\n",
    "array_e = np.arange(1,15)\n",
    "print((array_e / 2) > 5)\n",
    "array_e[(array_e / 2) > 5]"
   ],
   "outputs": [],
   "metadata": {}
  },
  {
   "cell_type": "code",
   "execution_count": null,
   "source": [
    "names = np.array(['Bob','Joe','Will','Bob','Will','Joe','Joe'])\n",
    "data = np.random.randn(7,4)\n",
    "print(names,'\\n')\n",
    "print(data,'\\n')"
   ],
   "outputs": [],
   "metadata": {}
  },
  {
   "cell_type": "code",
   "execution_count": null,
   "source": [
    "names == 'Bob'"
   ],
   "outputs": [],
   "metadata": {}
  },
  {
   "cell_type": "code",
   "execution_count": null,
   "source": [
    "data[names == 'Bob',2:]"
   ],
   "outputs": [],
   "metadata": {}
  },
  {
   "cell_type": "code",
   "execution_count": null,
   "source": [
    "data[names != 'Bob']"
   ],
   "outputs": [],
   "metadata": {}
  },
  {
   "cell_type": "code",
   "execution_count": null,
   "source": [
    "mask = (names == 'Bob') | (names == 'Will')\n",
    "data[mask]"
   ],
   "outputs": [],
   "metadata": {}
  },
  {
   "cell_type": "code",
   "execution_count": null,
   "source": [
    "data[data < 0] = 0\n",
    "data"
   ],
   "outputs": [],
   "metadata": {}
  },
  {
   "cell_type": "code",
   "execution_count": null,
   "source": [
    "data[names != 'Joe'] = 7\n",
    "data"
   ],
   "outputs": [],
   "metadata": {}
  },
  {
   "cell_type": "code",
   "execution_count": null,
   "source": [
    "# 배열 전치와 축 바꾸기\n",
    "ar = np.arange(15).reshape(3,5)\n",
    "ar"
   ],
   "outputs": [],
   "metadata": {}
  },
  {
   "cell_type": "code",
   "execution_count": null,
   "source": [
    "ar_1 = ar.T\n",
    "ar = ar_1.transpose()"
   ],
   "outputs": [],
   "metadata": {}
  },
  {
   "cell_type": "code",
   "execution_count": null,
   "source": [
    "np.random.seed(0)\n",
    "tr = np.random.randn(6,3)\n",
    "tr"
   ],
   "outputs": [],
   "metadata": {}
  },
  {
   "cell_type": "code",
   "execution_count": null,
   "source": [
    "# 1 ~ 100 까지 배열에서 3의 배수인 것 만을 출력\n",
    "tt = np.arange(1,101)\n",
    "tt[tt%3==0]"
   ],
   "outputs": [],
   "metadata": {}
  },
  {
   "cell_type": "code",
   "execution_count": null,
   "source": [
    "# 1 ~ 100 까지 배열에서 3, 5의 배수인 것 만을 출력\n",
    "tt = np.arange(1,101)\n",
    "tt[(tt%3==0) | (tt%5==0)]\n",
    "#tt[(tt%3|tt%5)==0] 공배수"
   ],
   "outputs": [],
   "metadata": {}
  },
  {
   "cell_type": "code",
   "execution_count": null,
   "source": [
    "ar = np.random.randn(5,4)\n",
    "ar"
   ],
   "outputs": [],
   "metadata": {}
  },
  {
   "cell_type": "code",
   "execution_count": null,
   "source": [
    "# 반올림\n",
    "ar.mean().round(4)"
   ],
   "outputs": [],
   "metadata": {}
  },
  {
   "cell_type": "code",
   "execution_count": null,
   "source": [
    "ar.sum().round(4)"
   ],
   "outputs": [],
   "metadata": {}
  },
  {
   "cell_type": "code",
   "execution_count": null,
   "source": [
    "# 누적 합계\n",
    "ar = np.arange(1,9)\n",
    "print(ar)\n",
    "ar.cumsum()"
   ],
   "outputs": [],
   "metadata": {}
  },
  {
   "cell_type": "code",
   "execution_count": null,
   "source": [
    "ar = np.arange(9).reshape(3,3)\n",
    "print(ar,'\\n')\n",
    "print(ar.cumsum(),'\\n') # 1차원\n",
    "print(ar.cumsum(axis=0),'\\n') #2차원\n",
    "print(ar.cumsum(axis=1))\n"
   ],
   "outputs": [],
   "metadata": {}
  },
  {
   "cell_type": "code",
   "execution_count": null,
   "source": [
    "ar = np.random.randn(10)\n",
    "print(ar,'\\n')\n",
    "#(ar > 0).sum()\n",
    "len(ar[ar>0])"
   ],
   "outputs": [],
   "metadata": {}
  },
  {
   "cell_type": "code",
   "execution_count": null,
   "source": [
    "# any 메서드 : 하나 이상의 값이 True 인지 검사\n",
    "bools = np.array([False,False,True,True])\n",
    "bools.any()"
   ],
   "outputs": [],
   "metadata": {}
  },
  {
   "cell_type": "code",
   "execution_count": null,
   "source": [
    "bools.all()"
   ],
   "outputs": [],
   "metadata": {}
  },
  {
   "cell_type": "code",
   "execution_count": null,
   "source": [
    "# 삼항식의 벡터화 버전 (조건,a,b) - 조건 참 = a, 거짓 = b\n",
    "ar = np.random.randn(4,4)\n",
    "print(ar)\n",
    "np.where(ar > 0, 2, -2) # ar > 0 True = 2 반환 False = -2 반환"
   ],
   "outputs": [],
   "metadata": {}
  },
  {
   "cell_type": "code",
   "execution_count": null,
   "source": [
    "# ar 에서 양수를 전부 2로 출력하세요\n",
    "np.where(ar > 0 ,2,ar)\n"
   ],
   "outputs": [],
   "metadata": {}
  },
  {
   "cell_type": "code",
   "execution_count": null,
   "source": [
    "# np.sort() : 원본에 반영이 안됨\n",
    "ar = np.random.randn(5)\n",
    "print(ar,'\\n')\n",
    "print(np.sort(ar),'\\n')\n",
    "print(ar)"
   ],
   "outputs": [],
   "metadata": {}
  },
  {
   "cell_type": "code",
   "execution_count": null,
   "source": [
    "# 행렬이 2차원 이상일 경우 axis 축 값 설정을 통해 행, 열 방향으로 정렬 수행\n",
    "ar2 = np.array([[8,12],[7,1]])\n",
    "\n",
    "sort_sr2_a0 = np.sort(ar2,axis=0)\n",
    "print(sort_sr2_a0,'\\n')\n",
    "sort_sr2_a1 = np.sort(ar2,axis=1)\n",
    "print(sort_sr2_a1)"
   ],
   "outputs": [],
   "metadata": {}
  },
  {
   "cell_type": "code",
   "execution_count": null,
   "source": [
    "# ndarray.sort() : 원본 반영 됨\n",
    "ar = np.random.randn(6)\n",
    "print(ar,'\\n')\n",
    "ar.sort() # 값을 반환 안해서 출력해도 None 값 나옴\n",
    "print(ar)\n"
   ],
   "outputs": [],
   "metadata": {}
  },
  {
   "cell_type": "code",
   "execution_count": null,
   "source": [
    "li = list( range(120,0,-1) )\n",
    "ar = np.array(li).reshape(2,3,4,5)\n",
    "#ar = np.random.randn(2,3,2,3)\n",
    "print(ar)\n",
    "print('\\n=============\\n')\n",
    "print(np.sort(ar,axis=0))\n",
    "print('\\n=============\\n')\n",
    "\n",
    "print('\\n=============\\n')\n",
    "print(np.sort(ar,axis=1))\n",
    "print('\\n=============\\n')\n",
    "\n",
    "print('\\n=============\\n')\n",
    "print(np.sort(ar,axis=2))\n",
    "print('\\n=============\\n')\n",
    "\n",
    "print('\\n=============\\n')\n",
    "print(np.sort(ar,axis=3))\n",
    "print('\\n=============\\n')\n",
    "\n",
    "print('\\n=============\\n')\n",
    "print(np.sort(ar,axis=4))\n",
    "print('\\n=============\\n')"
   ],
   "outputs": [],
   "metadata": {}
  },
  {
   "cell_type": "code",
   "execution_count": null,
   "source": [
    "# 열 방향 # 데이터프레임과 배열에서는 반대로 이루어져 있음\n",
    "np.random.seed(0)\n",
    "ar2 = np.random.randn(5,3)\n",
    "print(ar2,'\\n')\n",
    "ar2.sort(1)\n",
    "print(ar2,'\\n')\n",
    "ar2.sort(0)\n",
    "print(ar2)"
   ],
   "outputs": [],
   "metadata": {}
  },
  {
   "cell_type": "code",
   "execution_count": null,
   "source": [
    "# 행 방향\n",
    "print(ar2,'\\n')\n",
    "ar2.sort(0)\n",
    "print(ar2)\n",
    "# 아직 검증이 덜 끝났는데 \n",
    "# ar = np.random.randn(axis=0번째 자리 ,axis=1번째 자리 ,axis=2번째 자리 ,axis=3번째 자리 ) 인것 같아요"
   ],
   "outputs": [],
   "metadata": {}
  },
  {
   "cell_type": "code",
   "execution_count": null,
   "source": [
    "ar = np.array([3,3,2,2,1,1])\n",
    "np.unique(ar)"
   ],
   "outputs": [],
   "metadata": {}
  },
  {
   "cell_type": "code",
   "execution_count": null,
   "source": [
    "values = np.array([6,0,0,3,2,5,6])\n",
    "np.in1d(values,[2,3,6]) #원소들의 위치를 True로 출력"
   ],
   "outputs": [],
   "metadata": {}
  },
  {
   "cell_type": "code",
   "execution_count": null,
   "source": [
    "# 배열 데이터 입출력 : np.save, np.load(파일명.npy) 형식\n",
    "arr = np.arange(10)\n",
    "np.save('some_array',arr)\n",
    "\n",
    "np.load('some_array.npy')\n"
   ],
   "outputs": [],
   "metadata": {}
  },
  {
   "cell_type": "markdown",
   "source": [
    "선형대수\n",
    "\n",
    "<img src = '내적.jpg' STYLE = 'width:500px;'>\n",
    "\n",
    "벡터 a를 벡터 b와 같은 방향의 성분과 그렇지 않은 성분으로 분해한다고 할 때 $|a|cosθ$의 길이는 벡터 b와 같은 방향의 성분 길이와 같다.  \n",
    "\n",
    "벡터 a와 b의 내적은 벡터 b의 길이와 벡터 a에서 벡터 b와 같은 방향의 성분 길이를 곱한 것이다.\n",
    "\n",
    "- 행렬 내적은 행렬 곱이며 두 행렬 A와 B의 내적은 np.dot()을 이용해 계산이 가능\n",
    "- 행렬 내적의 특성으로 왼쪽 행렬의 열개수와 오른쪽 행렬의 행개수가 동일해야 내적 연산 가능"
   ],
   "metadata": {}
  },
  {
   "cell_type": "code",
   "execution_count": null,
   "source": [
    "# 행렬곱 : x.dot(y), np.dot(x,y)\n",
    "x = np.arange(1,7).reshape(2,3)\n",
    "y = np.array([[6,23],[-1,7,],[8,9]])\n",
    "print(x,'\\n')\n",
    "print(y,'\\n')\n",
    "# 결과는 2행 2열로 나옴\n",
    "np.dot(x,y)"
   ],
   "outputs": [],
   "metadata": {}
  },
  {
   "cell_type": "markdown",
   "source": [
    "행렬 곱을 응용하여 신경망에 적용\n",
    "\n",
    "<img src = '행렬곱.jpg' STYLE = 'width:500px;'>"
   ],
   "metadata": {}
  },
  {
   "cell_type": "code",
   "execution_count": 267,
   "source": [
    "# 역행렬 : 어떤 행렬 A와 곱했을 때 곱셈에 대한 항등원인 단위행렬 E가\n",
    "# 나오는 행렬을 행렬 A의 역행렬이라고 함 np.linalg.inv()\n",
    "np.random.seed(0)\n",
    "mt1 = np.random.randint(1,4,size=(3,3))\n",
    "print(mt1)\n",
    "mt2 = np.linalg.inv(mt1)\n",
    "np.dot(mt1,mt2) # 행렬 곱을 해서 \n",
    "역행렬인지 확인"
   ],
   "outputs": [
    {
     "output_type": "stream",
     "name": "stdout",
     "text": [
      "[[1 2 1]\n",
      " [2 2 3]\n",
      " [1 3 1]]\n"
     ]
    },
    {
     "output_type": "execute_result",
     "data": {
      "text/plain": [
       "array([[1., 0., 0.],\n",
       "       [0., 1., 0.],\n",
       "       [0., 0., 1.]])"
      ]
     },
     "metadata": {},
     "execution_count": 267
    }
   ],
   "metadata": {}
  },
  {
   "cell_type": "code",
   "execution_count": 268,
   "source": [
    "# a1, b1의 행렬 내적\n",
    "a1 = np.arange(1,7).reshape(2,3)\n",
    "b1 = np.arange(10,16).reshape(3,2)\n",
    "np.dot(a1,b1)"
   ],
   "outputs": [
    {
     "output_type": "execute_result",
     "data": {
      "text/plain": [
       "array([[ 76,  82],\n",
       "       [184, 199]])"
      ]
     },
     "metadata": {},
     "execution_count": 268
    }
   ],
   "metadata": {}
  },
  {
   "cell_type": "code",
   "execution_count": null,
   "source": [],
   "outputs": [],
   "metadata": {}
  },
  {
   "cell_type": "code",
   "execution_count": null,
   "source": [],
   "outputs": [],
   "metadata": {}
  },
  {
   "cell_type": "code",
   "execution_count": null,
   "source": [],
   "outputs": [],
   "metadata": {}
  },
  {
   "cell_type": "code",
   "execution_count": null,
   "source": [],
   "outputs": [],
   "metadata": {}
  }
 ],
 "metadata": {
  "orig_nbformat": 4,
  "language_info": {
   "name": "python"
  }
 },
 "nbformat": 4,
 "nbformat_minor": 2
}