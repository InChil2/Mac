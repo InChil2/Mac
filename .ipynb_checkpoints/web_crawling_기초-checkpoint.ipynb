{
 "cells": [
  {
   "cell_type": "code",
   "execution_count": null,
   "id": "8edb8e14",
   "metadata": {
    "id": "8edb8e14",
    "outputId": "ed2f844f-1a3f-466f-b9cb-985ae4f7a549"
   },
   "outputs": [],
   "source": [
    "text = \"<k-digital training 3기>\"\n",
    "text1 = 'abc'\n",
    "print(text[0])\n",
    "print(text[-1])\n",
    "print(text1.title()) #첫 글자만 대문자로 변환 title() 띄어쓰기가 되어 있으면 전부 대문자로 바꿈\n",
    "print(text1.upper()) #모든 글자를 대문자로 변환\n",
    "print(text.capitalize()[1])\n",
    "print(text.title())"
   ]
  },
  {
   "cell_type": "code",
   "execution_count": null,
   "id": "7083450e",
   "metadata": {
    "id": "7083450e"
   },
   "outputs": [],
   "source": [
    "#과제 \n",
    "# <K-Digital Training 3기>"
   ]
  },
  {
   "cell_type": "code",
   "execution_count": null,
   "id": "51383733",
   "metadata": {
    "id": "51383733",
    "outputId": "7b92a233-4f0c-429b-ea63-2aa37c635408"
   },
   "outputs": [],
   "source": [
    "text1 = \"   <K-Digital Training 3기>   \"\n",
    "text2 = ';'\n",
    "print(text1.strip() + text2)\n",
    "print(text1.lstrip() + text2)\n",
    "print(text1.rstrip() + text2)"
   ]
  },
  {
   "cell_type": "code",
   "execution_count": null,
   "id": "c474d91b",
   "metadata": {
    "id": "c474d91b",
    "outputId": "1ebfb661-8b0e-48ea-b2ad-0263b475b462",
    "scrolled": true
   },
   "outputs": [],
   "source": [
    "#다음을 출력하세요\n",
    "#<div>K-Digital Training 3기</title>\n",
    "#<div>K-Digital Training 3기</div>\n",
    "text = \"<title>K-Digital Training 3기</title>\"\n",
    "print(text.replace('title','div'))\n",
    "print(text.replace('<title>','<div>'))"
   ]
  },
  {
   "cell_type": "code",
   "execution_count": null,
   "id": "0bd567de",
   "metadata": {
    "id": "0bd567de",
    "outputId": "bf94b5fa-c52a-4f65-a545-cc0a4a111147"
   },
   "outputs": [],
   "source": [
    "#셀레니움 뷰티풀 숲? 으로 필요한 부분만 추출\n",
    "import re\n",
    "text = ('111<head>안녕하세요</head>')\n",
    "filter_text = re.search('<.+>+',text)\n",
    "\n",
    "print(filter_text.group())\n",
    "filter_text.group()"
   ]
  },
  {
   "cell_type": "code",
   "execution_count": null,
   "id": "8603ffe1",
   "metadata": {
    "id": "8603ffe1",
    "outputId": "c9fbe0d5-9072-4126-84d5-46cb6ab1ac98"
   },
   "outputs": [],
   "source": [
    "import re\n",
    "text = ('111<head>안녕하세요</head>')\n",
    "filter_text = re.search('[가-힣]+',text)\n",
    "\n",
    "print(filter_text.group())\n",
    "filter_text.group()"
   ]
  },
  {
   "cell_type": "code",
   "execution_count": null,
   "id": "9c135d53",
   "metadata": {
    "id": "9c135d53",
    "outputId": "e8e69a57-169e-4734-c736-f00d367fcb5c"
   },
   "outputs": [],
   "source": [
    "import requests\n",
    "URL = 'https://naver.com'\n",
    "response = requests.get(URL)\n",
    "print(response.text)"
   ]
  },
  {
   "cell_type": "code",
   "execution_count": null,
   "id": "fd06d49a",
   "metadata": {
    "id": "fd06d49a",
    "outputId": "939fb4ec-2308-4939-fc1d-639d5fd6b9ec"
   },
   "outputs": [],
   "source": [
    "text = '''<meta property=\"og:description\"\n",
    "content=\"네이버 메인에서 다양한 정보와 유용한 컨텐츠를 만나 보세요\"/>'''\n",
    "#p = re.search('([가-힣]+\\s?)+',text)\n",
    "p = re.search('([가-힣]+ *)+',text)\n",
    "print(p.group())"
   ]
  },
  {
   "cell_type": "code",
   "execution_count": null,
   "id": "0fef48f7",
   "metadata": {
    "id": "0fef48f7",
    "outputId": "54ca867f-8dfb-4d58-c42d-b350fdfd8d7f"
   },
   "outputs": [],
   "source": [
    "import re\n",
    "text = \"<title>K-Digital Training 3기</title>\"\n",
    "# text = re.sub('<title>','',text)\n",
    "# text = re.sub('</title>','',text)\n",
    "text = re.sub('<.+?>','',text)\n",
    "print(text)"
   ]
  },
  {
   "cell_type": "code",
   "execution_count": null,
   "id": "ead01853",
   "metadata": {
    "id": "ead01853",
    "outputId": "b00e58a5-97eb-4b8e-adbb-c18de1f2d4c0"
   },
   "outputs": [],
   "source": [
    "# k-digital training 3기만 출력\n",
    "text = '''<head> 안녕하세요... <title>k-digital training 3기</title>\n",
    "반갑습니다...</head>'''\n",
    "import re\n",
    "p = re.search('[a-z]-.+[가-힣]',text)\n",
    "print(p.group())"
   ]
  },
  {
   "cell_type": "code",
   "execution_count": null,
   "id": "bcbfeb6b",
   "metadata": {
    "id": "bcbfeb6b",
    "outputId": "56cd6d07-5ff2-4452-9363-896baf6d4ca7"
   },
   "outputs": [],
   "source": [
    "text = '''<head> 안녕하세요... <title>k-digital training 3기</title>\n",
    "반갑습니다...</head>'''\n",
    "import re\n",
    "\n",
    "body = re.search('<title.*/title>',text)\n",
    "body = body.group()\n",
    "print(body)\n",
    "body = re.sub('<.+?>','',body)\n",
    "print(body)"
   ]
  },
  {
   "cell_type": "code",
   "execution_count": null,
   "id": "542628b6",
   "metadata": {
    "id": "542628b6",
    "outputId": "6f42f067-a0f9-4e07-9559-fc96598a4eb1"
   },
   "outputs": [],
   "source": [
    "text = '''<head> 안녕하세요... <title>k-digital training 3기</title>\n",
    "반갑습니다...</head>'''\n",
    "import re\n",
    "p = re.sub('<.+?>','',text)\n",
    "p1 = re.sub('([가-힣]+...)','',p)\n",
    "print(p1)"
   ]
  },
  {
   "cell_type": "code",
   "execution_count": 2,
   "id": "b0f8b5d3",
   "metadata": {
    "id": "b0f8b5d3"
   },
   "outputs": [],
   "source": [
    "# request 모듈 : pip install requests 설치, anaconda를 설치하면 기본적으로 설치 되어 있음\n",
    "# import requests로 모듈 호출 후 사용"
   ]
  },
  {
   "cell_type": "code",
   "execution_count": null,
   "id": "22612e39",
   "metadata": {
    "id": "22612e39",
    "outputId": "bf1cc476-4c18-4f9b-e5f4-0e5f0915755c"
   },
   "outputs": [],
   "source": [
    "import requests\n",
    "URL = 'https://www.naver.com'\n",
    "response = requests.get(URL)\n",
    "print(response.status_code)\n",
    "print(response.text)"
   ]
  },
  {
   "cell_type": "code",
   "execution_count": null,
   "id": "a7577cf5",
   "metadata": {
    "id": "a7577cf5",
    "outputId": "1b6360df-d5fd-4064-9256-2a51273883fb"
   },
   "outputs": [],
   "source": [
    "import requests\n",
    "html_data = response.text\n",
    "print(html_data.find('네이버'))\n",
    "print(html_data[365:368])"
   ]
  },
  {
   "cell_type": "code",
   "execution_count": null,
   "id": "8c07d5d2",
   "metadata": {
    "id": "8c07d5d2",
    "outputId": "2e5ef59b-8ade-4665-d8ef-834662052583"
   },
   "outputs": [],
   "source": [
    "body = response.text\n",
    "print(body.find('네이버 메인에서 다양한'))\n",
    "print(body[365:397])"
   ]
  },
  {
   "cell_type": "code",
   "execution_count": null,
   "id": "7ca472f5",
   "metadata": {
    "id": "7ca472f5",
    "outputId": "ea28600b-df13-4ac2-b829-a2f935abc3ec"
   },
   "outputs": [],
   "source": [
    "# 위 문제를 정규 표현식으로 출력하세요\n",
    "# <meta name=\"twitter:description\" content=\"네이버 메인에서 다양한 정보와 유용한 컨텐츠를 만나 보세요\"/> \n",
    "import re\n",
    "import requests\n",
    "body = response.text\n",
    "#r = re.search('([가-힣]+\\s?)+',body)\n",
    "r = re.search('([가-힣]+ *)+',body)\n",
    "print(r.group())"
   ]
  },
  {
   "cell_type": "code",
   "execution_count": null,
   "id": "4f0d0e58",
   "metadata": {
    "id": "4f0d0e58",
    "outputId": "a258632c-c003-4dad-fb98-0e9cd82aa66f"
   },
   "outputs": [],
   "source": [
    "content = body.split('<meta property=')[1] # 스플릿으로 나눠서 인덱싱 한다음\n",
    "content = re.search('네이버',content) # 정규표현식으로 찾아서 출력\n",
    "print(content.group())"
   ]
  },
  {
   "cell_type": "code",
   "execution_count": null,
   "id": "84230046",
   "metadata": {
    "id": "84230046",
    "outputId": "e0ed9c53-b27b-4ba2-aa9f-30a96da7e011"
   },
   "outputs": [],
   "source": [
    "#get 메소드에 params 인자를 넣어 함께 get 요청(파라미터 : query)\n",
    "import requests\n",
    "URL = 'https://search.naver.com/search.naver'\n",
    "params = {'query':'aa'}\n",
    "response = requests.get(URL,params=params)\n",
    "print(response.status_code)\n",
    "print(response.text)"
   ]
  },
  {
   "cell_type": "code",
   "execution_count": null,
   "id": "1f561d5c",
   "metadata": {
    "id": "1f561d5c",
    "outputId": "813f0adf-24ee-4d32-e67b-9da3bbb39088"
   },
   "outputs": [],
   "source": [
    "import requests\n",
    "URL = 'https://www.naver.com'\n",
    "response = requests.get(URL)\n",
    "content = response.text\n",
    "body = re.search('<h3.*/h3>',content)\n",
    "body = body.group()\n",
    "print(body)\n",
    "body = re.sub('<.+?>','',body) #?는 있거나 말거나 <괄호> 를 모두 공백으로 바꾼다\n",
    "print(body)"
   ]
  },
  {
   "cell_type": "code",
   "execution_count": null,
   "id": "8abfefaf",
   "metadata": {
    "id": "8abfefaf",
    "outputId": "e9470524-7d5a-4494-f615-a701524e67b0"
   },
   "outputs": [],
   "source": [
    "import requests\n",
    "URL = 'https://datalab.naver.com/'\n",
    "response = requests.get(URL)\n",
    "content = response.text\n",
    "r = content.split('<span class=\"title\">')\n",
    "body = re.findall('[가-힣]+원피스',content)\n",
    "print(body)"
   ]
  },
  {
   "cell_type": "code",
   "execution_count": null,
   "id": "53dd9f0f",
   "metadata": {
    "id": "53dd9f0f",
    "outputId": "8ccd4ff8-e82d-4014-f8c6-12b12431956c"
   },
   "outputs": [],
   "source": [
    "import requests\n",
    "URL = 'https://datalab.naver.com/'\n",
    "response = requests.get(URL)\n",
    "content = response.text\n",
    "print(content.find('원피스'))\n",
    "body = re.findall('[가-힣]+원피스',content)\n",
    "print(body)"
   ]
  },
  {
   "cell_type": "code",
   "execution_count": null,
   "id": "1f4fc47e",
   "metadata": {
    "id": "1f4fc47e",
    "outputId": "f2beec9a-785d-4428-e8f3-c53b605cc9d3"
   },
   "outputs": [],
   "source": [
    "#https://search.shopping.naver.com/best100v2/main.nhn 에서 크록스를 출력하세요\n",
    "import requests\n",
    "URL = 'https://search.shopping.naver.com/best100v2/main.nhn'\n",
    "response = requests.get(URL)\n",
    "content = response.text\n",
    "print(content.find('크록스'))\n",
    "body = re.findall('(크록스\\s[가-힣]+)+\\s[가-힣]',content)\n",
    "print(body)"
   ]
  },
  {
   "cell_type": "code",
   "execution_count": null,
   "id": "75eab19c",
   "metadata": {
    "id": "75eab19c",
    "outputId": "e52c5b15-26b8-49e3-fd6a-834d07442eb9"
   },
   "outputs": [],
   "source": [
    "# URL = https://naver.com 에서 split() 함수화 정규표현식을 이용하여\n",
    "#['메일','카페','블로그','지식iN','쇼핑']을 출력하세요\n",
    "import re\n",
    "import requests\n",
    "URL = 'https://naver.com'\n",
    "response = requests.get(URL)\n",
    "a = response.text\n",
    "b = re.search('''class=\"nav\".+?</li>+''',a)\n",
    "\n",
    "print(b)\n",
    "\n",
    "c = re.sub('<.+?/>','',b)\n",
    "print(c)"
   ]
  },
  {
   "cell_type": "code",
   "execution_count": null,
   "id": "3c9423fe",
   "metadata": {
    "id": "3c9423fe",
    "outputId": "fdc4635e-bef2-463d-dc99-8820f47607f9"
   },
   "outputs": [],
   "source": [
    "# URL = https://naver.com 에서 split() 함수화 정규표현식을 이용하여\n",
    "#['메일','카페','블로그','지식iN','쇼핑']을 출력하세요\n",
    "import re\n",
    "import requests\n",
    "URL = 'https://naver.com'\n",
    "response = requests.get(URL)\n",
    "a = response.text\n",
    "li = []\n",
    "for i in range(5):\n",
    "    result = a.split('<li class=\"nav_item\">')[i+1]\n",
    "    print(result)\n",
    "word = re.sub('<.+?>','',result)\n",
    "print(word)"
   ]
  },
  {
   "cell_type": "code",
   "execution_count": null,
   "id": "0fccadc7",
   "metadata": {
    "id": "0fccadc7",
    "outputId": "0badc988-d986-416d-e5e9-208c68272b1e"
   },
   "outputs": [],
   "source": [
    "import urllib\n",
    "URL = 'https://www.naver.com'\n",
    "request = urllib.request.Request(URL)\n",
    "print(request)\n",
    "print(request.full_url)\n",
    "print(request.type)\n",
    "print(request.host)"
   ]
  },
  {
   "cell_type": "code",
   "execution_count": null,
   "id": "04436d56",
   "metadata": {
    "id": "04436d56",
    "outputId": "4f5657c5-861f-4a18-b223-ae0b32c27391"
   },
   "outputs": [],
   "source": [
    "import urllib\n",
    "URL = 'https://www.naver.com'\n",
    "response = urllib.request.urlopen(URL)\n",
    "byte_data = response.read(500)\n",
    "text_data = byte_data.decode('utf-8')\n",
    "print(text_data)"
   ]
  },
  {
   "cell_type": "code",
   "execution_count": null,
   "id": "2415c5d5",
   "metadata": {
    "id": "2415c5d5",
    "outputId": "7591f589-c79f-40a3-9ad7-8205dd5a0248"
   },
   "outputs": [],
   "source": [
    "# urllib.request.urlretrieve(): 웹상의 이미지 저장\n",
    "import urllib.request\n",
    "img_src = 'https://homepages.cae.wisc.edu/~ece533/images/tulips.png'\n",
    "new_name = 'img.png'\n",
    "urllib.request.urlretrieve(img_src,new_name)"
   ]
  },
  {
   "cell_type": "code",
   "execution_count": null,
   "id": "6bf9f42e",
   "metadata": {
    "id": "6bf9f42e",
    "outputId": "65c1f49b-4054-4ed2-9cca-045463ff20c2"
   },
   "outputs": [],
   "source": [
    "#단순한 패턴을 읽을 때는 복잡한 정규표현식 보다는 간단한 parse 모듈을 사용\n",
    "#urllib.parse : url을 6개로 분리하여 반환\n",
    "\n",
    "import urllib\n",
    "parse = urllib.parse.urlparse('https://section.blog.naver.com/Search/Post.naver?pageNo=1&rangeType=ALL&orderBy=sim&keyword=ai')\n",
    "print(parse)\n",
    "print(parse[0])\n",
    "print(parse[5])\n",
    "print(parse[:5])\n",
    "print(parse.query)"
   ]
  },
  {
   "cell_type": "code",
   "execution_count": null,
   "id": "9d24aeb5",
   "metadata": {
    "id": "9d24aeb5",
    "outputId": "0d1f54b1-749a-4ec7-e4ff-b99e5674ea70"
   },
   "outputs": [],
   "source": [
    "# 튜플(변경 불가능)으로 반환 되기 떄문에 리스트(변경 가능)로 변경하여 활용\n",
    "import urllib\n",
    "parse = urllib.parse.urlparse('https://blog.naver.com/koreatech91;a=1?b=2#b')\n",
    "print(parse)\n",
    "parse = list(parse)\n",
    "parse[1] = 'blog.daum.net'\n",
    "print(parse)"
   ]
  },
  {
   "cell_type": "code",
   "execution_count": null,
   "id": "f56d91cc",
   "metadata": {
    "id": "f56d91cc"
   },
   "outputs": [],
   "source": [
    "import urllib\n",
    "URL = 'https://www.naver.com'\n",
    "response = urllib.request.urlopen(URL)\n",
    "byte_data = response.read(500)\n",
    "text_data = byte_data.decode('utf-8')\n",
    "print(text_data)"
   ]
  },
  {
   "cell_type": "code",
   "execution_count": null,
   "id": "b7526a6f",
   "metadata": {
    "id": "b7526a6f",
    "outputId": "df3ab595-a1b5-43fc-b479-31c32b785b81"
   },
   "outputs": [],
   "source": [
    "#원하는 웹 사이트를 requests 모듈과 urllib 모듈로 가져와서 text로 출력하세요\n",
    "import requests\n",
    "import urllib\n",
    "URL = 'https://datalab.naver.com'\n",
    "response = urllib.request.urlopen(URL)\n",
    "web_code = response.read()\n",
    "web_code1 = web_code.decode('utf-8')\n",
    "li = []\n",
    "for i in range(10):\n",
    "    filter_data = web_code1.split('<span class=\"title\">')[i+1]\n",
    "    filter_data = re.sub('<.+/?>','',filter_data)\n",
    "    filter_data = re.sub(r'\\n','',filter_data)\n",
    "    li.append(filter_data)\n",
    "print(li)"
   ]
  },
  {
   "cell_type": "code",
   "execution_count": null,
   "id": "8dbc15de",
   "metadata": {
    "id": "8dbc15de"
   },
   "outputs": [],
   "source": [
    "<yt-formatted-string class=\"style-scope ytd-video-renderer\" \n",
    "aria-label=\"[MSG워너비] 정상동기- 나를 아는 사람 음악중심 데뷔 무대! (Hangout with Yoo - MSG WANNABE) 게시자: 놀면 뭐하니? 1일 전 5분 2초 조회수 1,625,145회\">\n",
    "[MSG워너비] 정상동기- 나를 아는 사람 음악중심 데뷔 무대! (Hangout with Yoo - MSG WANNABE)</yt-formatted-string>"
   ]
  },
  {
   "cell_type": "code",
   "execution_count": null,
   "id": "3c1500b5",
   "metadata": {
    "id": "3c1500b5"
   },
   "outputs": [],
   "source": [
    "<yt-formatted-string class=\"style-scope ytd-video-renderer\" \n",
    "aria-label=\"[MSG워너비] M.O.M - 바라만 본다 음악중심 데뷔 무대! (Hangout with Yoo - MSG WANNABE) 게시자: 놀면 뭐하니? 1일 전 3분 47초 조회수 2,113,948회\">\n",
    "[MSG워너비] M.O.M - 바라만 본다 음악중심 데뷔 무대! (Hangout with Yoo - MSG WANNABE)</yt-formatted-string>"
   ]
  },
  {
   "cell_type": "code",
   "execution_count": null,
   "id": "291d1846",
   "metadata": {
    "id": "291d1846"
   },
   "outputs": [],
   "source": [
    "# 정규 표현식이 특정 단어를 출력하세요"
   ]
  },
  {
   "cell_type": "code",
   "execution_count": null,
   "id": "132c7724",
   "metadata": {
    "id": "132c7724"
   },
   "outputs": [],
   "source": [
    "#웹에서 이미지를 다운 받아서 저장하세요(가능한 이미지 선택)"
   ]
  },
  {
   "cell_type": "code",
   "execution_count": null,
   "id": "802c10a8",
   "metadata": {
    "id": "802c10a8",
    "outputId": "c7f904aa-0a99-46bc-ac9b-c662c54a0603"
   },
   "outputs": [],
   "source": [
    "#도전 과제\n",
    "#네이버 영화 랭킹 가져와서 첫 번째 영화 제목을 출력하세요\n",
    "import requests\n",
    "import urllib\n",
    "\n",
    "URL = 'https://movie.naver.com/movie/sdb/rank/rmovie.nhn'\n",
    "response = urllib.request.urlopen(URL)\n",
    "movie_f = response.read()\n",
    "movie_f = movie_f.decode('utf-8')\n",
    "movie_data = movie_f.split('<div class=\"tit3\">')[1]\n",
    "movie_data = movie_f.split('<td>')\n",
    "movie_data\n"
   ]
  },
  {
   "cell_type": "code",
   "execution_count": null,
   "id": "d0c64604",
   "metadata": {
    "id": "d0c64604"
   },
   "outputs": [],
   "source": [
    "<td class=\"title\"></td>\n",
    "<p class=\"r_date\">2021.07.04 <a href=\"rmovie.nhn?sel=cnt&amp;tg=0&amp;date=20210703\"><img src=\"https://ssl.pstatic.net/imgmovie/2007/img/common/btn_prev.gif\" alt=\"prev\" width=\"13\" height=\"13\" style=\"margin-right:1px;\"></a></p>"
   ]
  },
  {
   "cell_type": "code",
   "execution_count": null,
   "id": "e6635eed",
   "metadata": {
    "id": "e6635eed",
    "outputId": "b50788f5-7f64-43b1-bef5-963bc401bd8d"
   },
   "outputs": [],
   "source": [
    "#도전 과제\n",
    "#네이버 영화 랭킹을 출력하세요\n",
    "import requests\n",
    "import urllib\n",
    "import re\n",
    "URL = 'https://movie.naver.com/movie/sdb/rank/rmovie.nhn'\n",
    "response = urllib.request.urlopen(URL)\n",
    "ta = response.read()\n",
    "ta1 = ta.decode('utf-8')\n",
    "ta1"
   ]
  },
  {
   "cell_type": "code",
   "execution_count": 5,
   "id": "9d751ac2",
   "metadata": {
    "id": "9d751ac2",
    "outputId": "86a77924-2c40-4c6f-9bac-3d11ba1b45c9"
   },
   "outputs": [
    {
     "name": "stdout",
     "output_type": "stream",
     "text": [
      "Collecting bs4\n",
      "  Downloading bs4-0.0.1.tar.gz (1.1 kB)\n",
      "Collecting beautifulsoup4\n",
      "  Downloading beautifulsoup4-4.9.3-py3-none-any.whl (115 kB)\n",
      "\u001b[K     |████████████████████████████████| 115 kB 1.6 MB/s eta 0:00:01\n",
      "\u001b[?25hCollecting soupsieve>1.2\n",
      "  Downloading soupsieve-2.2.1-py3-none-any.whl (33 kB)\n",
      "Building wheels for collected packages: bs4\n",
      "  Building wheel for bs4 (setup.py) ... \u001b[?25ldone\n",
      "\u001b[?25h  Created wheel for bs4: filename=bs4-0.0.1-py3-none-any.whl size=1273 sha256=edf795f27e7a667f4bc54254cd15cab74099955c1b9cbe9e3151a41c8cc49a87\n",
      "  Stored in directory: /Users/shin-incheol/Library/Caches/pip/wheels/73/2b/cb/099980278a0c9a3e57ff1a89875ec07bfa0b6fcbebb9a8cad3\n",
      "Successfully built bs4\n",
      "Installing collected packages: soupsieve, beautifulsoup4, bs4\n",
      "Successfully installed beautifulsoup4-4.9.3 bs4-0.0.1 soupsieve-2.2.1\n"
     ]
    }
   ],
   "source": [
    "!pip install bs4"
   ]
  },
  {
   "cell_type": "code",
   "execution_count": null,
   "id": "46276dab",
   "metadata": {
    "id": "46276dab",
    "outputId": "7ebfdb97-234f-4baa-f664-ad4e940205eb"
   },
   "outputs": [],
   "source": [
    "import requests\n",
    "import urllib\n",
    "import re\n",
    "from bs4 import BeautifulSoup\n",
    "URL = 'http://www.kma.go.kr/weather/forecast/mid-term-rss3.jsp'\n",
    "response = urllib.request.urlopen(URL)\n",
    "ta = response.read()\n",
    "text = ta.decode('utf-8')\n",
    "\n",
    "\n",
    "soup = BeautifulSoup(text,'html.parser')\n",
    "title = soup.find('title')\n",
    "body = soup.find('wf')\n",
    "print(title.string)\n",
    "print(body.string)"
   ]
  },
  {
   "cell_type": "code",
   "execution_count": null,
   "id": "20e8c437",
   "metadata": {
    "id": "20e8c437",
    "outputId": "e6582df3-d766-4ca3-cf3e-c0247efcd95d"
   },
   "outputs": [],
   "source": [
    "import requests\n",
    "import urllib\n",
    "import re\n",
    "from bs4 import BeautifulSoup\n",
    "URL = 'https://finance.naver.com/marketindex'\n",
    "response = urllib.request.urlopen(URL)\n",
    "so = response.read()\n",
    "so"
   ]
  },
  {
   "cell_type": "code",
   "execution_count": null,
   "id": "d9ca0f26",
   "metadata": {
    "colab": {
     "base_uri": "https://localhost:8080/"
    },
    "executionInfo": {
     "elapsed": 3527,
     "status": "ok",
     "timestamp": 1625561804792,
     "user": {
      "displayName": "신인철",
      "photoUrl": "",
      "userId": "11638434393479157475"
     },
     "user_tz": -540
    },
    "id": "d9ca0f26",
    "outputId": "980740ca-1430-4a65-ef0b-ed1a5490888d"
   },
   "outputs": [
    {
     "name": "stdout",
     "output_type": "stream",
     "text": [
      "Collecting lxml\n",
      "  Downloading lxml-4.6.3.tar.gz (3.2 MB)\n",
      "\u001b[K     |████████████████████████████████| 3.2 MB 1.6 MB/s eta 0:00:01\n",
      "\u001b[?25hBuilding wheels for collected packages: lxml\n",
      "  Building wheel for lxml (setup.py) ... \u001b[?25l/"
     ]
    }
   ],
   "source": [
    "!pip install lxml"
   ]
  },
  {
   "cell_type": "code",
   "execution_count": null,
   "id": "207694dd",
   "metadata": {
    "colab": {
     "base_uri": "https://localhost:8080/"
    },
    "executionInfo": {
     "elapsed": 253,
     "status": "ok",
     "timestamp": 1625561811601,
     "user": {
      "displayName": "신인철",
      "photoUrl": "",
      "userId": "11638434393479157475"
     },
     "user_tz": -540
    },
    "id": "207694dd",
    "outputId": "a5f65c86-03be-49ed-f456-c61995af6898"
   },
   "outputs": [],
   "source": [
    "!conda list"
   ]
  },
  {
   "cell_type": "code",
   "execution_count": null,
   "id": "596e3969",
   "metadata": {
    "id": "596e3969"
   },
   "outputs": [],
   "source": [
    "import requests\n",
    "from bs4 import BeautifulSoup\n",
    "req = requests.get('https://naver.com')\n",
    "html = req.text\n",
    "soup = BeautifulSoup"
   ]
  },
  {
   "cell_type": "code",
   "execution_count": null,
   "id": "f6ba5c9f",
   "metadata": {
    "id": "f6ba5c9f",
    "outputId": "f9b4d254-2def-4cdb-d3eb-991d06a15b6a"
   },
   "outputs": [],
   "source": [
    "import requests\n",
    "import urllib\n",
    "from bs4 import BeautifulSoup\n",
    "\n",
    "URL = \"http://api.aoikujira.com/time/get.php\"\n",
    "res = urllib.request.urlopen(URL)\n",
    "re = BeautifulSoup(res,'html.parser')\n",
    "print(re)\n",
    "\n"
   ]
  },
  {
   "cell_type": "code",
   "execution_count": null,
   "id": "5d4c569f",
   "metadata": {
    "id": "5d4c569f",
    "outputId": "7bca7380-3ad8-49dd-a381-81932fa38074"
   },
   "outputs": [],
   "source": [
    "import requests\n",
    "import urllib\n",
    "from bs4 import BeautifulSoup\n",
    "URL = \"http://naver.com\"\n",
    "res = urllib.request.urlopen(URL)\n",
    "ret = BeautifulSoup(res,'html.parser')\n",
    "res = ret.select('meta',limit=2)\n",
    "res\n"
   ]
  },
  {
   "cell_type": "code",
   "execution_count": null,
   "id": "5bdddce1",
   "metadata": {
    "id": "5bdddce1",
    "outputId": "f83556e8-2b51-4072-c3c1-c74a35151563"
   },
   "outputs": [],
   "source": [
    "# Q. 아래를 예외 처리하세요. \n",
    "import requests as rq\n",
    "try:\n",
    "    url = \"//naver.com\"\n",
    "    res = rq.get(url)\n",
    "    print(res.text)\n",
    "except Exception as e:\n",
    "    print(e)\n",
    "    print('오류 발생')"
   ]
  },
  {
   "cell_type": "code",
   "execution_count": null,
   "id": "01751601",
   "metadata": {
    "id": "01751601",
    "outputId": "2c314e0c-23b8-4994-89cd-5725c82267e0"
   },
   "outputs": [],
   "source": [
    "from bs4 import BeautifulSoup\n",
    "\n",
    "html =\"\"\"\n",
    "<!DOCTYPE html>\n",
    "<html lang=\"en\">\n",
    "<head>\n",
    "    <meta charset=\"UTF-8\">\n",
    "    <title>Title</title>\n",
    "</head>\n",
    "<body>\n",
    "    <p>파이썬 크롤러 책1</p>\n",
    "    <p>전문서적</p>\n",
    "    <p id='d'>정보 문화사</p>\n",
    "</body>\n",
    "</html>\n",
    "\"\"\"\n",
    "\n",
    "ta = BeautifulSoup(html,'html.parser')\n",
    "b = ta.select('p')\n",
    "print(b)\n",
    "print(b[2])\n",
    "print(b[0:2])\n",
    "print(ta.find_all('p'))\n",
    "print(ta.find_all('p',id = True))\n",
    "print(ta.find_all('p',id = None))\n",
    "print(ta.find_all('p',id = False))"
   ]
  },
  {
   "cell_type": "code",
   "execution_count": null,
   "id": "0b208105",
   "metadata": {},
   "outputs": [],
   "source": [
    "from bs4 import BeautifulSoup\n",
    "\n",
    "soup=BeautifulSoup(html,'html.parser')\n",
    "\n",
    "list1=soup.select(\"body>p\")\n",
    "print(list1)\n",
    "print()\n",
    "    \n",
    "list2=soup.select(\"body>p#d\")\n",
    "list2\n",
    "a=[x for x in list1 if x not in list2] #list2에는 없지만 list1에는 있는 것만 출력\n",
    "print(a)\n"
   ]
  },
  {
   "cell_type": "code",
   "execution_count": null,
   "id": "3ef69014",
   "metadata": {
    "id": "3ef69014"
   },
   "outputs": [],
   "source": [
    "# Q. 아래와 같이 출력하세요.\n",
    "# <title>Title</title>\n",
    "# <h2 id=\"target1\">h2 태그</h2>\n",
    "# <a href=\"/\" id=\"target2\">a 태그</a>"
   ]
  },
  {
   "cell_type": "code",
   "execution_count": null,
   "id": "b0ca9e32",
   "metadata": {
    "id": "b0ca9e32",
    "outputId": "098b6fcc-c461-4149-d18d-80b09a1f7046"
   },
   "outputs": [],
   "source": [
    "from bs4 import BeautifulSoup\n",
    "\n",
    "html = \"\"\"\n",
    "<!DOCTYPE html>\n",
    "<html lang=\"en\">\n",
    "<head>\n",
    "    <meta charset=\"UTF-8\">\n",
    "    <title>Title</title>\n",
    "    <style>\n",
    "        #target1{\n",
    "            font-size: 40px;\n",
    "            color: blue;\n",
    "        }\n",
    "        #target2{\n",
    "            font-size: 40px;\n",
    "            color: red;\n",
    "        }\n",
    "    </style>\n",
    "</head>\n",
    "<body>\n",
    "    <h1>h1 태그</h1>\n",
    "    <h2 id=\"target1\">h2 태그</h2>\n",
    "    <h3>h3 태그</h3>\n",
    "    <a href=\"/\" id=\"target2\">a 태그</a>\n",
    "</body>\n",
    "</html>\n",
    "\"\"\"\n",
    "ta = BeautifulSoup(html,'html.parser')\n",
    "\n",
    "for i in ta.find_all(['title','h2','a']):\n",
    "    print(i)\n",
    "    \n",
    "print(ta.title)\n",
    "print(ta.h2)\n",
    "print(ta.a)\n"
   ]
  },
  {
   "cell_type": "code",
   "execution_count": null,
   "id": "cc1fc719",
   "metadata": {
    "id": "cc1fc719"
   },
   "outputs": [],
   "source": [
    "# Q. 아래 html 문에서 다음과 같이 출력되도록 스크레이핑 하세요.\n",
    "\n",
    "h1 = HTML 기본 구조\n",
    "li = html5 명시\n",
    "li = html 태그로 모든 태그를 감싸줌. lang이란 속성을 포함\n",
    "li = head 태그는 meta, title 이외의 style, script, link와 같은 태그 포함\n",
    "li = title 태그는 문서의 제목\n",
    "li = body 태그는 웹페이지의 내용 포함\n",
    "li = style 태그는 CSS 코드가 포함된는 태그\n",
    "li = script 태그는 JavaScript 코드를 작성하거나 파일 로드. head 태그 or body 태그 하단 위치"
   ]
  },
  {
   "cell_type": "code",
   "execution_count": null,
   "id": "3a90bd66",
   "metadata": {
    "id": "3a90bd66",
    "outputId": "73e72f9e-b421-45c4-9e88-906744c9e51f"
   },
   "outputs": [],
   "source": [
    "from bs4 import BeautifulSoup\n",
    "import re\n",
    "html = \"\"\"\n",
    "<html><body>\n",
    "<div id=\"meigen\">\n",
    "  <h1>HTML 기본 구조</h1>\n",
    "  <ul class=\"items\">\n",
    "    <li>html5 명시</li>\n",
    "    <li>html 태그로 모든 태그를 감싸줌. lang이란 속성을 포함</li>\n",
    "    <li>head 태그는 meta, title 이외의 style, script, link와 같은 태그 포함</li>\n",
    "    <li>title 태그는 문서의 제목</li>\n",
    "    <li>body 태그는 웹페이지의 내용 포함</li>\n",
    "    <li>style 태그는 CSS 코드가 포함된는 태그</li>\n",
    "    <li>script 태그는 JavaScript 코드를 작성하거나 파일 로드. head 태그 or body 태그 하단 위치</li>\n",
    "  </ul>\n",
    "</div>\n",
    "</body></html>\n",
    "\"\"\"\n",
    "soup = BeautifulSoup(html,'html.parser')\n",
    "total = soup.find_all([\"h1\",\"li\"])\n",
    "for i in total:\n",
    "    print(i.name,'=',i.string)"
   ]
  },
  {
   "cell_type": "code",
   "execution_count": 1,
   "id": "502dcdb8",
   "metadata": {},
   "outputs": [
    {
     "name": "stdout",
     "output_type": "stream",
     "text": [
      "실시간 한국 확진자 수 :  68,235\n"
     ]
    }
   ],
   "source": [
    "import requests\n",
    "import urllib\n",
    "from bs4 import BeautifulSoup\n",
    "\n",
    "URL = \"http://ncov.mohw.go.kr/bdBoardList_Real.do\"\n",
    "response = urllib.request.urlopen(URL)\n",
    "tot = BeautifulSoup(response,'html.parser')\n",
    "kor_realp = tot.select_one('span.txt_clr_nh')\n",
    "print('실시간 한국 확진자 수 : ',kor_realp.string)"
   ]
  },
  {
   "cell_type": "markdown",
   "id": "22d4ad33",
   "metadata": {},
   "source": [
    "selenium 모듈\n",
    " - 웹 어플리케이션 테스트를 위한 프레임 워크 : 홈페이지 테스트용으로 사용\n",
    " - 사용자가 아닌 프로그램이 웹 브라우저를 제어할 수 있도록 지원\n",
    " - 웹 브라우저마다 클라이언트 프로그램이 별도로 필요(웹 브라우저 <-> 프로그램 간 통신 목적)\n",
    " - 크롤링 보다는 웹을 제어하는 목적이 더 큼\n",
    " - pip install selenium\n",
    " - web driver 설치(크롬 버전 확인)"
   ]
  },
  {
   "cell_type": "code",
   "execution_count": null,
   "id": "4368b01c",
   "metadata": {},
   "outputs": [],
   "source": []
  }
 ],
 "metadata": {
  "colab": {
   "name": "web_crawling_기초.ipynb",
   "provenance": []
  },
  "interpreter": {
   "hash": "dca0ade3e726a953b501b15e8e990130d2b7799f14cfd9f4271676035ebe5511"
  },
  "kernelspec": {
   "display_name": "Python 3",
   "language": "python",
   "name": "python3"
  },
  "language_info": {
   "codemirror_mode": {
    "name": "ipython",
    "version": 3
   },
   "file_extension": ".py",
   "mimetype": "text/x-python",
   "name": "python",
   "nbconvert_exporter": "python",
   "pygments_lexer": "ipython3",
   "version": "3.8.10"
  }
 },
 "nbformat": 4,
 "nbformat_minor": 5
}
