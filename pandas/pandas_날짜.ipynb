{
 "cells": [
  {
   "cell_type": "markdown",
   "source": [
    "python, numpy, pandas 날짜 타입 비교 및 정리\n",
    "https://ellun.tistory.com/320"
   ],
   "metadata": {}
  },
  {
   "cell_type": "code",
   "execution_count": 23,
   "source": [
    "# timestamp -> str\n",
    "import time\n",
    "print(time.time())\n",
    "type(time.time())\n",
    "timestamp = time.time()\n",
    "s = str(timestamp)\n",
    "print(s,type(s))"
   ],
   "outputs": [
    {
     "output_type": "stream",
     "name": "stdout",
     "text": [
      "1626747680.643179\n",
      "1626747680.643253 <class 'str'>\n"
     ]
    }
   ],
   "metadata": {}
  },
  {
   "cell_type": "code",
   "execution_count": 24,
   "source": [
    "#datetime -> str\n",
    "from datetime import datetime\n",
    "s = datetime.now()\n",
    "print(s,type(s))\n",
    "\n",
    "s1 = datetime.now().strftime('%Y-%m-%d %H:%M:%S')\n",
    "print(s1,type(s1))"
   ],
   "outputs": [
    {
     "output_type": "stream",
     "name": "stdout",
     "text": [
      "2021-07-20 11:21:20.682763 <class 'datetime.datetime'>\n",
      "2021-07-20 11:21:20 <class 'str'>\n"
     ]
    }
   ],
   "metadata": {}
  },
  {
   "cell_type": "code",
   "execution_count": 25,
   "source": [
    "# str -> datetime\n",
    "from datetime import datetime\n",
    "s = '2021-07-20 11:14:08'\n",
    "d = datetime.strptime(s,'%Y-%m-%d %H:%M:%S') #strptime = 시간대로 파싱\n",
    "print(d,type(d))"
   ],
   "outputs": [
    {
     "output_type": "stream",
     "name": "stdout",
     "text": [
      "2021-07-20 11:14:08 <class 'datetime.datetime'>\n"
     ]
    }
   ],
   "metadata": {}
  },
  {
   "cell_type": "code",
   "execution_count": 27,
   "source": [
    "# str -> timestamp\n",
    "s = '2021-07-20 11:14:08'\n",
    "timestamp = time.mktime(datetime.strptime(s,'%Y-%m-%d %H:%M:%S').timetuple())\n",
    "print(timestamp,type(timestamp))"
   ],
   "outputs": [
    {
     "output_type": "stream",
     "name": "stdout",
     "text": [
      "1626747248.0 <class 'float'>\n"
     ]
    }
   ],
   "metadata": {}
  },
  {
   "cell_type": "code",
   "execution_count": 29,
   "source": [
    "#datetime -> timestamp\n",
    "timestamp = time.mktime(datetime.today().timetuple())\n",
    "print(timestamp,type(timestamp))\n"
   ],
   "outputs": [
    {
     "output_type": "stream",
     "name": "stdout",
     "text": [
      "1626747986.0 <class 'float'>\n"
     ]
    }
   ],
   "metadata": {}
  },
  {
   "cell_type": "code",
   "execution_count": 32,
   "source": [
    "# timestamp -> datetime\n",
    "t = time.time()\n",
    "d = datetime.fromtimestamp(t)\n",
    "print(d,type(d))"
   ],
   "outputs": [
    {
     "output_type": "stream",
     "name": "stdout",
     "text": [
      "2021-07-20 11:28:50.568603 <class 'datetime.datetime'>\n"
     ]
    }
   ],
   "metadata": {}
  },
  {
   "cell_type": "code",
   "execution_count": 66,
   "source": [
    "# 판다스 to_datetime\n",
    "pd.to_datetime(1626747986.0,unit='s')"
   ],
   "outputs": [
    {
     "output_type": "execute_result",
     "data": {
      "text/plain": [
       "Timestamp('2021-07-20 02:26:26')"
      ]
     },
     "metadata": {},
     "execution_count": 66
    }
   ],
   "metadata": {}
  },
  {
   "cell_type": "code",
   "execution_count": 33,
   "source": [
    "# 1년전 datetime 값\n",
    "from datetime import timedelta\n",
    "import time\n",
    "\n",
    "datetime_now = datetime.now()\n",
    "delta_datetime = timedelta(days=-365)\n",
    "print(delta_datetime)\n",
    "datetime_now + delta_datetime"
   ],
   "outputs": [
    {
     "output_type": "stream",
     "name": "stdout",
     "text": [
      "-365 days, 0:00:00\n"
     ]
    },
    {
     "output_type": "execute_result",
     "data": {
      "text/plain": [
       "datetime.datetime(2020, 7, 20, 11, 31, 53, 521715)"
      ]
     },
     "metadata": {},
     "execution_count": 33
    }
   ],
   "metadata": {}
  },
  {
   "cell_type": "code",
   "execution_count": 35,
   "source": [
    "# 두 날짜간의 일 수 구하기\n",
    "since_timestamp = datetime.strptime('20180301','%Y%m%d')\n",
    "until_timestamp = datetime.strptime('20180331','%Y%m%d')\n",
    "\n",
    "result = until_timestamp - since_timestamp\n",
    "result"
   ],
   "outputs": [
    {
     "output_type": "execute_result",
     "data": {
      "text/plain": [
       "datetime.timedelta(days=30)"
      ]
     },
     "metadata": {},
     "execution_count": 35
    }
   ],
   "metadata": {}
  },
  {
   "cell_type": "code",
   "execution_count": 36,
   "source": [
    "# 특정 날짜 요일 구하기\n",
    "import datetime\n",
    "def get_yoil(y,m,d):\n",
    "    days = ['MON','TUE','WED','THU','FRI','SAT','SUN']\n",
    "    return days[datetime.date(y,m,d).weekday()]\n",
    "\n",
    "get_yoil(2021,7,20)"
   ],
   "outputs": [
    {
     "output_type": "execute_result",
     "data": {
      "text/plain": [
       "'TUE'"
      ]
     },
     "metadata": {},
     "execution_count": 36
    }
   ],
   "metadata": {}
  },
  {
   "cell_type": "code",
   "execution_count": 37,
   "source": [
    "#pandas Timestamp\n",
    "import pandas as pd\n",
    "date = pd.Timestamp(1626747986.0,unit='s',tz='Asia/Seoul')\n",
    "# unit ='s' = seconds / 한국 시간 설정\n",
    "print(date,type(date))"
   ],
   "outputs": [
    {
     "output_type": "stream",
     "name": "stdout",
     "text": [
      "2021-07-20 11:26:26+09:00 <class 'pandas._libs.tslibs.timestamps.Timestamp'>\n"
     ]
    }
   ],
   "metadata": {}
  },
  {
   "cell_type": "code",
   "execution_count": 56,
   "source": [
    "df = pd.read_csv('dataset/stock-data.csv')\n",
    "df.head()"
   ],
   "outputs": [
    {
     "output_type": "execute_result",
     "data": {
      "text/plain": [
       "         Date  Close  Start   High    Low  Volume\n",
       "0  2018-07-02  10100  10850  10900  10000  137977\n",
       "1  2018-06-29  10700  10550  10900   9990  170253\n",
       "2  2018-06-28  10400  10900  10950  10150  155769\n",
       "3  2018-06-27  10900  10800  11050  10500  133548\n",
       "4  2018-06-26  10800  10900  11000  10700   63039"
      ],
      "text/html": [
       "<div>\n",
       "<style scoped>\n",
       "    .dataframe tbody tr th:only-of-type {\n",
       "        vertical-align: middle;\n",
       "    }\n",
       "\n",
       "    .dataframe tbody tr th {\n",
       "        vertical-align: top;\n",
       "    }\n",
       "\n",
       "    .dataframe thead th {\n",
       "        text-align: right;\n",
       "    }\n",
       "</style>\n",
       "<table border=\"1\" class=\"dataframe\">\n",
       "  <thead>\n",
       "    <tr style=\"text-align: right;\">\n",
       "      <th></th>\n",
       "      <th>Date</th>\n",
       "      <th>Close</th>\n",
       "      <th>Start</th>\n",
       "      <th>High</th>\n",
       "      <th>Low</th>\n",
       "      <th>Volume</th>\n",
       "    </tr>\n",
       "  </thead>\n",
       "  <tbody>\n",
       "    <tr>\n",
       "      <th>0</th>\n",
       "      <td>2018-07-02</td>\n",
       "      <td>10100</td>\n",
       "      <td>10850</td>\n",
       "      <td>10900</td>\n",
       "      <td>10000</td>\n",
       "      <td>137977</td>\n",
       "    </tr>\n",
       "    <tr>\n",
       "      <th>1</th>\n",
       "      <td>2018-06-29</td>\n",
       "      <td>10700</td>\n",
       "      <td>10550</td>\n",
       "      <td>10900</td>\n",
       "      <td>9990</td>\n",
       "      <td>170253</td>\n",
       "    </tr>\n",
       "    <tr>\n",
       "      <th>2</th>\n",
       "      <td>2018-06-28</td>\n",
       "      <td>10400</td>\n",
       "      <td>10900</td>\n",
       "      <td>10950</td>\n",
       "      <td>10150</td>\n",
       "      <td>155769</td>\n",
       "    </tr>\n",
       "    <tr>\n",
       "      <th>3</th>\n",
       "      <td>2018-06-27</td>\n",
       "      <td>10900</td>\n",
       "      <td>10800</td>\n",
       "      <td>11050</td>\n",
       "      <td>10500</td>\n",
       "      <td>133548</td>\n",
       "    </tr>\n",
       "    <tr>\n",
       "      <th>4</th>\n",
       "      <td>2018-06-26</td>\n",
       "      <td>10800</td>\n",
       "      <td>10900</td>\n",
       "      <td>11000</td>\n",
       "      <td>10700</td>\n",
       "      <td>63039</td>\n",
       "    </tr>\n",
       "  </tbody>\n",
       "</table>\n",
       "</div>"
      ]
     },
     "metadata": {},
     "execution_count": 56
    }
   ],
   "metadata": {}
  },
  {
   "cell_type": "code",
   "execution_count": 57,
   "source": [
    "df.info()"
   ],
   "outputs": [
    {
     "output_type": "stream",
     "name": "stdout",
     "text": [
      "<class 'pandas.core.frame.DataFrame'>\n",
      "RangeIndex: 20 entries, 0 to 19\n",
      "Data columns (total 6 columns):\n",
      " #   Column  Non-Null Count  Dtype \n",
      "---  ------  --------------  ----- \n",
      " 0   Date    20 non-null     object\n",
      " 1   Close   20 non-null     int64 \n",
      " 2   Start   20 non-null     int64 \n",
      " 3   High    20 non-null     int64 \n",
      " 4   Low     20 non-null     int64 \n",
      " 5   Volume  20 non-null     int64 \n",
      "dtypes: int64(5), object(1)\n",
      "memory usage: 1.1+ KB\n"
     ]
    }
   ],
   "metadata": {}
  },
  {
   "cell_type": "code",
   "execution_count": 58,
   "source": [
    "df['New_Date'] = pd.to_datetime(df['Date'])\n",
    "df.info()"
   ],
   "outputs": [
    {
     "output_type": "stream",
     "name": "stdout",
     "text": [
      "<class 'pandas.core.frame.DataFrame'>\n",
      "RangeIndex: 20 entries, 0 to 19\n",
      "Data columns (total 7 columns):\n",
      " #   Column    Non-Null Count  Dtype         \n",
      "---  ------    --------------  -----         \n",
      " 0   Date      20 non-null     object        \n",
      " 1   Close     20 non-null     int64         \n",
      " 2   Start     20 non-null     int64         \n",
      " 3   High      20 non-null     int64         \n",
      " 4   Low       20 non-null     int64         \n",
      " 5   Volume    20 non-null     int64         \n",
      " 6   New_Date  20 non-null     datetime64[ns]\n",
      "dtypes: datetime64[ns](1), int64(5), object(1)\n",
      "memory usage: 1.2+ KB\n"
     ]
    }
   ],
   "metadata": {}
  },
  {
   "cell_type": "code",
   "execution_count": 59,
   "source": [
    "df.drop('Date',axis=1,inplace=True)\n",
    "df['Year'] = df['New_Date'].dt.year\n",
    "df['Month'] = df['New_Date'].dt.month\n",
    "df['Day'] = df['New_Date'].dt.day\n",
    "df.head()"
   ],
   "outputs": [
    {
     "output_type": "execute_result",
     "data": {
      "text/plain": [
       "   Close  Start   High    Low  Volume   New_Date  Year  Month  Day\n",
       "0  10100  10850  10900  10000  137977 2018-07-02  2018      7    2\n",
       "1  10700  10550  10900   9990  170253 2018-06-29  2018      6   29\n",
       "2  10400  10900  10950  10150  155769 2018-06-28  2018      6   28\n",
       "3  10900  10800  11050  10500  133548 2018-06-27  2018      6   27\n",
       "4  10800  10900  11000  10700   63039 2018-06-26  2018      6   26"
      ],
      "text/html": [
       "<div>\n",
       "<style scoped>\n",
       "    .dataframe tbody tr th:only-of-type {\n",
       "        vertical-align: middle;\n",
       "    }\n",
       "\n",
       "    .dataframe tbody tr th {\n",
       "        vertical-align: top;\n",
       "    }\n",
       "\n",
       "    .dataframe thead th {\n",
       "        text-align: right;\n",
       "    }\n",
       "</style>\n",
       "<table border=\"1\" class=\"dataframe\">\n",
       "  <thead>\n",
       "    <tr style=\"text-align: right;\">\n",
       "      <th></th>\n",
       "      <th>Close</th>\n",
       "      <th>Start</th>\n",
       "      <th>High</th>\n",
       "      <th>Low</th>\n",
       "      <th>Volume</th>\n",
       "      <th>New_Date</th>\n",
       "      <th>Year</th>\n",
       "      <th>Month</th>\n",
       "      <th>Day</th>\n",
       "    </tr>\n",
       "  </thead>\n",
       "  <tbody>\n",
       "    <tr>\n",
       "      <th>0</th>\n",
       "      <td>10100</td>\n",
       "      <td>10850</td>\n",
       "      <td>10900</td>\n",
       "      <td>10000</td>\n",
       "      <td>137977</td>\n",
       "      <td>2018-07-02</td>\n",
       "      <td>2018</td>\n",
       "      <td>7</td>\n",
       "      <td>2</td>\n",
       "    </tr>\n",
       "    <tr>\n",
       "      <th>1</th>\n",
       "      <td>10700</td>\n",
       "      <td>10550</td>\n",
       "      <td>10900</td>\n",
       "      <td>9990</td>\n",
       "      <td>170253</td>\n",
       "      <td>2018-06-29</td>\n",
       "      <td>2018</td>\n",
       "      <td>6</td>\n",
       "      <td>29</td>\n",
       "    </tr>\n",
       "    <tr>\n",
       "      <th>2</th>\n",
       "      <td>10400</td>\n",
       "      <td>10900</td>\n",
       "      <td>10950</td>\n",
       "      <td>10150</td>\n",
       "      <td>155769</td>\n",
       "      <td>2018-06-28</td>\n",
       "      <td>2018</td>\n",
       "      <td>6</td>\n",
       "      <td>28</td>\n",
       "    </tr>\n",
       "    <tr>\n",
       "      <th>3</th>\n",
       "      <td>10900</td>\n",
       "      <td>10800</td>\n",
       "      <td>11050</td>\n",
       "      <td>10500</td>\n",
       "      <td>133548</td>\n",
       "      <td>2018-06-27</td>\n",
       "      <td>2018</td>\n",
       "      <td>6</td>\n",
       "      <td>27</td>\n",
       "    </tr>\n",
       "    <tr>\n",
       "      <th>4</th>\n",
       "      <td>10800</td>\n",
       "      <td>10900</td>\n",
       "      <td>11000</td>\n",
       "      <td>10700</td>\n",
       "      <td>63039</td>\n",
       "      <td>2018-06-26</td>\n",
       "      <td>2018</td>\n",
       "      <td>6</td>\n",
       "      <td>26</td>\n",
       "    </tr>\n",
       "  </tbody>\n",
       "</table>\n",
       "</div>"
      ]
     },
     "metadata": {},
     "execution_count": 59
    }
   ],
   "metadata": {}
  },
  {
   "cell_type": "code",
   "execution_count": 60,
   "source": [
    "df.set_index('New_Date',inplace=True)\n",
    "\n",
    "df.head()"
   ],
   "outputs": [
    {
     "output_type": "execute_result",
     "data": {
      "text/plain": [
       "            Close  Start   High    Low  Volume  Year  Month  Day\n",
       "New_Date                                                        \n",
       "2018-07-02  10100  10850  10900  10000  137977  2018      7    2\n",
       "2018-06-29  10700  10550  10900   9990  170253  2018      6   29\n",
       "2018-06-28  10400  10900  10950  10150  155769  2018      6   28\n",
       "2018-06-27  10900  10800  11050  10500  133548  2018      6   27\n",
       "2018-06-26  10800  10900  11000  10700   63039  2018      6   26"
      ],
      "text/html": [
       "<div>\n",
       "<style scoped>\n",
       "    .dataframe tbody tr th:only-of-type {\n",
       "        vertical-align: middle;\n",
       "    }\n",
       "\n",
       "    .dataframe tbody tr th {\n",
       "        vertical-align: top;\n",
       "    }\n",
       "\n",
       "    .dataframe thead th {\n",
       "        text-align: right;\n",
       "    }\n",
       "</style>\n",
       "<table border=\"1\" class=\"dataframe\">\n",
       "  <thead>\n",
       "    <tr style=\"text-align: right;\">\n",
       "      <th></th>\n",
       "      <th>Close</th>\n",
       "      <th>Start</th>\n",
       "      <th>High</th>\n",
       "      <th>Low</th>\n",
       "      <th>Volume</th>\n",
       "      <th>Year</th>\n",
       "      <th>Month</th>\n",
       "      <th>Day</th>\n",
       "    </tr>\n",
       "    <tr>\n",
       "      <th>New_Date</th>\n",
       "      <th></th>\n",
       "      <th></th>\n",
       "      <th></th>\n",
       "      <th></th>\n",
       "      <th></th>\n",
       "      <th></th>\n",
       "      <th></th>\n",
       "      <th></th>\n",
       "    </tr>\n",
       "  </thead>\n",
       "  <tbody>\n",
       "    <tr>\n",
       "      <th>2018-07-02</th>\n",
       "      <td>10100</td>\n",
       "      <td>10850</td>\n",
       "      <td>10900</td>\n",
       "      <td>10000</td>\n",
       "      <td>137977</td>\n",
       "      <td>2018</td>\n",
       "      <td>7</td>\n",
       "      <td>2</td>\n",
       "    </tr>\n",
       "    <tr>\n",
       "      <th>2018-06-29</th>\n",
       "      <td>10700</td>\n",
       "      <td>10550</td>\n",
       "      <td>10900</td>\n",
       "      <td>9990</td>\n",
       "      <td>170253</td>\n",
       "      <td>2018</td>\n",
       "      <td>6</td>\n",
       "      <td>29</td>\n",
       "    </tr>\n",
       "    <tr>\n",
       "      <th>2018-06-28</th>\n",
       "      <td>10400</td>\n",
       "      <td>10900</td>\n",
       "      <td>10950</td>\n",
       "      <td>10150</td>\n",
       "      <td>155769</td>\n",
       "      <td>2018</td>\n",
       "      <td>6</td>\n",
       "      <td>28</td>\n",
       "    </tr>\n",
       "    <tr>\n",
       "      <th>2018-06-27</th>\n",
       "      <td>10900</td>\n",
       "      <td>10800</td>\n",
       "      <td>11050</td>\n",
       "      <td>10500</td>\n",
       "      <td>133548</td>\n",
       "      <td>2018</td>\n",
       "      <td>6</td>\n",
       "      <td>27</td>\n",
       "    </tr>\n",
       "    <tr>\n",
       "      <th>2018-06-26</th>\n",
       "      <td>10800</td>\n",
       "      <td>10900</td>\n",
       "      <td>11000</td>\n",
       "      <td>10700</td>\n",
       "      <td>63039</td>\n",
       "      <td>2018</td>\n",
       "      <td>6</td>\n",
       "      <td>26</td>\n",
       "    </tr>\n",
       "  </tbody>\n",
       "</table>\n",
       "</div>"
      ]
     },
     "metadata": {},
     "execution_count": 60
    }
   ],
   "metadata": {}
  },
  {
   "cell_type": "code",
   "execution_count": 62,
   "source": [
    "df.index"
   ],
   "outputs": [
    {
     "output_type": "execute_result",
     "data": {
      "text/plain": [
       "DatetimeIndex(['2018-07-02', '2018-06-29', '2018-06-28', '2018-06-27',\n",
       "               '2018-06-26', '2018-06-25', '2018-06-22', '2018-06-21',\n",
       "               '2018-06-20', '2018-06-19', '2018-06-18', '2018-06-15',\n",
       "               '2018-06-14', '2018-06-12', '2018-06-11', '2018-06-08',\n",
       "               '2018-06-07', '2018-06-05', '2018-06-04', '2018-06-01'],\n",
       "              dtype='datetime64[ns]', name='New_Date', freq=None)"
      ]
     },
     "metadata": {},
     "execution_count": 62
    }
   ],
   "metadata": {}
  },
  {
   "cell_type": "code",
   "execution_count": 63,
   "source": [
    "df_ymd_range = df['2018-06-29':'2018-06-26']\n",
    "df_ymd_range"
   ],
   "outputs": [
    {
     "output_type": "execute_result",
     "data": {
      "text/plain": [
       "Empty DataFrame\n",
       "Columns: [Close, Start, High, Low, Volume, Year, Month, Day]\n",
       "Index: []"
      ],
      "text/html": [
       "<div>\n",
       "<style scoped>\n",
       "    .dataframe tbody tr th:only-of-type {\n",
       "        vertical-align: middle;\n",
       "    }\n",
       "\n",
       "    .dataframe tbody tr th {\n",
       "        vertical-align: top;\n",
       "    }\n",
       "\n",
       "    .dataframe thead th {\n",
       "        text-align: right;\n",
       "    }\n",
       "</style>\n",
       "<table border=\"1\" class=\"dataframe\">\n",
       "  <thead>\n",
       "    <tr style=\"text-align: right;\">\n",
       "      <th></th>\n",
       "      <th>Close</th>\n",
       "      <th>Start</th>\n",
       "      <th>High</th>\n",
       "      <th>Low</th>\n",
       "      <th>Volume</th>\n",
       "      <th>Year</th>\n",
       "      <th>Month</th>\n",
       "      <th>Day</th>\n",
       "    </tr>\n",
       "    <tr>\n",
       "      <th>New_Date</th>\n",
       "      <th></th>\n",
       "      <th></th>\n",
       "      <th></th>\n",
       "      <th></th>\n",
       "      <th></th>\n",
       "      <th></th>\n",
       "      <th></th>\n",
       "      <th></th>\n",
       "    </tr>\n",
       "  </thead>\n",
       "  <tbody>\n",
       "  </tbody>\n",
       "</table>\n",
       "</div>"
      ]
     },
     "metadata": {},
     "execution_count": 63
    }
   ],
   "metadata": {}
  },
  {
   "cell_type": "code",
   "execution_count": 65,
   "source": [
    "df_ym = df.loc['2018-07','Start':'High']\n",
    "df_ym"
   ],
   "outputs": [
    {
     "output_type": "execute_result",
     "data": {
      "text/plain": [
       "            Start   High\n",
       "New_Date                \n",
       "2018-07-02  10850  10900"
      ],
      "text/html": [
       "<div>\n",
       "<style scoped>\n",
       "    .dataframe tbody tr th:only-of-type {\n",
       "        vertical-align: middle;\n",
       "    }\n",
       "\n",
       "    .dataframe tbody tr th {\n",
       "        vertical-align: top;\n",
       "    }\n",
       "\n",
       "    .dataframe thead th {\n",
       "        text-align: right;\n",
       "    }\n",
       "</style>\n",
       "<table border=\"1\" class=\"dataframe\">\n",
       "  <thead>\n",
       "    <tr style=\"text-align: right;\">\n",
       "      <th></th>\n",
       "      <th>Start</th>\n",
       "      <th>High</th>\n",
       "    </tr>\n",
       "    <tr>\n",
       "      <th>New_Date</th>\n",
       "      <th></th>\n",
       "      <th></th>\n",
       "    </tr>\n",
       "  </thead>\n",
       "  <tbody>\n",
       "    <tr>\n",
       "      <th>2018-07-02</th>\n",
       "      <td>10850</td>\n",
       "      <td>10900</td>\n",
       "    </tr>\n",
       "  </tbody>\n",
       "</table>\n",
       "</div>"
      ]
     },
     "metadata": {},
     "execution_count": 65
    }
   ],
   "metadata": {}
  },
  {
   "cell_type": "code",
   "execution_count": 109,
   "source": [
    "# Time Series Basics\n",
    "# 인덱스별로 랜덤 값을 넘겨줌\n",
    "from datetime import datetime\n",
    "import numpy as np\n",
    "dates = [datetime(2011,1,2),datetime(2011,1,5),\n",
    "    datetime(2011,1,7),datetime(2011,1,8),\n",
    "    datetime(2011,1,10),datetime(2011,1,12)]\n",
    "\n",
    "ts = pd.Series(np.random.randn(6),index=dates) # randn = 정규분포\n",
    "ts"
   ],
   "outputs": [
    {
     "output_type": "execute_result",
     "data": {
      "text/plain": [
       "2011-01-02   -0.590374\n",
       "2011-01-05    1.523764\n",
       "2011-01-07    1.503000\n",
       "2011-01-08    0.172471\n",
       "2011-01-10    0.682060\n",
       "2011-01-12    0.592146\n",
       "dtype: float64"
      ]
     },
     "metadata": {},
     "execution_count": 109
    }
   ],
   "metadata": {}
  },
  {
   "cell_type": "code",
   "execution_count": 99,
   "source": [
    "ts.index"
   ],
   "outputs": [
    {
     "output_type": "execute_result",
     "data": {
      "text/plain": [
       "DatetimeIndex(['2011-01-02', '2011-01-05', '2011-01-07', '2011-01-08',\n",
       "               '2011-01-10', '2011-01-12'],\n",
       "              dtype='datetime64[ns]', freq=None)"
      ]
     },
     "metadata": {},
     "execution_count": 99
    }
   ],
   "metadata": {}
  },
  {
   "cell_type": "code",
   "execution_count": 110,
   "source": [
    "ts[::2]"
   ],
   "outputs": [
    {
     "output_type": "execute_result",
     "data": {
      "text/plain": [
       "2011-01-02   -0.590374\n",
       "2011-01-07    1.503000\n",
       "2011-01-10    0.682060\n",
       "dtype: float64"
      ]
     },
     "metadata": {},
     "execution_count": 110
    }
   ],
   "metadata": {}
  },
  {
   "cell_type": "code",
   "execution_count": 115,
   "source": [
    "ts + ts[::2]"
   ],
   "outputs": [
    {
     "output_type": "execute_result",
     "data": {
      "text/plain": [
       "2011-01-02   -1.180749\n",
       "2011-01-05         NaN\n",
       "2011-01-07    3.006000\n",
       "2011-01-08         NaN\n",
       "2011-01-10    1.364121\n",
       "2011-01-12         NaN\n",
       "dtype: float64"
      ]
     },
     "metadata": {},
     "execution_count": 115
    }
   ],
   "metadata": {}
  },
  {
   "cell_type": "code",
   "execution_count": 116,
   "source": [
    "ts.add(ts[::2], fill_value=0)"
   ],
   "outputs": [
    {
     "output_type": "execute_result",
     "data": {
      "text/plain": [
       "2011-01-02   -1.180749\n",
       "2011-01-05    1.523764\n",
       "2011-01-07    3.006000\n",
       "2011-01-08    0.172471\n",
       "2011-01-10    1.364121\n",
       "2011-01-12    0.592146\n",
       "dtype: float64"
      ]
     },
     "metadata": {},
     "execution_count": 116
    }
   ],
   "metadata": {}
  },
  {
   "cell_type": "code",
   "execution_count": 117,
   "source": [
    "ts.index[0]"
   ],
   "outputs": [
    {
     "output_type": "execute_result",
     "data": {
      "text/plain": [
       "Timestamp('2011-01-02 00:00:00')"
      ]
     },
     "metadata": {},
     "execution_count": 117
    }
   ],
   "metadata": {}
  },
  {
   "cell_type": "code",
   "execution_count": 118,
   "source": [
    "stamp = ts.index[2]\n",
    "ts[stamp]"
   ],
   "outputs": [
    {
     "output_type": "execute_result",
     "data": {
      "text/plain": [
       "1.5030002165675682"
      ]
     },
     "metadata": {},
     "execution_count": 118
    }
   ],
   "metadata": {}
  },
  {
   "cell_type": "code",
   "execution_count": 122,
   "source": [
    "# 2011-01-10    1.364121  \n",
    "print(ts['1/10/2011'])\n",
    "ts['20110110']"
   ],
   "outputs": [
    {
     "output_type": "stream",
     "name": "stdout",
     "text": [
      "0.6820603954951197\n"
     ]
    },
    {
     "output_type": "execute_result",
     "data": {
      "text/plain": [
       "0.6820603954951197"
      ]
     },
     "metadata": {},
     "execution_count": 122
    }
   ],
   "metadata": {}
  },
  {
   "cell_type": "code",
   "execution_count": 124,
   "source": [
    "longer_ts = pd.Series(np.random.randn(1000),index=pd.date_range('1/1/2000',periods=1000))\n",
    "print(longer_ts,'\\n')"
   ],
   "outputs": [
    {
     "output_type": "stream",
     "name": "stdout",
     "text": [
      "2000-01-01    0.677385\n",
      "2000-01-02   -0.013852\n",
      "2000-01-03   -0.889416\n",
      "2000-01-04   -0.640103\n",
      "2000-01-05   -0.629056\n",
      "                ...   \n",
      "2002-09-22   -0.355064\n",
      "2002-09-23   -0.556072\n",
      "2002-09-24    1.371954\n",
      "2002-09-25   -0.537658\n",
      "2002-09-26   -0.702661\n",
      "Freq: D, Length: 1000, dtype: float64 \n",
      "\n"
     ]
    }
   ],
   "metadata": {}
  },
  {
   "cell_type": "code",
   "execution_count": 129,
   "source": [
    "longer_ts['2001'] # 년도만 선택하면 해당 연도의 데이터만 나옴\n",
    "longer_ts['2001-05'][:5] # 해당 년월 데이터 출력 / 인덱싱 가능"
   ],
   "outputs": [
    {
     "output_type": "execute_result",
     "data": {
      "text/plain": [
       "2001-05-01   -0.929643\n",
       "2001-05-02    0.016439\n",
       "2001-05-03   -0.817872\n",
       "2001-05-04   -0.485542\n",
       "2001-05-05    0.510164\n",
       "Freq: D, dtype: float64"
      ]
     },
     "metadata": {},
     "execution_count": 129
    }
   ],
   "metadata": {}
  },
  {
   "cell_type": "code",
   "execution_count": 131,
   "source": [
    "ts[datetime(2011,1,7):] # 슬라이싱도 가능"
   ],
   "outputs": [
    {
     "output_type": "execute_result",
     "data": {
      "text/plain": [
       "2011-01-07    1.503000\n",
       "2011-01-08    0.172471\n",
       "2011-01-10    0.682060\n",
       "2011-01-12    0.592146\n",
       "dtype: float64"
      ]
     },
     "metadata": {},
     "execution_count": 131
    }
   ],
   "metadata": {}
  },
  {
   "cell_type": "code",
   "execution_count": 133,
   "source": [
    "# truncate ~부터 ~까지\n",
    "print(ts.truncate(before='2011-01-05',after='2011-01-10'))"
   ],
   "outputs": [
    {
     "output_type": "stream",
     "name": "stdout",
     "text": [
      "2011-01-05    1.523764\n",
      "2011-01-07    1.503000\n",
      "2011-01-08    0.172471\n",
      "2011-01-10    0.682060\n",
      "dtype: float64\n"
     ]
    }
   ],
   "metadata": {}
  },
  {
   "cell_type": "code",
   "execution_count": 135,
   "source": [
    "print(ts.truncate(after='1/9/2011')) # ~ 이전까지\n"
   ],
   "outputs": [
    {
     "output_type": "stream",
     "name": "stdout",
     "text": [
      "2011-01-02   -0.590374\n",
      "2011-01-05    1.523764\n",
      "2011-01-07    1.503000\n",
      "2011-01-08    0.172471\n",
      "dtype: float64\n"
     ]
    }
   ],
   "metadata": {}
  },
  {
   "cell_type": "code",
   "execution_count": 136,
   "source": [
    "pd.date_range('2020-10-7', '2020-10-20') # 날짜 인덱스 생성"
   ],
   "outputs": [
    {
     "output_type": "execute_result",
     "data": {
      "text/plain": [
       "DatetimeIndex(['2020-10-07', '2020-10-08', '2020-10-09', '2020-10-10',\n",
       "               '2020-10-11', '2020-10-12', '2020-10-13', '2020-10-14',\n",
       "               '2020-10-15', '2020-10-16', '2020-10-17', '2020-10-18',\n",
       "               '2020-10-19', '2020-10-20'],\n",
       "              dtype='datetime64[ns]', freq='D')"
      ]
     },
     "metadata": {},
     "execution_count": 136
    }
   ],
   "metadata": {}
  },
  {
   "cell_type": "code",
   "execution_count": 139,
   "source": [
    "from datetime import datetime\n",
    "from datetime import timedelta\n",
    "\n",
    "now = datetime.now()\n",
    "in_two_weeks = now + timedelta(weeks=2)\n",
    "pd.date_range(datetime.now(),in_two_weeks) # 2주치 날짜 인덱스 생성\n"
   ],
   "outputs": [
    {
     "output_type": "execute_result",
     "data": {
      "text/plain": [
       "DatetimeIndex(['2021-07-20 14:11:54.926633', '2021-07-21 14:11:54.926633',\n",
       "               '2021-07-22 14:11:54.926633', '2021-07-23 14:11:54.926633',\n",
       "               '2021-07-24 14:11:54.926633', '2021-07-25 14:11:54.926633',\n",
       "               '2021-07-26 14:11:54.926633', '2021-07-27 14:11:54.926633',\n",
       "               '2021-07-28 14:11:54.926633', '2021-07-29 14:11:54.926633',\n",
       "               '2021-07-30 14:11:54.926633', '2021-07-31 14:11:54.926633',\n",
       "               '2021-08-01 14:11:54.926633', '2021-08-02 14:11:54.926633'],\n",
       "              dtype='datetime64[ns]', freq='D')"
      ]
     },
     "metadata": {},
     "execution_count": 139
    }
   ],
   "metadata": {}
  },
  {
   "cell_type": "code",
   "execution_count": 144,
   "source": [
    "# periods 매개변수는 date_range 함수에 전달된 시작날짜와 종료날짜를\n",
    "# periods 매개변수에 전달된 기준의 수 만큼 동일하게 시간단위까지 나눠서 출력\n",
    "pd.date_range(start='2020-10-01',end='2020-10-20',periods=5) # periods = 5개의 기준"
   ],
   "outputs": [
    {
     "output_type": "execute_result",
     "data": {
      "text/plain": [
       "DatetimeIndex(['2020-10-01 00:00:00', '2020-10-05 18:00:00',\n",
       "               '2020-10-10 12:00:00', '2020-10-15 06:00:00',\n",
       "               '2020-10-20 00:00:00'],\n",
       "              dtype='datetime64[ns]', freq=None)"
      ]
     },
     "metadata": {},
     "execution_count": 144
    }
   ],
   "metadata": {}
  },
  {
   "cell_type": "code",
   "execution_count": 146,
   "source": [
    "pd.date_range('2012-05-02 12:56:31',periods=5, normalize=True) # normalize=True : 날짜만 처리\n"
   ],
   "outputs": [
    {
     "output_type": "execute_result",
     "data": {
      "text/plain": [
       "DatetimeIndex(['2012-05-02', '2012-05-03', '2012-05-04', '2012-05-05',\n",
       "               '2012-05-06'],\n",
       "              dtype='datetime64[ns]', freq='D')"
      ]
     },
     "metadata": {},
     "execution_count": 146
    }
   ],
   "metadata": {}
  },
  {
   "cell_type": "markdown",
   "source": [
    "freq 매개변수에 사용되는 Frequncy strings\n",
    "- A >> calendar year end frequency\n",
    "- B\t>> business day frequency\n",
    "- C\t>> custom business day frequency\n",
    "- D\t>> calendar day frequency\n",
    "- W\t>> weekly frequency\n",
    "- M\t>> month end frequency\n",
    "- SM >> semi-month end frequency (15th and end of month)\n",
    "- BM >> business month end frequency\n",
    "- CBM >> custom business month end frequency\n",
    "- MS >> month start frequency\n",
    "- SMS >> semi-month start frequency (1st and 15th)\n",
    "- BMS >> business month start frequency\n",
    "- CBMS >> custom business month start frequency\n",
    "- Q >> quarter end frequency"
   ],
   "metadata": {}
  },
  {
   "cell_type": "code",
   "execution_count": 148,
   "source": [
    "import numpy as np\n",
    "dates = pd.date_range('1/1/2000',periods=100,freq='W-WED') #freq 구간을 기준에 따라 나누고 싶을 때 \n",
    "dates"
   ],
   "outputs": [
    {
     "output_type": "execute_result",
     "data": {
      "text/plain": [
       "DatetimeIndex(['2000-01-05', '2000-01-12', '2000-01-19', '2000-01-26',\n",
       "               '2000-02-02', '2000-02-09', '2000-02-16', '2000-02-23',\n",
       "               '2000-03-01', '2000-03-08', '2000-03-15', '2000-03-22',\n",
       "               '2000-03-29', '2000-04-05', '2000-04-12', '2000-04-19',\n",
       "               '2000-04-26', '2000-05-03', '2000-05-10', '2000-05-17',\n",
       "               '2000-05-24', '2000-05-31', '2000-06-07', '2000-06-14',\n",
       "               '2000-06-21', '2000-06-28', '2000-07-05', '2000-07-12',\n",
       "               '2000-07-19', '2000-07-26', '2000-08-02', '2000-08-09',\n",
       "               '2000-08-16', '2000-08-23', '2000-08-30', '2000-09-06',\n",
       "               '2000-09-13', '2000-09-20', '2000-09-27', '2000-10-04',\n",
       "               '2000-10-11', '2000-10-18', '2000-10-25', '2000-11-01',\n",
       "               '2000-11-08', '2000-11-15', '2000-11-22', '2000-11-29',\n",
       "               '2000-12-06', '2000-12-13', '2000-12-20', '2000-12-27',\n",
       "               '2001-01-03', '2001-01-10', '2001-01-17', '2001-01-24',\n",
       "               '2001-01-31', '2001-02-07', '2001-02-14', '2001-02-21',\n",
       "               '2001-02-28', '2001-03-07', '2001-03-14', '2001-03-21',\n",
       "               '2001-03-28', '2001-04-04', '2001-04-11', '2001-04-18',\n",
       "               '2001-04-25', '2001-05-02', '2001-05-09', '2001-05-16',\n",
       "               '2001-05-23', '2001-05-30', '2001-06-06', '2001-06-13',\n",
       "               '2001-06-20', '2001-06-27', '2001-07-04', '2001-07-11',\n",
       "               '2001-07-18', '2001-07-25', '2001-08-01', '2001-08-08',\n",
       "               '2001-08-15', '2001-08-22', '2001-08-29', '2001-09-05',\n",
       "               '2001-09-12', '2001-09-19', '2001-09-26', '2001-10-03',\n",
       "               '2001-10-10', '2001-10-17', '2001-10-24', '2001-10-31',\n",
       "               '2001-11-07', '2001-11-14', '2001-11-21', '2001-11-28'],\n",
       "              dtype='datetime64[ns]', freq='W-WED')"
      ]
     },
     "metadata": {},
     "execution_count": 148
    }
   ],
   "metadata": {}
  },
  {
   "cell_type": "code",
   "execution_count": 153,
   "source": [
    "import pandas as pd\n",
    "long_df = pd.DataFrame(np.random.randn(100,4),index=dates, columns=['Colorado','Texas','New York','Ohio'])\n",
    "print(long_df,'\\n')\n",
    "long_df.loc['2001-06']"
   ],
   "outputs": [
    {
     "output_type": "stream",
     "name": "stdout",
     "text": [
      "            Colorado     Texas  New York      Ohio\n",
      "2000-01-05  1.068845 -0.390806 -1.025920  0.278039\n",
      "2000-01-12 -0.035008 -0.082005 -1.254696 -1.272163\n",
      "2000-01-19  1.350033 -0.760622  0.530851  0.391543\n",
      "2000-01-26  0.217389 -0.501333  0.020421 -1.710988\n",
      "2000-02-02  2.653099 -0.635326  0.424839 -0.761174\n",
      "...              ...       ...       ...       ...\n",
      "2001-10-31  0.684424  1.093358 -2.077085  1.302126\n",
      "2001-11-07  0.099540  0.507500 -0.158239  0.153028\n",
      "2001-11-14  0.477195  0.154659 -1.203032  0.288366\n",
      "2001-11-21 -1.158813 -0.313411  0.835803  1.212158\n",
      "2001-11-28  0.835082 -0.793012 -0.341510  1.943278\n",
      "\n",
      "[100 rows x 4 columns] \n",
      "\n"
     ]
    },
    {
     "output_type": "execute_result",
     "data": {
      "text/plain": [
       "            Colorado     Texas  New York      Ohio\n",
       "2001-06-06 -0.218287  0.385284  0.375460  0.019677\n",
       "2001-06-13  1.738287 -0.277776  0.254612  0.456543\n",
       "2001-06-20 -0.046163 -0.616634  0.679691  0.416667\n",
       "2001-06-27 -2.612348 -0.152613 -1.649489 -1.398127"
      ],
      "text/html": [
       "<div>\n",
       "<style scoped>\n",
       "    .dataframe tbody tr th:only-of-type {\n",
       "        vertical-align: middle;\n",
       "    }\n",
       "\n",
       "    .dataframe tbody tr th {\n",
       "        vertical-align: top;\n",
       "    }\n",
       "\n",
       "    .dataframe thead th {\n",
       "        text-align: right;\n",
       "    }\n",
       "</style>\n",
       "<table border=\"1\" class=\"dataframe\">\n",
       "  <thead>\n",
       "    <tr style=\"text-align: right;\">\n",
       "      <th></th>\n",
       "      <th>Colorado</th>\n",
       "      <th>Texas</th>\n",
       "      <th>New York</th>\n",
       "      <th>Ohio</th>\n",
       "    </tr>\n",
       "  </thead>\n",
       "  <tbody>\n",
       "    <tr>\n",
       "      <th>2001-06-06</th>\n",
       "      <td>-0.218287</td>\n",
       "      <td>0.385284</td>\n",
       "      <td>0.375460</td>\n",
       "      <td>0.019677</td>\n",
       "    </tr>\n",
       "    <tr>\n",
       "      <th>2001-06-13</th>\n",
       "      <td>1.738287</td>\n",
       "      <td>-0.277776</td>\n",
       "      <td>0.254612</td>\n",
       "      <td>0.456543</td>\n",
       "    </tr>\n",
       "    <tr>\n",
       "      <th>2001-06-20</th>\n",
       "      <td>-0.046163</td>\n",
       "      <td>-0.616634</td>\n",
       "      <td>0.679691</td>\n",
       "      <td>0.416667</td>\n",
       "    </tr>\n",
       "    <tr>\n",
       "      <th>2001-06-27</th>\n",
       "      <td>-2.612348</td>\n",
       "      <td>-0.152613</td>\n",
       "      <td>-1.649489</td>\n",
       "      <td>-1.398127</td>\n",
       "    </tr>\n",
       "  </tbody>\n",
       "</table>\n",
       "</div>"
      ]
     },
     "metadata": {},
     "execution_count": 153
    }
   ],
   "metadata": {}
  },
  {
   "cell_type": "code",
   "execution_count": 154,
   "source": [
    "dates = pd.DatetimeIndex(['1/1/2000','1/2/2000','1/2/2000','1/2/2000','1/3/2000'])\n",
    "\n",
    "dup_ts = pd.Series(np.arange(5),index=dates)\n",
    "dup_ts"
   ],
   "outputs": [
    {
     "output_type": "execute_result",
     "data": {
      "text/plain": [
       "2000-01-01    0\n",
       "2000-01-02    1\n",
       "2000-01-02    2\n",
       "2000-01-02    3\n",
       "2000-01-03    4\n",
       "dtype: int64"
      ]
     },
     "metadata": {},
     "execution_count": 154
    }
   ],
   "metadata": {}
  },
  {
   "cell_type": "code",
   "execution_count": 157,
   "source": [
    "dup_ts.index.is_unique"
   ],
   "outputs": [
    {
     "output_type": "execute_result",
     "data": {
      "text/plain": [
       "False"
      ]
     },
     "metadata": {},
     "execution_count": 157
    }
   ],
   "metadata": {}
  },
  {
   "cell_type": "code",
   "execution_count": 161,
   "source": [
    "dup_ts['1/3/2000'] # not dulplicated의 경우 스칼라 값"
   ],
   "outputs": [
    {
     "output_type": "execute_result",
     "data": {
      "text/plain": [
       "4"
      ]
     },
     "metadata": {},
     "execution_count": 161
    }
   ],
   "metadata": {}
  },
  {
   "cell_type": "code",
   "execution_count": 160,
   "source": [
    "dup_ts['1/2/2000'] # duplicated의 경우 슬라이스 출력\n"
   ],
   "outputs": [
    {
     "output_type": "execute_result",
     "data": {
      "text/plain": [
       "2000-01-02    1\n",
       "2000-01-02    2\n",
       "2000-01-02    3\n",
       "dtype: int64"
      ]
     },
     "metadata": {},
     "execution_count": 160
    }
   ],
   "metadata": {}
  },
  {
   "cell_type": "code",
   "execution_count": 164,
   "source": [
    "grouped = dup_ts.groupby(level=0)\n",
    "print(grouped.mean())\n",
    "print(grouped.count())"
   ],
   "outputs": [
    {
     "output_type": "stream",
     "name": "stdout",
     "text": [
      "2000-01-01    0.0\n",
      "2000-01-02    2.0\n",
      "2000-01-03    4.0\n",
      "dtype: float64\n",
      "2000-01-01    1\n",
      "2000-01-02    3\n",
      "2000-01-03    1\n",
      "dtype: int64\n"
     ]
    }
   ],
   "metadata": {}
  },
  {
   "cell_type": "code",
   "execution_count": 165,
   "source": [
    "pd.date_range('2000-01-01','2000-01-03 23:59',freq='4h')"
   ],
   "outputs": [
    {
     "output_type": "execute_result",
     "data": {
      "text/plain": [
       "DatetimeIndex(['2000-01-01 00:00:00', '2000-01-01 04:00:00',\n",
       "               '2000-01-01 08:00:00', '2000-01-01 12:00:00',\n",
       "               '2000-01-01 16:00:00', '2000-01-01 20:00:00',\n",
       "               '2000-01-02 00:00:00', '2000-01-02 04:00:00',\n",
       "               '2000-01-02 08:00:00', '2000-01-02 12:00:00',\n",
       "               '2000-01-02 16:00:00', '2000-01-02 20:00:00',\n",
       "               '2000-01-03 00:00:00', '2000-01-03 04:00:00',\n",
       "               '2000-01-03 08:00:00', '2000-01-03 12:00:00',\n",
       "               '2000-01-03 16:00:00', '2000-01-03 20:00:00'],\n",
       "              dtype='datetime64[ns]', freq='4H')"
      ]
     },
     "metadata": {},
     "execution_count": 165
    }
   ],
   "metadata": {}
  },
  {
   "cell_type": "code",
   "execution_count": 167,
   "source": [
    "from pandas.tseries.offsets import Hour,Minute\n",
    "Hour(2) + Minute(30)"
   ],
   "outputs": [
    {
     "output_type": "execute_result",
     "data": {
      "text/plain": [
       "<150 * Minutes>"
      ]
     },
     "metadata": {},
     "execution_count": 167
    }
   ],
   "metadata": {}
  },
  {
   "cell_type": "code",
   "execution_count": 168,
   "source": [
    "pd.date_range('2000-01-01',periods=10,freq='1h30min')"
   ],
   "outputs": [
    {
     "output_type": "execute_result",
     "data": {
      "text/plain": [
       "DatetimeIndex(['2000-01-01 00:00:00', '2000-01-01 01:30:00',\n",
       "               '2000-01-01 03:00:00', '2000-01-01 04:30:00',\n",
       "               '2000-01-01 06:00:00', '2000-01-01 07:30:00',\n",
       "               '2000-01-01 09:00:00', '2000-01-01 10:30:00',\n",
       "               '2000-01-01 12:00:00', '2000-01-01 13:30:00'],\n",
       "              dtype='datetime64[ns]', freq='90T')"
      ]
     },
     "metadata": {},
     "execution_count": 168
    }
   ],
   "metadata": {}
  },
  {
   "cell_type": "code",
   "execution_count": 173,
   "source": [
    "rng = pd.date_range('2000-01-01','2012-09-01',freq='WOM-3FRI')\n",
    "print(rng)"
   ],
   "outputs": [
    {
     "output_type": "stream",
     "name": "stdout",
     "text": [
      "DatetimeIndex(['2000-01-21', '2000-02-18', '2000-03-17', '2000-04-21',\n",
      "               '2000-05-19', '2000-06-16', '2000-07-21', '2000-08-18',\n",
      "               '2000-09-15', '2000-10-20',\n",
      "               ...\n",
      "               '2011-11-18', '2011-12-16', '2012-01-20', '2012-02-17',\n",
      "               '2012-03-16', '2012-04-20', '2012-05-18', '2012-06-15',\n",
      "               '2012-07-20', '2012-08-17'],\n",
      "              dtype='datetime64[ns]', length=152, freq='WOM-3FRI')\n"
     ]
    }
   ],
   "metadata": {}
  },
  {
   "cell_type": "code",
   "execution_count": 174,
   "source": [
    "from pandas.tseries.offsets import Day, MonthEnd\n",
    "now = datetime(2011,11,17)\n",
    "now + 3 * Day()"
   ],
   "outputs": [
    {
     "output_type": "execute_result",
     "data": {
      "text/plain": [
       "Timestamp('2011-11-20 00:00:00')"
      ]
     },
     "metadata": {},
     "execution_count": 174
    }
   ],
   "metadata": {}
  },
  {
   "cell_type": "code",
   "execution_count": 175,
   "source": [
    "offset = MonthEnd()\n",
    "print(offset.rollforward(now))\n",
    "offset.rollback(now)"
   ],
   "outputs": [
    {
     "output_type": "stream",
     "name": "stdout",
     "text": [
      "2011-11-30 00:00:00\n"
     ]
    },
    {
     "output_type": "execute_result",
     "data": {
      "text/plain": [
       "Timestamp('2011-10-31 00:00:00')"
      ]
     },
     "metadata": {},
     "execution_count": 175
    }
   ],
   "metadata": {}
  },
  {
   "cell_type": "code",
   "execution_count": 184,
   "source": [
    "ts = pd.Series(np.random.randn(20),index=pd.date_range('1/15/2000',periods=20, freq='4d'))\n",
    "print(ts)"
   ],
   "outputs": [
    {
     "output_type": "stream",
     "name": "stdout",
     "text": [
      "2000-01-15   -0.156516\n",
      "2000-01-19    0.020594\n",
      "2000-01-23    0.584253\n",
      "2000-01-27   -0.715735\n",
      "2000-01-31    0.290195\n",
      "2000-02-04   -0.177471\n",
      "2000-02-08   -0.490379\n",
      "2000-02-12   -0.899451\n",
      "2000-02-16    1.339589\n",
      "2000-02-20   -0.110029\n",
      "2000-02-24    0.775995\n",
      "2000-02-28   -0.213880\n",
      "2000-03-03    0.093783\n",
      "2000-03-07    1.347518\n",
      "2000-03-11    1.763887\n",
      "2000-03-15    0.575280\n",
      "2000-03-19   -0.071645\n",
      "2000-03-23   -0.991436\n",
      "2000-03-27   -1.519064\n",
      "2000-03-31    0.189915\n",
      "Freq: 4D, dtype: float64\n"
     ]
    }
   ],
   "metadata": {}
  },
  {
   "cell_type": "code",
   "execution_count": 203,
   "source": [
    "# 과제1\n",
    "# offset.rollforward 기준으로 그룹화를 진행 후 그룹별 평균값을 출력하세요\n",
    "data = ts.groupby(offset.rollforward)\n",
    "data.mean()"
   ],
   "outputs": [
    {
     "output_type": "execute_result",
     "data": {
      "text/plain": [
       "2000-01-31    0.004558\n",
       "2000-02-29    0.032054\n",
       "2000-03-31    0.173530\n",
       "dtype: float64"
      ]
     },
     "metadata": {},
     "execution_count": 203
    }
   ],
   "metadata": {}
  },
  {
   "cell_type": "code",
   "execution_count": 209,
   "source": [
    "# 과제2\n",
    "# 상기 문제를 resample을 사용하여 수행하세요.\n",
    "data1 = ts.resample('1M')\n",
    "data1.mean()"
   ],
   "outputs": [
    {
     "output_type": "execute_result",
     "data": {
      "text/plain": [
       "2000-01-31    0.004558\n",
       "2000-02-29    0.032054\n",
       "2000-03-31    0.173530\n",
       "Freq: M, dtype: float64"
      ]
     },
     "metadata": {},
     "execution_count": 209
    }
   ],
   "metadata": {}
  },
  {
   "cell_type": "code",
   "execution_count": 436,
   "source": [
    "# 과제3\n",
    "# 날짜 데이터를 인덱스로 하는 5가지 이상의 컬럼을 포함하고 있는 데이터 셋을 생성하세요. (학원 출석 날짜, 출발시간, 금액, 등원시간, 하원시간, 요일 별 혼잡도)\n",
    "# 단 각 컬럼은 인덱스별 의미있는 값을 갖도록 만든 후 다음을 수행하세요.\n",
    "# - 특정 연별, 월별, 일별 특정 컬럼 값 집계\n",
    "# - 인덱스를 실수형으로 변환\n",
    "# - 인덱스의 포멧을 변환\n",
    "from datetime import datetime as dt\n",
    "import datetime\n",
    "import pandas as pd\n",
    "import numpy as np\n",
    "\n",
    "def get_yoil(y):\n",
    "    days = ['MON','TUE','WED','THU','FRI','SAT','SUN']\n",
    "    return days[datetime.weekday(y)]\n",
    "\n",
    "dates = pd.date_range('2021-07-21',periods=36,freq='3B')\n",
    "d_time = pd.date_range('07:00','07:30',periods=36)\n",
    "fare = np.random.randint(4100,5000,size=(36,1))\n",
    "s_time = pd.date_range('01:40','02:10',periods=36)\n",
    "e_time = pd.date_range('01:50','02:30',periods=36)\n",
    "\n",
    "d_t = d_time.to_frame(index=False,name='출발시간')\n",
    "s_t = s_time.to_frame(index=False,name='등원시간')\n",
    "e_t = e_time.to_frame(index=False,name='하원시간')\n",
    "\n",
    "# pd.DataFrame(['d_t','fare','s_t','e_t'],index=dates)\n",
    "t_data = pd.concat([d_t,s_t,e_t],axis=1)\n",
    "\n",
    "df = pd.DataFrame(fare,columns=['금액'])\n",
    "df1 = pd.concat([df,t_data],axis=1,ignore_index=False)\n",
    "df1['등원날짜'] = dates\n",
    "result = df1.set_index('등원날짜')\n",
    "result['출발시간'] = result['출발시간'].dt.time\n",
    "result['등원시간'] = result['등원시간'].dt.time\n",
    "result['하원시간'] = result['하원시간'].dt.time\n",
    "\n",
    "tf =result['2021'].sum()\n",
    "# result['혼잡도'] = result['2021'].dt.weekday_name\n",
    "# result['금액'].astype(float)\n",
    "# result['금액'].to_list\n",
    "\n",
    "# datetimeindex들 값에 콤마가 붙어있어서 전처리를 한 후 자료형을 변경해야 됨\n",
    "# pd.read_csv('파일명', thousands=',') 불러올 때 천 단위 콤마 제거\n",
    "\n",
    "result['금액']\n",
    "# numeric 사용해서 다시 한 번 풀어보기 # -------------------------------------------------------------------------\n"
   ],
   "outputs": [
    {
     "output_type": "execute_result",
     "data": {
      "text/plain": [
       "등원날짜\n",
       "2021-07-21    4619\n",
       "2021-07-26    4939\n",
       "2021-07-29    4110\n",
       "2021-08-03    4194\n",
       "2021-08-06    4933\n",
       "2021-08-11    4762\n",
       "2021-08-16    4922\n",
       "2021-08-19    4669\n",
       "2021-08-24    4561\n",
       "2021-08-27    4634\n",
       "2021-09-01    4596\n",
       "2021-09-06    4112\n",
       "2021-09-09    4290\n",
       "2021-09-14    4334\n",
       "2021-09-17    4726\n",
       "2021-09-22    4971\n",
       "2021-09-27    4447\n",
       "2021-09-30    4806\n",
       "2021-10-05    4758\n",
       "2021-10-08    4170\n",
       "2021-10-13    4547\n",
       "2021-10-18    4632\n",
       "2021-10-21    4861\n",
       "2021-10-26    4426\n",
       "2021-10-29    4221\n",
       "2021-11-03    4105\n",
       "2021-11-08    4272\n",
       "2021-11-11    4831\n",
       "2021-11-16    4268\n",
       "2021-11-19    4425\n",
       "2021-11-24    4912\n",
       "2021-11-29    4883\n",
       "2021-12-02    4886\n",
       "2021-12-07    4130\n",
       "2021-12-10    4709\n",
       "2021-12-15    4689\n",
       "Name: 금액, dtype: int64"
      ]
     },
     "metadata": {},
     "execution_count": 436
    }
   ],
   "metadata": {}
  },
  {
   "cell_type": "code",
   "execution_count": 437,
   "source": [
    "# Periods and Period Arithmetic\n",
    "import pandas as pd\n",
    "p = pd.Period(2007,freq='A-DEC') # 연말 기준\n",
    "p"
   ],
   "outputs": [
    {
     "output_type": "execute_result",
     "data": {
      "text/plain": [
       "Period('2007', 'A-DEC')"
      ]
     },
     "metadata": {},
     "execution_count": 437
    }
   ],
   "metadata": {}
  },
  {
   "cell_type": "code",
   "execution_count": 438,
   "source": [
    "print(p+5)"
   ],
   "outputs": [
    {
     "output_type": "stream",
     "name": "stdout",
     "text": [
      "2012\n"
     ]
    }
   ],
   "metadata": {}
  },
  {
   "cell_type": "code",
   "execution_count": 439,
   "source": [
    "p-2"
   ],
   "outputs": [
    {
     "output_type": "execute_result",
     "data": {
      "text/plain": [
       "Period('2005', 'A-DEC')"
      ]
     },
     "metadata": {},
     "execution_count": 439
    }
   ],
   "metadata": {}
  },
  {
   "cell_type": "code",
   "execution_count": 447,
   "source": [
    "# 기간을 타임스탬프로 변환\n",
    "import numpy as np\n",
    "rng = pd.period_range('2000-01-01',periods=3,freq='M')\n",
    "rng\n",
    "ts = pd.Series(np.random.randn(3), index=rng)\n",
    "print(ts,'\\n')\n",
    "ts.to_timestamp(how='end') # 월말 기준으로 timestamp\n"
   ],
   "outputs": [
    {
     "output_type": "stream",
     "name": "stdout",
     "text": [
      "2000-01   -1.137985\n",
      "2000-02    0.613069\n",
      "2000-03   -0.522991\n",
      "Freq: M, dtype: float64 \n",
      "\n"
     ]
    },
    {
     "output_type": "execute_result",
     "data": {
      "text/plain": [
       "2000-01-31 23:59:59.999999999   -1.137985\n",
       "2000-02-29 23:59:59.999999999    0.613069\n",
       "2000-03-31 23:59:59.999999999   -0.522991\n",
       "dtype: float64"
      ]
     },
     "metadata": {},
     "execution_count": 447
    }
   ],
   "metadata": {}
  },
  {
   "cell_type": "code",
   "execution_count": 450,
   "source": [
    "# Downsampling\n",
    "rng = pd.date_range('2001-01-01',periods=12,freq='T') # T는 분 단위\n",
    "ts = pd.Series(np.arange(12),index=rng)\n",
    "ts"
   ],
   "outputs": [
    {
     "output_type": "execute_result",
     "data": {
      "text/plain": [
       "2001-01-01 00:00:00     0\n",
       "2001-01-01 00:01:00     1\n",
       "2001-01-01 00:02:00     2\n",
       "2001-01-01 00:03:00     3\n",
       "2001-01-01 00:04:00     4\n",
       "2001-01-01 00:05:00     5\n",
       "2001-01-01 00:06:00     6\n",
       "2001-01-01 00:07:00     7\n",
       "2001-01-01 00:08:00     8\n",
       "2001-01-01 00:09:00     9\n",
       "2001-01-01 00:10:00    10\n",
       "2001-01-01 00:11:00    11\n",
       "Freq: T, dtype: int64"
      ]
     },
     "metadata": {},
     "execution_count": 450
    }
   ],
   "metadata": {}
  },
  {
   "cell_type": "code",
   "execution_count": 453,
   "source": [
    "ts.resample('5min',closed='right').sum() # close = 닫힌구간, 열린구간 개념\n",
    "# 표시되는 값 ~ 그 다음 값"
   ],
   "outputs": [
    {
     "output_type": "execute_result",
     "data": {
      "text/plain": [
       "2000-12-31 23:55:00     0\n",
       "2001-01-01 00:00:00    15\n",
       "2001-01-01 00:05:00    40\n",
       "2001-01-01 00:10:00    11\n",
       "Freq: 5T, dtype: int64"
      ]
     },
     "metadata": {},
     "execution_count": 453
    }
   ],
   "metadata": {}
  },
  {
   "cell_type": "code",
   "execution_count": 459,
   "source": [
    "ts.resample('5min').ohic()"
   ],
   "outputs": [
    {
     "output_type": "error",
     "ename": "AttributeError",
     "evalue": "'DatetimeIndexResampler' object has no attribute 'ohic'",
     "traceback": [
      "\u001b[0;31m---------------------------------------------------------------------------\u001b[0m",
      "\u001b[0;31mAttributeError\u001b[0m                            Traceback (most recent call last)",
      "\u001b[0;32m/var/folders/tl/z3ht468x4jz0r06kmnvqsstc0000gn/T/ipykernel_12614/4188255044.py\u001b[0m in \u001b[0;36m<module>\u001b[0;34m\u001b[0m\n\u001b[0;32m----> 1\u001b[0;31m \u001b[0mts\u001b[0m\u001b[0;34m.\u001b[0m\u001b[0mresample\u001b[0m\u001b[0;34m(\u001b[0m\u001b[0;34m'5min'\u001b[0m\u001b[0;34m)\u001b[0m\u001b[0;34m.\u001b[0m\u001b[0mohic\u001b[0m\u001b[0;34m(\u001b[0m\u001b[0;34m)\u001b[0m\u001b[0;34m\u001b[0m\u001b[0;34m\u001b[0m\u001b[0m\n\u001b[0m",
      "\u001b[0;32m~/downloads/d/lib/python3.9/site-packages/pandas/core/resample.py\u001b[0m in \u001b[0;36m__getattr__\u001b[0;34m(self, attr)\u001b[0m\n\u001b[1;32m    189\u001b[0m             \u001b[0;32mreturn\u001b[0m \u001b[0mself\u001b[0m\u001b[0;34m[\u001b[0m\u001b[0mattr\u001b[0m\u001b[0;34m]\u001b[0m\u001b[0;34m\u001b[0m\u001b[0;34m\u001b[0m\u001b[0m\n\u001b[1;32m    190\u001b[0m \u001b[0;34m\u001b[0m\u001b[0m\n\u001b[0;32m--> 191\u001b[0;31m         \u001b[0;32mreturn\u001b[0m \u001b[0mobject\u001b[0m\u001b[0;34m.\u001b[0m\u001b[0m__getattribute__\u001b[0m\u001b[0;34m(\u001b[0m\u001b[0mself\u001b[0m\u001b[0;34m,\u001b[0m \u001b[0mattr\u001b[0m\u001b[0;34m)\u001b[0m\u001b[0;34m\u001b[0m\u001b[0;34m\u001b[0m\u001b[0m\n\u001b[0m\u001b[1;32m    192\u001b[0m \u001b[0;34m\u001b[0m\u001b[0m\n\u001b[1;32m    193\u001b[0m     \u001b[0;31m# error: Signature of \"obj\" incompatible with supertype \"BaseGroupBy\"\u001b[0m\u001b[0;34m\u001b[0m\u001b[0;34m\u001b[0m\u001b[0;34m\u001b[0m\u001b[0m\n",
      "\u001b[0;31mAttributeError\u001b[0m: 'DatetimeIndexResampler' object has no attribute 'ohic'"
     ]
    }
   ],
   "metadata": {}
  },
  {
   "cell_type": "code",
   "execution_count": 460,
   "source": [
    "frame = pd.DataFrame(np.random.randn(2,4),\n",
    "    index=pd.date_range('1/1/2000',periods=2,freq='W-WED'),\n",
    "    columns=['Colorado','Texas','New York','Ohio'])\n",
    "frame"
   ],
   "outputs": [
    {
     "output_type": "execute_result",
     "data": {
      "text/plain": [
       "            Colorado     Texas  New York      Ohio\n",
       "2000-01-05  1.523008  0.884130  1.930557 -0.245223\n",
       "2000-01-12  0.664071  0.265214  2.739460  1.596986"
      ],
      "text/html": [
       "<div>\n",
       "<style scoped>\n",
       "    .dataframe tbody tr th:only-of-type {\n",
       "        vertical-align: middle;\n",
       "    }\n",
       "\n",
       "    .dataframe tbody tr th {\n",
       "        vertical-align: top;\n",
       "    }\n",
       "\n",
       "    .dataframe thead th {\n",
       "        text-align: right;\n",
       "    }\n",
       "</style>\n",
       "<table border=\"1\" class=\"dataframe\">\n",
       "  <thead>\n",
       "    <tr style=\"text-align: right;\">\n",
       "      <th></th>\n",
       "      <th>Colorado</th>\n",
       "      <th>Texas</th>\n",
       "      <th>New York</th>\n",
       "      <th>Ohio</th>\n",
       "    </tr>\n",
       "  </thead>\n",
       "  <tbody>\n",
       "    <tr>\n",
       "      <th>2000-01-05</th>\n",
       "      <td>1.523008</td>\n",
       "      <td>0.884130</td>\n",
       "      <td>1.930557</td>\n",
       "      <td>-0.245223</td>\n",
       "    </tr>\n",
       "    <tr>\n",
       "      <th>2000-01-12</th>\n",
       "      <td>0.664071</td>\n",
       "      <td>0.265214</td>\n",
       "      <td>2.739460</td>\n",
       "      <td>1.596986</td>\n",
       "    </tr>\n",
       "  </tbody>\n",
       "</table>\n",
       "</div>"
      ]
     },
     "metadata": {},
     "execution_count": 460
    }
   ],
   "metadata": {}
  },
  {
   "cell_type": "code",
   "execution_count": 461,
   "source": [
    "df_daily = frame.resample('D').asfreq()\n",
    "df_daily"
   ],
   "outputs": [
    {
     "output_type": "execute_result",
     "data": {
      "text/plain": [
       "            Colorado     Texas  New York      Ohio\n",
       "2000-01-05  1.523008  0.884130  1.930557 -0.245223\n",
       "2000-01-06       NaN       NaN       NaN       NaN\n",
       "2000-01-07       NaN       NaN       NaN       NaN\n",
       "2000-01-08       NaN       NaN       NaN       NaN\n",
       "2000-01-09       NaN       NaN       NaN       NaN\n",
       "2000-01-10       NaN       NaN       NaN       NaN\n",
       "2000-01-11       NaN       NaN       NaN       NaN\n",
       "2000-01-12  0.664071  0.265214  2.739460  1.596986"
      ],
      "text/html": [
       "<div>\n",
       "<style scoped>\n",
       "    .dataframe tbody tr th:only-of-type {\n",
       "        vertical-align: middle;\n",
       "    }\n",
       "\n",
       "    .dataframe tbody tr th {\n",
       "        vertical-align: top;\n",
       "    }\n",
       "\n",
       "    .dataframe thead th {\n",
       "        text-align: right;\n",
       "    }\n",
       "</style>\n",
       "<table border=\"1\" class=\"dataframe\">\n",
       "  <thead>\n",
       "    <tr style=\"text-align: right;\">\n",
       "      <th></th>\n",
       "      <th>Colorado</th>\n",
       "      <th>Texas</th>\n",
       "      <th>New York</th>\n",
       "      <th>Ohio</th>\n",
       "    </tr>\n",
       "  </thead>\n",
       "  <tbody>\n",
       "    <tr>\n",
       "      <th>2000-01-05</th>\n",
       "      <td>1.523008</td>\n",
       "      <td>0.884130</td>\n",
       "      <td>1.930557</td>\n",
       "      <td>-0.245223</td>\n",
       "    </tr>\n",
       "    <tr>\n",
       "      <th>2000-01-06</th>\n",
       "      <td>NaN</td>\n",
       "      <td>NaN</td>\n",
       "      <td>NaN</td>\n",
       "      <td>NaN</td>\n",
       "    </tr>\n",
       "    <tr>\n",
       "      <th>2000-01-07</th>\n",
       "      <td>NaN</td>\n",
       "      <td>NaN</td>\n",
       "      <td>NaN</td>\n",
       "      <td>NaN</td>\n",
       "    </tr>\n",
       "    <tr>\n",
       "      <th>2000-01-08</th>\n",
       "      <td>NaN</td>\n",
       "      <td>NaN</td>\n",
       "      <td>NaN</td>\n",
       "      <td>NaN</td>\n",
       "    </tr>\n",
       "    <tr>\n",
       "      <th>2000-01-09</th>\n",
       "      <td>NaN</td>\n",
       "      <td>NaN</td>\n",
       "      <td>NaN</td>\n",
       "      <td>NaN</td>\n",
       "    </tr>\n",
       "    <tr>\n",
       "      <th>2000-01-10</th>\n",
       "      <td>NaN</td>\n",
       "      <td>NaN</td>\n",
       "      <td>NaN</td>\n",
       "      <td>NaN</td>\n",
       "    </tr>\n",
       "    <tr>\n",
       "      <th>2000-01-11</th>\n",
       "      <td>NaN</td>\n",
       "      <td>NaN</td>\n",
       "      <td>NaN</td>\n",
       "      <td>NaN</td>\n",
       "    </tr>\n",
       "    <tr>\n",
       "      <th>2000-01-12</th>\n",
       "      <td>0.664071</td>\n",
       "      <td>0.265214</td>\n",
       "      <td>2.739460</td>\n",
       "      <td>1.596986</td>\n",
       "    </tr>\n",
       "  </tbody>\n",
       "</table>\n",
       "</div>"
      ]
     },
     "metadata": {},
     "execution_count": 461
    }
   ],
   "metadata": {}
  },
  {
   "cell_type": "code",
   "execution_count": 466,
   "source": [
    "frame.resample('D').ffill(limit=2) #limit을 줘서 2개 까지만 채움"
   ],
   "outputs": [
    {
     "output_type": "execute_result",
     "data": {
      "text/plain": [
       "            Colorado     Texas  New York      Ohio\n",
       "2000-01-05  1.523008  0.884130  1.930557 -0.245223\n",
       "2000-01-06  1.523008  0.884130  1.930557 -0.245223\n",
       "2000-01-07  1.523008  0.884130  1.930557 -0.245223\n",
       "2000-01-08       NaN       NaN       NaN       NaN\n",
       "2000-01-09       NaN       NaN       NaN       NaN\n",
       "2000-01-10       NaN       NaN       NaN       NaN\n",
       "2000-01-11       NaN       NaN       NaN       NaN\n",
       "2000-01-12  0.664071  0.265214  2.739460  1.596986"
      ],
      "text/html": [
       "<div>\n",
       "<style scoped>\n",
       "    .dataframe tbody tr th:only-of-type {\n",
       "        vertical-align: middle;\n",
       "    }\n",
       "\n",
       "    .dataframe tbody tr th {\n",
       "        vertical-align: top;\n",
       "    }\n",
       "\n",
       "    .dataframe thead th {\n",
       "        text-align: right;\n",
       "    }\n",
       "</style>\n",
       "<table border=\"1\" class=\"dataframe\">\n",
       "  <thead>\n",
       "    <tr style=\"text-align: right;\">\n",
       "      <th></th>\n",
       "      <th>Colorado</th>\n",
       "      <th>Texas</th>\n",
       "      <th>New York</th>\n",
       "      <th>Ohio</th>\n",
       "    </tr>\n",
       "  </thead>\n",
       "  <tbody>\n",
       "    <tr>\n",
       "      <th>2000-01-05</th>\n",
       "      <td>1.523008</td>\n",
       "      <td>0.884130</td>\n",
       "      <td>1.930557</td>\n",
       "      <td>-0.245223</td>\n",
       "    </tr>\n",
       "    <tr>\n",
       "      <th>2000-01-06</th>\n",
       "      <td>1.523008</td>\n",
       "      <td>0.884130</td>\n",
       "      <td>1.930557</td>\n",
       "      <td>-0.245223</td>\n",
       "    </tr>\n",
       "    <tr>\n",
       "      <th>2000-01-07</th>\n",
       "      <td>1.523008</td>\n",
       "      <td>0.884130</td>\n",
       "      <td>1.930557</td>\n",
       "      <td>-0.245223</td>\n",
       "    </tr>\n",
       "    <tr>\n",
       "      <th>2000-01-08</th>\n",
       "      <td>NaN</td>\n",
       "      <td>NaN</td>\n",
       "      <td>NaN</td>\n",
       "      <td>NaN</td>\n",
       "    </tr>\n",
       "    <tr>\n",
       "      <th>2000-01-09</th>\n",
       "      <td>NaN</td>\n",
       "      <td>NaN</td>\n",
       "      <td>NaN</td>\n",
       "      <td>NaN</td>\n",
       "    </tr>\n",
       "    <tr>\n",
       "      <th>2000-01-10</th>\n",
       "      <td>NaN</td>\n",
       "      <td>NaN</td>\n",
       "      <td>NaN</td>\n",
       "      <td>NaN</td>\n",
       "    </tr>\n",
       "    <tr>\n",
       "      <th>2000-01-11</th>\n",
       "      <td>NaN</td>\n",
       "      <td>NaN</td>\n",
       "      <td>NaN</td>\n",
       "      <td>NaN</td>\n",
       "    </tr>\n",
       "    <tr>\n",
       "      <th>2000-01-12</th>\n",
       "      <td>0.664071</td>\n",
       "      <td>0.265214</td>\n",
       "      <td>2.739460</td>\n",
       "      <td>1.596986</td>\n",
       "    </tr>\n",
       "  </tbody>\n",
       "</table>\n",
       "</div>"
      ]
     },
     "metadata": {},
     "execution_count": 466
    }
   ],
   "metadata": {}
  }
 ],
 "metadata": {
  "orig_nbformat": 4,
  "language_info": {
   "name": "python"
  }
 },
 "nbformat": 4,
 "nbformat_minor": 2
}