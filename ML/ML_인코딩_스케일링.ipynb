{
 "cells": [
  {
   "cell_type": "code",
   "execution_count": 3,
   "source": [
    "# Labelencoding\n",
    "# 컬럼 값들의 종류가 많을 때\n",
    "# 회귀에는 쓰이기 힘들다\n",
    "# 분류 모델 경우 사용가능\n",
    "\n",
    "from sklearn.preprocessing import LabelEncoder\n",
    "\n",
    "items = ['TV','냉장고','전자레인지','컴퓨터','선풍기','선풍기','믹서기','믹서기']\n",
    "\n",
    "encoder = LabelEncoder()\n",
    "\n",
    "labels = encoder.fit_transform(items)\n",
    "print('인코딩 변환값 :',labels)"
   ],
   "outputs": [
    {
     "output_type": "stream",
     "name": "stdout",
     "text": [
      "인코딩 변환값 : [0 1 4 5 3 3 2 2]\n"
     ]
    }
   ],
   "metadata": {}
  },
  {
   "cell_type": "code",
   "execution_count": 4,
   "source": [
    "print('인코딩 클래스:',encoder.classes_)"
   ],
   "outputs": [
    {
     "output_type": "stream",
     "name": "stdout",
     "text": [
      "인코딩 클래스: ['TV' '냉장고' '믹서기' '선풍기' '전자레인지' '컴퓨터']\n"
     ]
    }
   ],
   "metadata": {}
  },
  {
   "cell_type": "code",
   "execution_count": 7,
   "source": [
    "print('디코딩 원본 값 :',encoder.inverse_transform([0, 1, 4, 5, 3, 3, 2, 2]))"
   ],
   "outputs": [
    {
     "output_type": "stream",
     "name": "stdout",
     "text": [
      "디코딩 원본 값 : ['TV' '냉장고' '전자레인지' '컴퓨터' '선풍기' '선풍기' '믹서기' '믹서기']\n"
     ]
    }
   ],
   "metadata": {}
  },
  {
   "cell_type": "code",
   "execution_count": 15,
   "source": [
    "# Onehotencoding\n",
    "# \n",
    "from sklearn.preprocessing import OneHotEncoder\n",
    "import numpy as np\n",
    "\n",
    "items = ['TV','냉장고','전자레인지','컴퓨터','선풍기','선풍기','믹서기','믹서기']\n",
    "\n",
    "encoder = LabelEncoder()\n",
    "\n",
    "labels = encoder.fit_transform(items)\n",
    "labels = labels.reshape(-1,1)\n",
    "labels\n",
    "\n",
    "oh_encoder = OneHotEncoder()\n",
    "oh_labels = oh_encoder.fit_transform(labels)\n",
    "print('OneHotEncoding :')\n",
    "print(oh_labels.toarray())"
   ],
   "outputs": [
    {
     "output_type": "stream",
     "name": "stdout",
     "text": [
      "OneHotEncoding :\n",
      "[[1. 0. 0. 0. 0. 0.]\n",
      " [0. 1. 0. 0. 0. 0.]\n",
      " [0. 0. 0. 0. 1. 0.]\n",
      " [0. 0. 0. 0. 0. 1.]\n",
      " [0. 0. 0. 1. 0. 0.]\n",
      " [0. 0. 0. 1. 0. 0.]\n",
      " [0. 0. 1. 0. 0. 0.]\n",
      " [0. 0. 1. 0. 0. 0.]]\n"
     ]
    }
   ],
   "metadata": {}
  },
  {
   "cell_type": "code",
   "execution_count": 23,
   "source": [
    "# 과제\n",
    "import pandas as pd\n",
    "items = ['TV','냉장고','전자레인지','컴퓨터','선풍기','선풍기','믹서기','믹서기']\n",
    "\n",
    "# pd.get_dummies()를 사용하여 원핫인코딩 하세요.\n",
    "df = pd.DataFrame(items,columns=['전자제품'])\n",
    "pd.get_dummies(df)"
   ],
   "outputs": [
    {
     "output_type": "execute_result",
     "data": {
      "text/plain": [
       "   전자제품_TV  전자제품_냉장고  전자제품_믹서기  전자제품_선풍기  전자제품_전자레인지  전자제품_컴퓨터\n",
       "0        1         0         0         0           0         0\n",
       "1        0         1         0         0           0         0\n",
       "2        0         0         0         0           1         0\n",
       "3        0         0         0         0           0         1\n",
       "4        0         0         0         1           0         0\n",
       "5        0         0         0         1           0         0\n",
       "6        0         0         1         0           0         0\n",
       "7        0         0         1         0           0         0"
      ],
      "text/html": [
       "<div>\n",
       "<style scoped>\n",
       "    .dataframe tbody tr th:only-of-type {\n",
       "        vertical-align: middle;\n",
       "    }\n",
       "\n",
       "    .dataframe tbody tr th {\n",
       "        vertical-align: top;\n",
       "    }\n",
       "\n",
       "    .dataframe thead th {\n",
       "        text-align: right;\n",
       "    }\n",
       "</style>\n",
       "<table border=\"1\" class=\"dataframe\">\n",
       "  <thead>\n",
       "    <tr style=\"text-align: right;\">\n",
       "      <th></th>\n",
       "      <th>전자제품_TV</th>\n",
       "      <th>전자제품_냉장고</th>\n",
       "      <th>전자제품_믹서기</th>\n",
       "      <th>전자제품_선풍기</th>\n",
       "      <th>전자제품_전자레인지</th>\n",
       "      <th>전자제품_컴퓨터</th>\n",
       "    </tr>\n",
       "  </thead>\n",
       "  <tbody>\n",
       "    <tr>\n",
       "      <th>0</th>\n",
       "      <td>1</td>\n",
       "      <td>0</td>\n",
       "      <td>0</td>\n",
       "      <td>0</td>\n",
       "      <td>0</td>\n",
       "      <td>0</td>\n",
       "    </tr>\n",
       "    <tr>\n",
       "      <th>1</th>\n",
       "      <td>0</td>\n",
       "      <td>1</td>\n",
       "      <td>0</td>\n",
       "      <td>0</td>\n",
       "      <td>0</td>\n",
       "      <td>0</td>\n",
       "    </tr>\n",
       "    <tr>\n",
       "      <th>2</th>\n",
       "      <td>0</td>\n",
       "      <td>0</td>\n",
       "      <td>0</td>\n",
       "      <td>0</td>\n",
       "      <td>1</td>\n",
       "      <td>0</td>\n",
       "    </tr>\n",
       "    <tr>\n",
       "      <th>3</th>\n",
       "      <td>0</td>\n",
       "      <td>0</td>\n",
       "      <td>0</td>\n",
       "      <td>0</td>\n",
       "      <td>0</td>\n",
       "      <td>1</td>\n",
       "    </tr>\n",
       "    <tr>\n",
       "      <th>4</th>\n",
       "      <td>0</td>\n",
       "      <td>0</td>\n",
       "      <td>0</td>\n",
       "      <td>1</td>\n",
       "      <td>0</td>\n",
       "      <td>0</td>\n",
       "    </tr>\n",
       "    <tr>\n",
       "      <th>5</th>\n",
       "      <td>0</td>\n",
       "      <td>0</td>\n",
       "      <td>0</td>\n",
       "      <td>1</td>\n",
       "      <td>0</td>\n",
       "      <td>0</td>\n",
       "    </tr>\n",
       "    <tr>\n",
       "      <th>6</th>\n",
       "      <td>0</td>\n",
       "      <td>0</td>\n",
       "      <td>1</td>\n",
       "      <td>0</td>\n",
       "      <td>0</td>\n",
       "      <td>0</td>\n",
       "    </tr>\n",
       "    <tr>\n",
       "      <th>7</th>\n",
       "      <td>0</td>\n",
       "      <td>0</td>\n",
       "      <td>1</td>\n",
       "      <td>0</td>\n",
       "      <td>0</td>\n",
       "      <td>0</td>\n",
       "    </tr>\n",
       "  </tbody>\n",
       "</table>\n",
       "</div>"
      ]
     },
     "metadata": {},
     "execution_count": 23
    }
   ],
   "metadata": {}
  },
  {
   "cell_type": "code",
   "execution_count": 45,
   "source": [
    "# 과제\n",
    "# 붓꽃 데이터 셋의 독립변수들을 정규화 한 후 평균값과 분산값을 출력하세요.\n",
    "# - 0과 1 사이의 분포로 스케일링 : MINMAX\n",
    "# - 평균 0 표준편차 1인 분포로 스케일링 : STANDARD\n",
    "from sklearn.datasets import load_iris\n",
    "\n",
    "iris = load_iris()\n",
    "iris_data = iris.data\n",
    "iris_data = pd.DataFrame(iris_data,columns=iris.feature_names)\n",
    "\n",
    "from sklearn.preprocessing import MinMaxScaler\n",
    "from sklearn.preprocessing import StandardScaler\n",
    "\n",
    "mmscaler = MinMaxScaler()\n",
    "sscaler = StandardScaler()\n",
    "\n",
    "ms_iris_data = mmscaler.fit_transform(iris_data)\n",
    "ms_iris_data = pd.DataFrame(ms_iris_data,columns=iris_data.columns)\n",
    "ss_iris_data = sscaler.fit_transform(iris_data)\n",
    "ss_iris_data = pd.DataFrame(ss_iris_data,columns=iris_data.columns)\n",
    "\n",
    "\n",
    "na = iris_data.mean().round(3)\n",
    "nb = iris_data.std(ddof=1).round()\n",
    "\n",
    "a = ms_iris_data.mean().round(3)\n",
    "b = ms_iris_data.std(ddof=1).round(3)\n",
    "\n",
    "c = ss_iris_data.mean().round(3)\n",
    "d = ss_iris_data.std(ddof=1).round(3)\n",
    "\n",
    "print('기존 평균값 : {}, 분산값 : {}'.format(na,nb))\n",
    "print('MinMax 평균값 : {}, 분산값 : {}'.format(a,b))\n",
    "print('Standard 평균값 : {}, 분산값 : {}'.format(c,d))\n"
   ],
   "outputs": [
    {
     "output_type": "stream",
     "name": "stdout",
     "text": [
      "기존 평균값 : sepal length (cm)    5.843\n",
      "sepal width (cm)     3.057\n",
      "petal length (cm)    3.758\n",
      "petal width (cm)     1.199\n",
      "dtype: float64, 분산값 : sepal length (cm)    1.0\n",
      "sepal width (cm)     0.0\n",
      "petal length (cm)    2.0\n",
      "petal width (cm)     1.0\n",
      "dtype: float64\n",
      "MinMax 평균값 : sepal length (cm)    0.429\n",
      "sepal width (cm)     0.441\n",
      "petal length (cm)    0.467\n",
      "petal width (cm)     0.458\n",
      "dtype: float64, 분산값 : sepal length (cm)    0.230\n",
      "sepal width (cm)     0.182\n",
      "petal length (cm)    0.299\n",
      "petal width (cm)     0.318\n",
      "dtype: float64\n",
      "Standard 평균값 : sepal length (cm)   -0.0\n",
      "sepal width (cm)    -0.0\n",
      "petal length (cm)   -0.0\n",
      "petal width (cm)    -0.0\n",
      "dtype: float64, 분산값 : sepal length (cm)    1.003\n",
      "sepal width (cm)     1.003\n",
      "petal length (cm)    1.003\n",
      "petal width (cm)     1.003\n",
      "dtype: float64\n"
     ]
    }
   ],
   "metadata": {}
  }
 ],
 "metadata": {
  "orig_nbformat": 4,
  "language_info": {
   "name": "python",
   "version": "3.9.5",
   "mimetype": "text/x-python",
   "codemirror_mode": {
    "name": "ipython",
    "version": 3
   },
   "pygments_lexer": "ipython3",
   "nbconvert_exporter": "python",
   "file_extension": ".py"
  },
  "kernelspec": {
   "name": "python3",
   "display_name": "Python 3.9.5 64-bit ('base': conda)"
  },
  "interpreter": {
   "hash": "64b8baf5866ad1dbedeb0cd3ae4c1886f810db5825b7b513bb19ffce15d4415b"
  }
 },
 "nbformat": 4,
 "nbformat_minor": 2
}