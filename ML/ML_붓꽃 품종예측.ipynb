{
 "cells": [
  {
   "cell_type": "markdown",
   "source": [
    "데이터 분할\n",
    "- 의미 있는 분석 결과 도출을 위해서는 수집된 데이터를 분석을 위한 데이터로 전 처리 작업이 필요하다.\n",
    "- 전 처리 과정은 필요 없는 변수나 문제가 있는 이상치를 제거한다.\n",
    "- 데이터가 너무 크거나 모형을 만들거나 검증을 위해서는 데이터를 분할한다.\n",
    "- 데이터 분할에는 학습/테스트 데이터 분할과 변수를 줄이는 차원 축소 등이 있다.\n",
    "- 학습 데이터로 모델을 학습시키고 이렇게 학습된 모델을 통해서 예측이나 분석한다.\n",
    "- 시행을 통해서 얻은 결과값 혹은 예측 값을 실제 결과값과 비교하여 모델의 성능을 평가한다.\n",
    "- 데이터 분할을 위해서는 학습/테스트 데이터의 크기과 랜덤 샘플링 여부 등을 결정한다.\n",
    "- 일반적으로 학습 데이터와 테스트 데이터의 크기는 7:3, 8:2 로 분리한다.\n",
    "- 학습 데이터를 다시 분할해서 학습 데이터와 학습된 모델을 일차 검증하는 검증 데이터 3가지로 분할한다."
   ],
   "metadata": {}
  },
  {
   "cell_type": "markdown",
   "source": [
    "DT 파라미터\n",
    "\n",
    "- max_depth : 트리의 최대 깊이\n",
    "- max_features : 최적의 분할을 위해 고려할 최대 피처 개수\n",
    "- max_leaf_nodes : 말단 노드의 최대 개수\n",
    "- min_sample_split : 노드를 분할하기 위한 최소한의 샘플 데이터. 디폴트 2. 작게 설정할 수록 분할 되는 노드 증가. 과적합 가능성 증가\n",
    "- min_sample_split :\n",
    "\n",
    "의사결정 나무는 간단하게 if/else와 같이 특정 조건을 기준으로 나누어 분류/회귀를 진행하는 tree 구조의 분류/회귀 데이터마이닝 기법이다."
   ],
   "metadata": {}
  },
  {
   "cell_type": "markdown",
   "source": [
    "stats model 통계 / 통계 분석  \n",
    "sklearn model 머신러닝 / 모형예측 평가에 특화"
   ],
   "metadata": {}
  },
  {
   "cell_type": "code",
   "execution_count": 2,
   "source": [
    "from sklearn.datasets import load_iris\n",
    "from sklearn.tree import DecisionTreeClassifier\n",
    "from sklearn.model_selection import train_test_split\n"
   ],
   "outputs": [],
   "metadata": {}
  },
  {
   "cell_type": "code",
   "execution_count": 28,
   "source": [
    "import pandas as pd\n",
    "iris = load_iris()\n",
    "print(iris.keys())\n",
    "print('iris target 이름 :',iris.target_names)\n",
    "iris_data = iris.data # 독립변수\n",
    "iris_label = iris.target # 종속변수\n",
    "\n",
    "iris_df = pd.DataFrame(data=iris.data,columns=iris.feature_names)\n",
    "iris_df['label'] = iris.target\n",
    "iris_df.head()\n",
    "# iris_df.label.value_counts()"
   ],
   "outputs": [
    {
     "output_type": "stream",
     "name": "stdout",
     "text": [
      "dict_keys(['data', 'target', 'frame', 'target_names', 'DESCR', 'feature_names', 'filename'])\n",
      "iris target 이름 : ['setosa' 'versicolor' 'virginica']\n"
     ]
    },
    {
     "output_type": "execute_result",
     "data": {
      "text/plain": [
       "   sepal length (cm)  sepal width (cm)  petal length (cm)  petal width (cm)  \\\n",
       "0                5.1               3.5                1.4               0.2   \n",
       "1                4.9               3.0                1.4               0.2   \n",
       "2                4.7               3.2                1.3               0.2   \n",
       "3                4.6               3.1                1.5               0.2   \n",
       "4                5.0               3.6                1.4               0.2   \n",
       "\n",
       "   label  \n",
       "0      0  \n",
       "1      0  \n",
       "2      0  \n",
       "3      0  \n",
       "4      0  "
      ],
      "text/html": [
       "<div>\n",
       "<style scoped>\n",
       "    .dataframe tbody tr th:only-of-type {\n",
       "        vertical-align: middle;\n",
       "    }\n",
       "\n",
       "    .dataframe tbody tr th {\n",
       "        vertical-align: top;\n",
       "    }\n",
       "\n",
       "    .dataframe thead th {\n",
       "        text-align: right;\n",
       "    }\n",
       "</style>\n",
       "<table border=\"1\" class=\"dataframe\">\n",
       "  <thead>\n",
       "    <tr style=\"text-align: right;\">\n",
       "      <th></th>\n",
       "      <th>sepal length (cm)</th>\n",
       "      <th>sepal width (cm)</th>\n",
       "      <th>petal length (cm)</th>\n",
       "      <th>petal width (cm)</th>\n",
       "      <th>label</th>\n",
       "    </tr>\n",
       "  </thead>\n",
       "  <tbody>\n",
       "    <tr>\n",
       "      <th>0</th>\n",
       "      <td>5.1</td>\n",
       "      <td>3.5</td>\n",
       "      <td>1.4</td>\n",
       "      <td>0.2</td>\n",
       "      <td>0</td>\n",
       "    </tr>\n",
       "    <tr>\n",
       "      <th>1</th>\n",
       "      <td>4.9</td>\n",
       "      <td>3.0</td>\n",
       "      <td>1.4</td>\n",
       "      <td>0.2</td>\n",
       "      <td>0</td>\n",
       "    </tr>\n",
       "    <tr>\n",
       "      <th>2</th>\n",
       "      <td>4.7</td>\n",
       "      <td>3.2</td>\n",
       "      <td>1.3</td>\n",
       "      <td>0.2</td>\n",
       "      <td>0</td>\n",
       "    </tr>\n",
       "    <tr>\n",
       "      <th>3</th>\n",
       "      <td>4.6</td>\n",
       "      <td>3.1</td>\n",
       "      <td>1.5</td>\n",
       "      <td>0.2</td>\n",
       "      <td>0</td>\n",
       "    </tr>\n",
       "    <tr>\n",
       "      <th>4</th>\n",
       "      <td>5.0</td>\n",
       "      <td>3.6</td>\n",
       "      <td>1.4</td>\n",
       "      <td>0.2</td>\n",
       "      <td>0</td>\n",
       "    </tr>\n",
       "  </tbody>\n",
       "</table>\n",
       "</div>"
      ]
     },
     "metadata": {},
     "execution_count": 28
    }
   ],
   "metadata": {}
  },
  {
   "cell_type": "code",
   "execution_count": 29,
   "source": [
    "iris_df.info()"
   ],
   "outputs": [
    {
     "output_type": "stream",
     "name": "stdout",
     "text": [
      "<class 'pandas.core.frame.DataFrame'>\n",
      "RangeIndex: 150 entries, 0 to 149\n",
      "Data columns (total 5 columns):\n",
      " #   Column             Non-Null Count  Dtype  \n",
      "---  ------             --------------  -----  \n",
      " 0   sepal length (cm)  150 non-null    float64\n",
      " 1   sepal width (cm)   150 non-null    float64\n",
      " 2   petal length (cm)  150 non-null    float64\n",
      " 3   petal width (cm)   150 non-null    float64\n",
      " 4   label              150 non-null    int64  \n",
      "dtypes: float64(4), int64(1)\n",
      "memory usage: 6.0 KB\n"
     ]
    }
   ],
   "metadata": {}
  },
  {
   "cell_type": "code",
   "execution_count": 30,
   "source": [
    "# 학습용, 검증용 데이터 분리\n",
    "X_train,X_test,y_train,y_test = train_test_split(iris_data,iris_label,test_size=0.2,random_state=10)\n"
   ],
   "outputs": [],
   "metadata": {}
  },
  {
   "cell_type": "markdown",
   "source": [
    "X는 2차원 넘파이 배열이나 데이터프레임(2차원)  \n",
    "y는 1차원 넘파이 배열이나 시리즈(1차원)"
   ],
   "metadata": {}
  },
  {
   "cell_type": "code",
   "execution_count": 35,
   "source": [
    " # 학습수행\n",
    "dt_clf = DecisionTreeClassifier()\n",
    "dt_clf.fit(X_train,y_train)\n"
   ],
   "outputs": [
    {
     "output_type": "execute_result",
     "data": {
      "text/plain": [
       "DecisionTreeClassifier()"
      ]
     },
     "metadata": {},
     "execution_count": 35
    }
   ],
   "metadata": {}
  },
  {
   "cell_type": "code",
   "execution_count": 36,
   "source": [
    "# 예측 수행\n",
    "pred = dt_clf.predict(X_test)"
   ],
   "outputs": [],
   "metadata": {}
  },
  {
   "cell_type": "code",
   "execution_count": 37,
   "source": [
    "from sklearn.metrics import accuracy_score\n",
    "# 분산 분류 평가(더 중요 시험문제 많이 나옴) = accuracy_score \n",
    "\n",
    "print('예측 정확도 : {0:.4f}'.format(accuracy_score(y_test,pred)))"
   ],
   "outputs": [
    {
     "output_type": "stream",
     "name": "stdout",
     "text": [
      "예측 정확도 : 0.9667\n"
     ]
    }
   ],
   "metadata": {}
  }
 ],
 "metadata": {
  "orig_nbformat": 4,
  "language_info": {
   "name": "python",
   "version": "3.9.5",
   "mimetype": "text/x-python",
   "codemirror_mode": {
    "name": "ipython",
    "version": 3
   },
   "pygments_lexer": "ipython3",
   "nbconvert_exporter": "python",
   "file_extension": ".py"
  },
  "kernelspec": {
   "name": "python3",
   "display_name": "Python 3.9.5 64-bit ('base': conda)"
  },
  "interpreter": {
   "hash": "64b8baf5866ad1dbedeb0cd3ae4c1886f810db5825b7b513bb19ffce15d4415b"
  }
 },
 "nbformat": 4,
 "nbformat_minor": 2
}