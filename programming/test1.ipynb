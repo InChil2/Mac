{
 "cells": [
  {
   "cell_type": "code",
   "execution_count": 2,
   "id": "a16dc212",
   "metadata": {},
   "outputs": [
    {
     "name": "stdout",
     "output_type": "stream",
     "text": [
      "70.0\n"
     ]
    }
   ],
   "source": [
    "#연습문제 1 3가지 과목의 평균\n",
    "kor = 80\n",
    "eng = 75\n",
    "math = 55\n",
    "avg = (kor + eng + math) / 3\n",
    "print(avg)"
   ]
  },
  {
   "cell_type": "code",
   "execution_count": 6,
   "id": "5ed79b2a",
   "metadata": {},
   "outputs": [
    {
     "name": "stdout",
     "output_type": "stream",
     "text": [
      "홀수 입니다\n"
     ]
    }
   ],
   "source": [
    "#연습문제 2 짝수 홀수를 판별할 수 있는 방법\n",
    "a = 13\n",
    "if a % 2 == 0 :\n",
    "    print('짝수 입니다')\n",
    "else :\n",
    "    print('홀수 입니다')"
   ]
  },
  {
   "cell_type": "code",
   "execution_count": 13,
   "id": "bb5a3cd4",
   "metadata": {},
   "outputs": [
    {
     "name": "stdout",
     "output_type": "stream",
     "text": [
      "1068234\n",
      "881120\n"
     ]
    }
   ],
   "source": [
    "#연습문제 3 생년월일과 일련번호를 분리해 출력\n",
    "pin = \"881120-1068234\"\n",
    "yyyymmdd = pin[7:]\n",
    "num = pin[:6]\n",
    "print(yyyymmdd)\n",
    "print(num)"
   ]
  },
  {
   "cell_type": "code",
   "execution_count": 29,
   "id": "074ba9f2",
   "metadata": {},
   "outputs": [
    {
     "name": "stdout",
     "output_type": "stream",
     "text": [
      "1\n",
      "남성\n"
     ]
    }
   ],
   "source": [
    "#연습문제 4 주민등록번호로 성별을 구별하시오\n",
    "pin = \"881120-1068234\"\n",
    "print(pin[-7])\n",
    "\n",
    "a = pin[-7]\n",
    "b = int(a)\n",
    "if b - 1 == 0 :\n",
    "    print('남성')\n",
    "else :\n",
    "    print('여성')"
   ]
  },
  {
   "cell_type": "code",
   "execution_count": 32,
   "id": "b665678b",
   "metadata": {},
   "outputs": [
    {
     "name": "stdout",
     "output_type": "stream",
     "text": [
      "a#b#c#d\n"
     ]
    }
   ],
   "source": [
    "#연습문제 5 a:b:c:d 를 a#b#c#d로 바꾸시오\n",
    "a = 'a:b:c:d'\n",
    "b = a.replace(':','#')\n",
    "print(b)"
   ]
  },
  {
   "cell_type": "code",
   "execution_count": 30,
   "id": "fa31e1f5",
   "metadata": {},
   "outputs": [
    {
     "name": "stdout",
     "output_type": "stream",
     "text": [
      "[5, 4, 3, 2, 1]\n"
     ]
    }
   ],
   "source": [
    "#연습문제 6 [1,3,5,4,2]리스트를 [5,4,3,2,1] 로 변환\n",
    "a = [1,3,5,4,2]\n",
    "a.sort()\n",
    "a.reverse()\n",
    "print(a)"
   ]
  },
  {
   "cell_type": "code",
   "execution_count": 34,
   "id": "4d852471",
   "metadata": {},
   "outputs": [
    {
     "name": "stdout",
     "output_type": "stream",
     "text": [
      "['Life', 'is', 'too', 'short']\n",
      "Life is too short\n"
     ]
    }
   ],
   "source": [
    "#연습문제 7 a를 사이에 공백이 있는 문자열로 바꾸어 출력하시오\n",
    "a = ['Life', 'is', 'too', 'short']\n",
    "r = ' '.join(a)\n",
    "print(a)\n",
    "print(r)"
   ]
  },
  {
   "cell_type": "code",
   "execution_count": 37,
   "id": "5b219826",
   "metadata": {},
   "outputs": [
    {
     "name": "stdout",
     "output_type": "stream",
     "text": [
      "(1, 2, 3, 4)\n"
     ]
    }
   ],
   "source": [
    "#연습문제 8 (1,2,3) 튜플 값에 4를 추가하시오\n",
    "a = (1,2,3)\n",
    "a = a + (4,)\n",
    "print(a)"
   ]
  },
  {
   "cell_type": "code",
   "execution_count": 2,
   "id": "0d5bdb7c",
   "metadata": {},
   "outputs": [],
   "source": [
    "# Q. 내장함수를 이용해서 list = [0, 1, 2, 3, 4, 5, 6]에서 2를 삭제 후 출력하세요."
   ]
  },
  {
   "cell_type": "code",
   "execution_count": 3,
   "id": "de4c011f",
   "metadata": {},
   "outputs": [
    {
     "data": {
      "text/plain": [
       "[0, 1, 3, 4, 5, 6]"
      ]
     },
     "execution_count": 3,
     "metadata": {},
     "output_type": "execute_result"
    }
   ],
   "source": [
    "li = [0, 1, 2, 3, 4, 5, 6]\n",
    "li.remove(2)\n",
    "li"
   ]
  },
  {
   "cell_type": "code",
   "execution_count": 4,
   "id": "93be540b",
   "metadata": {},
   "outputs": [],
   "source": [
    "# Q. 내장함수를 이용해서 list = [0, 1, 2, 3, 4, 5, 6]에서 모든 원소를 삭제 후 \n",
    "# 출력하세요."
   ]
  },
  {
   "cell_type": "code",
   "execution_count": 5,
   "id": "def32431",
   "metadata": {},
   "outputs": [
    {
     "data": {
      "text/plain": [
       "[]"
      ]
     },
     "execution_count": 5,
     "metadata": {},
     "output_type": "execute_result"
    }
   ],
   "source": [
    "li = [0, 1, 2, 3, 4, 5, 6]\n",
    "del li[:]\n",
    "li"
   ]
  },
  {
   "cell_type": "code",
   "execution_count": 14,
   "id": "2f674a75",
   "metadata": {},
   "outputs": [
    {
     "name": "stdout",
     "output_type": "stream",
     "text": [
      "해당하지 않습니다.\n",
      "해당하지 않습니다.\n",
      "해당하지 않습니다.\n",
      "3이 포함되어 있습니다.\n",
      "해당하지 않습니다.\n",
      "해당하지 않습니다.\n",
      "해당하지 않습니다.\n",
      "[None, None, None, None, None, None, None]\n"
     ]
    }
   ],
   "source": [
    "# Q. list = [0, 1, 2, 3, 4, 5, 6]에 3, 7이 포함되어 있는 지 확인하세요.\n",
    "li = [0, 1, 2, 3, 4, 5, 6]\n",
    "def imp(a):\n",
    "    if a == 3 :\n",
    "        print('3이 포함되어 있습니다.')\n",
    "    elif a == 7 :\n",
    "        print('7이 포함되어 있습니다.')\n",
    "    else :\n",
    "        print('해당하지 않습니다.')\n",
    "        \n",
    "print(list(map(imp,li)))"
   ]
  },
  {
   "cell_type": "code",
   "execution_count": 17,
   "id": "60544488",
   "metadata": {},
   "outputs": [],
   "source": [
    "# Q. numbers 내부에 들어 있는 숫자가 몇 번 등장하는지를 출력하는 코드를 작성하세요.\n",
    "numbers = [3,6,3,5,8,2,9,7,4,3,6,3,5,8,2,9,7,4]"
   ]
  },
  {
   "cell_type": "code",
   "execution_count": 20,
   "id": "6e2c849f",
   "metadata": {},
   "outputs": [
    {
     "ename": "TypeError",
     "evalue": "'list' object cannot be interpreted as an integer",
     "output_type": "error",
     "traceback": [
      "\u001b[0;31m---------------------------------------------------------------------------\u001b[0m",
      "\u001b[0;31mTypeError\u001b[0m                                 Traceback (most recent call last)",
      "\u001b[0;32m<ipython-input-20-335e8d9df6ec>\u001b[0m in \u001b[0;36m<module>\u001b[0;34m\u001b[0m\n\u001b[0;32m----> 1\u001b[0;31m \u001b[0;32mfor\u001b[0m \u001b[0mi\u001b[0m \u001b[0;32min\u001b[0m \u001b[0mrange\u001b[0m\u001b[0;34m(\u001b[0m\u001b[0mnumbers\u001b[0m\u001b[0;34m)\u001b[0m\u001b[0;34m:\u001b[0m\u001b[0;34m\u001b[0m\u001b[0;34m\u001b[0m\u001b[0m\n\u001b[0m\u001b[1;32m      2\u001b[0m     \u001b[0mnum\u001b[0m \u001b[0;34m=\u001b[0m \u001b[0mnumbers\u001b[0m\u001b[0;34m.\u001b[0m\u001b[0mcount\u001b[0m\u001b[0;34m(\u001b[0m\u001b[0ma\u001b[0m\u001b[0;34m)\u001b[0m\u001b[0;34m\u001b[0m\u001b[0;34m\u001b[0m\u001b[0m\n\u001b[1;32m      3\u001b[0m     \u001b[0mprint\u001b[0m\u001b[0;34m(\u001b[0m\u001b[0mco\u001b[0m\u001b[0;34m)\u001b[0m\u001b[0;34m\u001b[0m\u001b[0;34m\u001b[0m\u001b[0m\n",
      "\u001b[0;31mTypeError\u001b[0m: 'list' object cannot be interpreted as an integer"
     ]
    }
   ],
   "source": [
    "for i in range(numbers):\n",
    "    num = numbers.count(a)\n",
    "    print(co)"
   ]
  },
  {
   "cell_type": "code",
   "execution_count": 24,
   "id": "0087f4a3",
   "metadata": {},
   "outputs": [
    {
     "name": "stdout",
     "output_type": "stream",
     "text": [
      "0번째는 a입니다\n",
      "1번째는 b입니다\n",
      "2번째는 c입니다\n"
     ]
    }
   ],
   "source": [
    "li = ['a','b','c']\n",
    "for i in li :\n",
    "    print('{}번째는 {}입니다'.format(li.index(i),i))"
   ]
  },
  {
   "cell_type": "code",
   "execution_count": 16,
   "id": "92064215",
   "metadata": {},
   "outputs": [
    {
     "data": {
      "text/plain": [
       "2"
      ]
     },
     "execution_count": 16,
     "metadata": {},
     "output_type": "execute_result"
    }
   ],
   "source": [
    "# Q. 아래를 완성하여 2를 출력하세요.\n",
    "a = 3\n",
    "def vartest(a):\n",
    "    a -= 1\n",
    "    return a\n",
    "vartest(a)"
   ]
  }
 ],
 "metadata": {
  "kernelspec": {
   "display_name": "Python 3",
   "language": "python",
   "name": "python3"
  },
  "language_info": {
   "codemirror_mode": {
    "name": "ipython",
    "version": 3
   },
   "file_extension": ".py",
   "mimetype": "text/x-python",
   "name": "python",
   "nbconvert_exporter": "python",
   "pygments_lexer": "ipython3",
   "version": "3.8.10"
  }
 },
 "nbformat": 4,
 "nbformat_minor": 5
}
