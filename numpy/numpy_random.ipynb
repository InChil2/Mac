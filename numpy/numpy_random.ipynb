{
 "cells": [
  {
   "cell_type": "code",
   "execution_count": 11,
   "source": [
    "# 파이썬 random 함수\n",
    "import random\n",
    "# print(random.random()) #0.0~ 1.0 사이 출력\n",
    "# print(random.randint(1,10)) #정수 반환\n",
    "# print(random.uniform(10,20)) #실수 반환 \n",
    "# random.randrange(10) #0~9 정수 반환\n",
    "# random.choice([1,2,3,4,5]) #리스트 중 랜덤하게 하나 반환\n",
    "\n",
    "i = [1,2,3,4,5]\n",
    "# random.sample(i,5) #samle(뽑을 리스트,뽑을 갯 수) 순서를 랜덤으로 중복이 안되게 사용 함 / 리스트 요소를 중복 안되게 추출해줌\n",
    "\n",
    "#random.shuffle(i) # 리스트를 랜덤 순서대로 섞음\n",
    "#i"
   ],
   "outputs": [
    {
     "output_type": "execute_result",
     "data": {
      "text/plain": [
       "[3, 2, 4, 5, 1]"
      ]
     },
     "metadata": {},
     "execution_count": 11
    }
   ],
   "metadata": {}
  },
  {
   "cell_type": "code",
   "execution_count": null,
   "source": [
    "# Numpy의 np.random\n",
    "# rand : 0 ~ 1 사이의 균일 분포\n",
    "# randn : (가우시안)표준 정규 분포\n",
    "# randint : 균일 분포의 정수 난수\n",
    "\n"
   ],
   "outputs": [],
   "metadata": {}
  },
  {
   "cell_type": "code",
   "execution_count": 14,
   "source": [
    "# 0.0 ~ 1.0 사이의 균일 분포인 실수\n",
    "import numpy as np\n",
    "np.random.seed(0)\n",
    "np.random.rand(5)"
   ],
   "outputs": [
    {
     "output_type": "execute_result",
     "data": {
      "text/plain": [
       "array([0.5488135 , 0.71518937, 0.60276338, 0.54488318, 0.4236548 ])"
      ]
     },
     "metadata": {},
     "execution_count": 14
    }
   ],
   "metadata": {}
  },
  {
   "cell_type": "code",
   "execution_count": 20,
   "source": [
    "\n",
    "np.random.randint(5) # 0 ~ 4 까지의 정수형 난수 출력\n",
    "np.random.randint(1,20)\n",
    "np.random.randint(10,size=10) # 중복 될 수 있음\n",
    "np.random.randint(10,20,size=10)\n",
    "np.random.randint(10,20,size=(3,5)) # 배열을 만들 수 있음"
   ],
   "outputs": [
    {
     "output_type": "execute_result",
     "data": {
      "text/plain": [
       "array([[13, 17, 15, 15, 10],\n",
       "       [11, 15, 19, 13, 10],\n",
       "       [15, 10, 11, 12, 14]])"
      ]
     },
     "metadata": {},
     "execution_count": 20
    }
   ],
   "metadata": {}
  },
  {
   "cell_type": "code",
   "execution_count": 135,
   "source": [
    "np.random.choice([1,2,3,4,5])\n",
    "np.random.choice(5,4,replace=False) # 0~4까지의 숫자 중 4개를 랜덤으로 추출 replace = 중복여부\n",
    "\n"
   ],
   "outputs": [
    {
     "output_type": "execute_result",
     "data": {
      "text/plain": [
       "array([4, 1, 0, 2])"
      ]
     },
     "metadata": {},
     "execution_count": 135
    }
   ],
   "metadata": {}
  },
  {
   "cell_type": "code",
   "execution_count": 154,
   "source": [
    "list = [1,2,3,4,5]\n",
    "np.random.shuffle(list) # list를 무작위로 섞음\n",
    "list"
   ],
   "outputs": [
    {
     "output_type": "execute_result",
     "data": {
      "text/plain": [
       "[2, 5, 1, 4, 3]"
      ]
     },
     "metadata": {},
     "execution_count": 154
    }
   ],
   "metadata": {}
  },
  {
   "cell_type": "code",
   "execution_count": 156,
   "source": [
    "np.random.randn(6)\n",
    "np.random.randn(3,2)"
   ],
   "outputs": [
    {
     "output_type": "execute_result",
     "data": {
      "text/plain": [
       "array([[-0.46780647, -0.12940171],\n",
       "       [ 0.90005154, -0.51565282],\n",
       "       [ 0.52039958,  1.14104995]])"
      ]
     },
     "metadata": {},
     "execution_count": 156
    }
   ],
   "metadata": {}
  },
  {
   "cell_type": "code",
   "execution_count": 178,
   "source": [
    "np.random.uniform(1,2,3) # 1 ~ 2 사이의 실수 3개를 뽑아줌\n",
    "np.random.uniform(0,1,(2,3)) # 0 ~ 1 사이의 실수를 2행 3열 형태로 출력"
   ],
   "outputs": [
    {
     "output_type": "execute_result",
     "data": {
      "text/plain": [
       "array([[0.02910001, 0.91953144, 0.542457  ],\n",
       "       [0.99114165, 0.38310289, 0.80666933]])"
      ]
     },
     "metadata": {},
     "execution_count": 178
    }
   ],
   "metadata": {}
  },
  {
   "cell_type": "code",
   "execution_count": 179,
   "source": [
    "# random_sample은 uniform 하수의 최소값, 최대값을 각각 0,1로 지정한 것과 같음\n",
    "np.random.random_sample((2,3))"
   ],
   "outputs": [
    {
     "output_type": "execute_result",
     "data": {
      "text/plain": [
       "<function RandomState.random>"
      ]
     },
     "metadata": {},
     "execution_count": 179
    }
   ],
   "metadata": {}
  },
  {
   "cell_type": "code",
   "execution_count": null,
   "source": [
    "# Q. 고객 구매데이터 생성(id, 성별, 연령, 지역, 상품, 가격, 구매시간) 하고 데이터 프레임으로 변환한 후 아래 사항을 수행하세요.\n",
    "## 구매 데이터 생성\n",
    "id : 1번 ~ 1000번 일련번호(관측치 1000개) \n",
    "gender : 0,1 정수 난수 생성 \n",
    "age : 10 ~ 80사이 정수 난수를 생성하고 범주화하여 age_cat 파생 \n",
    "region : 1 ~ 10 사이 정수 난수 생성 \n",
    "product : 1개 제품 이상 \n",
    "price_avg_19 : 1000 ~ 50000 사이 실수 난수 생성하고 범주화하여 price_avg_cat 파생 \n",
    "price_avg_20 : 1000 ~ 50000 사이 실수 난수 생성하고 범주화하여 price_avg_cat 파생 \n",
    "qty_19 : 1 ~ 100 사이 정수 난수 생성하여('19년 구매 수량) \n",
    "qty_20 : 1 ~ 100 사이 정수 난수 생성하여('20년 구매 수량) \n",
    "time_19 : 01 ~ 24 사이 정수 난수 생성하고 오전, 오후, 야간 으로 범주화하여  time_cat_19 파생('19년에 가장 자주 구매한 시간대) \n",
    "time_20 : 01 ~ 24 사이 정수 난수 생성하고 오전, 오후, 야간 으로 범주화하여 time_cat 파생  ('20년에 가장 자주 구매한 시간대)  \n",
    "구매액은 price * qty로 산출('19년, '20년 각각 계산)하여 pur_19, pur_20 컬럼으로 생성 \n",
    "종속변수(결과변수)는 (pur_20 - pur_19)으로 계산하여 구매액 증감을 0(감소), 1(증가)로  범주화하여 pur_gap 컬럼 생성 \n",
    "np.nan으로 각 컬럼별로 10개씩 null값을 삽입하고 각 칼럼의 특성을 고려한 null 값 처리 \n",
    "## 인사이트 도출\n",
    "통계적 분석 및 시각화하여 탐색한 후 불필요한 컬럼은 삭제하고 필요시 추가 파생변수 생성한 후 분석용 데이터셋을 작성하고 인사이트 3개 이상 도출\n",
    "인사이트 도출하지 못한 경우 데이터를 수정하여 다시 탐색한 후 인사이트 도출 및 기술\n",
    "## 데이터 ㅔ수정시 참조\n",
    "구매액 증감에 영향을 주는 주요 요인과 관련된 인사이트를 만들 수 있는 데이터로 변경하는 점에 중점을 둠\n",
    "구매 감소한 고객의 특성으로 성별, 지역, 선호제픔, 선호 구매시간대, 평균 구매가 level(저가, 중가, 고가)별로 데이터 수정\n",
    "연령, 성별로 상품유형, 구매단가, 구매시간대 등을 복합적으로 그룹화하여 데이터 특성 부여\n",
    "연도별로 상기한 사항들의 변동과 구매 감소간의 상관성을 부여하는 데이터 수정\n",
    "데이터 수정은 불린 인덱싱으로 특정 그룹을 선택한 후 고객 특성에 맞는 값으로 변경"
   ],
   "outputs": [],
   "metadata": {}
  },
  {
   "cell_type": "code",
   "execution_count": 427,
   "source": [
    "import numpy as np\n",
    "import pandas as pd\n",
    "import math\n",
    "from sklearn.preprocessing import LabelEncoder\n",
    "\n",
    "def price19_wow(a):\n",
    "    if a == 1:\n",
    "        price = np.random.uniform(1500,1600)\n",
    "    elif a == 2:\n",
    "        price = np.random.uniform(2400,2500)\n",
    "    elif a == 3:\n",
    "        price = np.random.uniform(3700,3800)\n",
    "    elif a == 4:\n",
    "        price = np.random.uniform(5900,6000)\n",
    "    elif a == 5:\n",
    "        price = np.random.uniform(8900,9000)\n",
    "    else:\n",
    "        price = '에러발생 : 19'\n",
    "    return price\n",
    "\n",
    "def price20_wow(a):\n",
    "    if a == 1:\n",
    "        price = np.random.uniform(2000,2100)\n",
    "    elif a == 2:\n",
    "        price = np.random.uniform(3200,3200)\n",
    "    elif a == 3:\n",
    "        price = np.random.uniform(4600,4700)\n",
    "    elif a == 4:\n",
    "        price = np.random.uniform(7300,7400)\n",
    "    elif a == 5:\n",
    "        price = np.random.uniform(42000,43000)\n",
    "    else:\n",
    "        price = '에러발생 : 20'\n",
    "    return price\n",
    "\n",
    "\n",
    "def pur(a,b):\n",
    "    pur = a * b\n",
    "    return pur\n",
    "\n",
    "def gap(a):\n",
    "    if a < 0:\n",
    "        z = 0\n",
    "    elif a > 0:\n",
    "        z = 1\n",
    "    else:\n",
    "        z = '에러발생 : gap'\n",
    "    return z\n",
    "    \n",
    "\n",
    "id = np.arange(1,1001) # id 일련번호 1부터 순차적으로 1000번까지 생성\n",
    "gender = np.random.randint(0,2,size=1000)\n",
    "age = np.random.randint(10,81,size=1000)\n",
    "region = np.random.randint(1,11,1000)\n",
    "product = np.random.randint(1,6,1000)\n",
    "qty_19 = np.random.randint(1,101,size=1000)\n",
    "qty_20 = np.random.randint(1,101,size=1000)\n",
    "time_19 = np.random.randint(1,25,size=1000)\n",
    "time_20 = np.random.randint(1,25,size=1000)\n",
    "\n",
    "\n",
    "df = pd.DataFrame({'id':id,'gender':gender,'age':age,'region':region,'product':product,'qty_19':qty_19,'qty_20':qty_20,'time_19':time_19,'time_20':time_20})\n",
    "price19_df = df['product'].apply(price19_wow)\n",
    "price20_df = df['product'].apply(price20_wow)\n",
    "\n",
    "df['price19'] = price19_df # 19년도 물건 가격\n",
    "qty_19_d = df['qty_19']\n",
    "\n",
    "df['price20'] = price20_df # 20년도 물건 가격\n",
    "qty_20_d = df['qty_20']\n",
    "\n",
    "price_19 = df['price19']\n",
    "pur_19_df = pur(price_19,qty_19_d)\n",
    "df['pur_19'] = pur_19_df # 19년도 구매액\n",
    "\n",
    "price_20 = df['price20']\n",
    "pur_20_df = pur(price_20,qty_20_d)\n",
    "df['pur_20'] = pur_20_df # 20년도 구매액\n",
    "\n",
    "pur_gap = df['pur_20'] - df['pur_19']\n",
    "df['pur_gap'] = pur_gap.apply(gap) # 구매액 증감\n",
    "\n",
    "\n",
    "#무작위 컬럼별 null값 10개 \n",
    "df.iloc[232:252:2,0] = np.nan\n",
    "df.iloc[132:152:2,1] = np.nan\n",
    "df.iloc[332:352:2,2] = np.nan\n",
    "df.iloc[632:652:2,3] = np.nan\n",
    "df.iloc[732:752:2,4] = np.nan\n",
    "df.iloc[32:52:2,5] = np.nan\n",
    "df.iloc[832:852:2,6] = np.nan\n",
    "df.iloc[932:962:3,7] = np.nan\n",
    "df.iloc[132:172:4,8] = np.nan\n",
    "df.iloc[232:302:7,9] = np.nan\n",
    "df.iloc[102:132:3,10] = np.nan\n",
    "df.iloc[532:552:2,11] = np.nan\n",
    "df.iloc[542:592:5,12] = np.nan\n",
    "df.iloc[2:52:5,13] = np.nan\n",
    "# 확인\n",
    "#print(df.isnull().sum())\n",
    "#df['id'] = df['id'].fillna(method='ffill')+1\n",
    "df = df.fillna(0)\n",
    "df =df.astype('int')\n",
    "##########################################################################\n",
    "# Null값 채우는 연습 이후 상관 없는 데이터 삭제\n",
    "df.drop(['id','region'],axis=1)\n",
    "##########################################################################\n",
    "\n",
    "# 남아 있는 데이터를 기준으로 기존의 데이터에 최대한 가깝게 복원\n",
    "# 이전에 있는 공식을 사용한다면 비어 있는 값은 자연스럽게 채워진다 :)\n",
    "\n",
    "price19_df = df['product'].apply(price19_wow)\n",
    "price20_df = df['product'].apply(price20_wow)\n",
    "\n",
    "df['price19'] = price19_df # 19년도 물건 가격\n",
    "qty_19_d = df['qty_19']\n",
    "\n",
    "df['price20'] = price20_df # 20년도 물건 가격\n",
    "qty_20_d = df['qty_20']\n",
    "\n",
    "price_19 = df['price19']\n",
    "pur_19_df = pur(price_19,qty_19_d)\n",
    "df['pur_19'] = pur_19_df # 19년도 구매액\n",
    "\n",
    "price_20 = df['price20']\n",
    "pur_20_df = pur(price_20,qty_20_d)\n",
    "df['pur_20'] = pur_20_df # 20년도 구매액\n",
    "\n",
    "\n",
    "df.corr() #상관관계를 파악하면 \n",
    "# gap은 qty19(19년 구매 수량). qty20(20년 구매 수량)의 상관 계수가 높은 걸 통해 구매 수량이 직접적으로 영향을 많이 끼치는 것을 알 수 있다.\n",
    "def pro_tr(a):\n",
    "    if a == 1:\n",
    "        product = '삼각김밥'\n",
    "    elif a == 2:\n",
    "        product = '콜라'\n",
    "    elif a == 3:\n",
    "        product = '도시락'\n",
    "    elif a == 4:\n",
    "        product = '보조배터리'\n",
    "    elif a == 5:\n",
    "        product = '명절선물세트'\n",
    "    else:\n",
    "        product = '불량품'\n",
    "    return product\n",
    "\n",
    "print(df['product'].unique())\n",
    "\n",
    "df['product'] = df['product'].apply(pro_tr)\n",
    "df_pd = pd.get_dummies(df['product'])\n",
    "df_pd.sum()\n",
    "\n",
    "\n",
    "\n",
    "\n",
    "\n",
    "\n"
   ],
   "outputs": [
    {
     "output_type": "stream",
     "name": "stdout",
     "text": [
      "[3 2 5 1 4 0]\n"
     ]
    },
    {
     "output_type": "execute_result",
     "data": {
      "text/plain": [
       "도시락       166\n",
       "명절선물세트    212\n",
       "보조배터리     219\n",
       "불량품        10\n",
       "삼각김밥      190\n",
       "콜라        203\n",
       "dtype: int64"
      ]
     },
     "metadata": {},
     "execution_count": 427
    }
   ],
   "metadata": {}
  },
  {
   "cell_type": "code",
   "execution_count": null,
   "source": [
    "# 가격대 별 구매 패턴\n",
    "# 거래 일 넣어보기 요일 별 인사이트\n",
    "# \n"
   ],
   "outputs": [],
   "metadata": {}
  }
 ],
 "metadata": {
  "orig_nbformat": 4,
  "language_info": {
   "name": "python"
  }
 },
 "nbformat": 4,
 "nbformat_minor": 2
}